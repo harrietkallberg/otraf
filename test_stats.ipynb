{
 "cells": [
  {
   "cell_type": "code",
   "execution_count": 1,
   "metadata": {},
   "outputs": [],
   "source": [
    "%load_ext autoreload\n",
    "%autoreload 2\n",
    "\n",
    "from statistical.data_availability import DataAvailability\n",
    "from statistical.data_retriever import DataRetriever\n",
    "from statistical.data_former import DataFormer\n",
    "from statistical.data_analyzer import DataAnalyzer\n",
    "\n",
    "from statistical.efficient_schedule_optimizer import ScheduleOptimizer\n"
   ]
  },
  {
   "cell_type": "code",
   "execution_count": 2,
   "metadata": {},
   "outputs": [
    {
     "name": "stdout",
     "output_type": "stream",
     "text": [
      "[(datetime.date(2021, 9, 1), datetime.date(2021, 12, 24)), (datetime.date(2022, 1, 28), datetime.date(2022, 11, 16)), (datetime.date(2022, 11, 18), datetime.date(2023, 2, 24)), (datetime.date(2023, 3, 1), datetime.date(2023, 4, 19)), (datetime.date(2023, 4, 21), datetime.date(2023, 5, 31)), (datetime.date(2023, 6, 2), datetime.date(2023, 9, 14)), (datetime.date(2023, 11, 2), datetime.date(2024, 6, 11))]\n"
     ]
    }
   ],
   "source": [
    "\n",
    "# Pick route and dates\n",
    "company = 'otraf'\n",
    "\n",
    "dave = DataAvailability()\n",
    "#continous_tripupd_periods = dave.find_continuous_periods('TripUpdates')\n",
    "cont_trip_upd = dave.find_continuous_periods('TripUpdates')\n",
    "\n",
    "print(cont_trip_upd)"
   ]
  },
  {
   "cell_type": "code",
   "execution_count": null,
   "metadata": {},
   "outputs": [],
   "source": []
  },
  {
   "cell_type": "code",
   "execution_count": 3,
   "metadata": {},
   "outputs": [
    {
     "name": "stdout",
     "output_type": "stream",
     "text": [
      "Processing data for 2021-09-01...\n"
     ]
    },
    {
     "name": "stderr",
     "output_type": "stream",
     "text": [
      "Loading data: 100%|██████████| 1/1 [00:03<00:00,  3.40s/it]\n"
     ]
    },
    {
     "name": "stdout",
     "output_type": "stream",
     "text": [
      "Processing data for 2021-09-02...\n"
     ]
    },
    {
     "name": "stderr",
     "output_type": "stream",
     "text": [
      "Loading data: 100%|██████████| 1/1 [00:03<00:00,  3.15s/it]\n"
     ]
    },
    {
     "name": "stdout",
     "output_type": "stream",
     "text": [
      "Processing data for 2021-09-03...\n"
     ]
    },
    {
     "name": "stderr",
     "output_type": "stream",
     "text": [
      "Loading data: 100%|██████████| 1/1 [00:03<00:00,  3.06s/it]\n"
     ]
    },
    {
     "name": "stdout",
     "output_type": "stream",
     "text": [
      "Processing data for 2021-09-04...\n"
     ]
    },
    {
     "name": "stderr",
     "output_type": "stream",
     "text": [
      "Loading data: 100%|██████████| 1/1 [00:02<00:00,  2.25s/it]\n"
     ]
    },
    {
     "name": "stdout",
     "output_type": "stream",
     "text": [
      "Processing data for 2021-09-05...\n"
     ]
    },
    {
     "name": "stderr",
     "output_type": "stream",
     "text": [
      "Loading data: 100%|██████████| 1/1 [00:02<00:00,  2.18s/it]\n"
     ]
    },
    {
     "name": "stdout",
     "output_type": "stream",
     "text": [
      "Processing data for 2021-09-06...\n"
     ]
    },
    {
     "name": "stderr",
     "output_type": "stream",
     "text": [
      "Loading data: 100%|██████████| 1/1 [00:03<00:00,  3.19s/it]\n"
     ]
    },
    {
     "name": "stdout",
     "output_type": "stream",
     "text": [
      "Processing data for 2021-09-07...\n"
     ]
    },
    {
     "name": "stderr",
     "output_type": "stream",
     "text": [
      "Loading data: 100%|██████████| 1/1 [00:04<00:00,  4.01s/it]\n"
     ]
    },
    {
     "name": "stdout",
     "output_type": "stream",
     "text": [
      "Processing data for 2021-09-08...\n"
     ]
    },
    {
     "name": "stderr",
     "output_type": "stream",
     "text": [
      "Loading data: 100%|██████████| 1/1 [00:03<00:00,  3.56s/it]\n"
     ]
    },
    {
     "name": "stdout",
     "output_type": "stream",
     "text": [
      "Processing data for 2021-09-09...\n"
     ]
    },
    {
     "name": "stderr",
     "output_type": "stream",
     "text": [
      "Loading data: 100%|██████████| 1/1 [00:03<00:00,  3.33s/it]\n"
     ]
    },
    {
     "name": "stdout",
     "output_type": "stream",
     "text": [
      "Processing data for 2021-09-10...\n"
     ]
    },
    {
     "name": "stderr",
     "output_type": "stream",
     "text": [
      "Loading data: 100%|██████████| 1/1 [00:03<00:00,  3.05s/it]\n"
     ]
    },
    {
     "name": "stdout",
     "output_type": "stream",
     "text": [
      "Processing data for 2021-09-11...\n"
     ]
    },
    {
     "name": "stderr",
     "output_type": "stream",
     "text": [
      "Loading data: 100%|██████████| 1/1 [00:02<00:00,  2.56s/it]\n"
     ]
    },
    {
     "name": "stdout",
     "output_type": "stream",
     "text": [
      "Processing data for 2021-09-12...\n"
     ]
    },
    {
     "name": "stderr",
     "output_type": "stream",
     "text": [
      "Loading data: 100%|██████████| 1/1 [00:02<00:00,  2.35s/it]\n"
     ]
    },
    {
     "name": "stdout",
     "output_type": "stream",
     "text": [
      "Processing data for 2021-09-13...\n"
     ]
    },
    {
     "name": "stderr",
     "output_type": "stream",
     "text": [
      "Loading data: 100%|██████████| 1/1 [00:03<00:00,  3.24s/it]\n"
     ]
    },
    {
     "name": "stdout",
     "output_type": "stream",
     "text": [
      "Processing data for 2021-09-14...\n"
     ]
    },
    {
     "name": "stderr",
     "output_type": "stream",
     "text": [
      "Loading data: 100%|██████████| 1/1 [00:03<00:00,  3.22s/it]\n"
     ]
    },
    {
     "name": "stdout",
     "output_type": "stream",
     "text": [
      "Processing data for 2021-09-15...\n"
     ]
    },
    {
     "name": "stderr",
     "output_type": "stream",
     "text": [
      "Loading data: 100%|██████████| 1/1 [00:03<00:00,  3.32s/it]\n"
     ]
    },
    {
     "name": "stdout",
     "output_type": "stream",
     "text": [
      "Processing data for 2021-09-16...\n"
     ]
    },
    {
     "name": "stderr",
     "output_type": "stream",
     "text": [
      "Loading data: 100%|██████████| 1/1 [00:03<00:00,  3.47s/it]\n"
     ]
    },
    {
     "name": "stdout",
     "output_type": "stream",
     "text": [
      "Processing data for 2021-09-17...\n"
     ]
    },
    {
     "name": "stderr",
     "output_type": "stream",
     "text": [
      "Loading data: 100%|██████████| 1/1 [00:03<00:00,  3.39s/it]\n"
     ]
    },
    {
     "name": "stdout",
     "output_type": "stream",
     "text": [
      "Processing data for 2021-09-18...\n"
     ]
    },
    {
     "name": "stderr",
     "output_type": "stream",
     "text": [
      "Loading data: 100%|██████████| 1/1 [00:02<00:00,  2.62s/it]\n"
     ]
    },
    {
     "name": "stdout",
     "output_type": "stream",
     "text": [
      "Processing data for 2021-09-19...\n"
     ]
    },
    {
     "name": "stderr",
     "output_type": "stream",
     "text": [
      "Loading data: 100%|██████████| 1/1 [00:02<00:00,  2.42s/it]\n"
     ]
    },
    {
     "name": "stdout",
     "output_type": "stream",
     "text": [
      "Processing data for 2021-09-20...\n"
     ]
    },
    {
     "name": "stderr",
     "output_type": "stream",
     "text": [
      "Loading data: 100%|██████████| 1/1 [00:03<00:00,  3.65s/it]\n"
     ]
    },
    {
     "name": "stdout",
     "output_type": "stream",
     "text": [
      "Processing data for 2021-09-21...\n"
     ]
    },
    {
     "name": "stderr",
     "output_type": "stream",
     "text": [
      "Loading data: 100%|██████████| 1/1 [00:03<00:00,  3.68s/it]\n"
     ]
    },
    {
     "name": "stdout",
     "output_type": "stream",
     "text": [
      "Processing data for 2021-09-22...\n"
     ]
    },
    {
     "name": "stderr",
     "output_type": "stream",
     "text": [
      "Loading data: 100%|██████████| 1/1 [00:04<00:00,  4.38s/it]\n"
     ]
    },
    {
     "name": "stdout",
     "output_type": "stream",
     "text": [
      "Processing data for 2021-09-23...\n"
     ]
    },
    {
     "name": "stderr",
     "output_type": "stream",
     "text": [
      "Loading data: 100%|██████████| 1/1 [00:03<00:00,  3.97s/it]\n"
     ]
    },
    {
     "name": "stdout",
     "output_type": "stream",
     "text": [
      "Processing data for 2021-09-24...\n"
     ]
    },
    {
     "name": "stderr",
     "output_type": "stream",
     "text": [
      "Loading data: 100%|██████████| 1/1 [00:04<00:00,  4.09s/it]\n"
     ]
    },
    {
     "name": "stdout",
     "output_type": "stream",
     "text": [
      "Processing data for 2021-09-25...\n"
     ]
    },
    {
     "name": "stderr",
     "output_type": "stream",
     "text": [
      "Loading data: 100%|██████████| 1/1 [00:02<00:00,  2.59s/it]\n"
     ]
    },
    {
     "name": "stdout",
     "output_type": "stream",
     "text": [
      "Processing data for 2021-09-26...\n"
     ]
    },
    {
     "name": "stderr",
     "output_type": "stream",
     "text": [
      "Loading data: 100%|██████████| 1/1 [00:02<00:00,  2.34s/it]\n"
     ]
    },
    {
     "name": "stdout",
     "output_type": "stream",
     "text": [
      "Processing data for 2021-09-27...\n"
     ]
    },
    {
     "name": "stderr",
     "output_type": "stream",
     "text": [
      "Loading data: 100%|██████████| 1/1 [00:03<00:00,  3.13s/it]\n"
     ]
    },
    {
     "name": "stdout",
     "output_type": "stream",
     "text": [
      "Processing data for 2021-09-28...\n"
     ]
    },
    {
     "name": "stderr",
     "output_type": "stream",
     "text": [
      "Loading data: 100%|██████████| 1/1 [00:03<00:00,  3.29s/it]\n"
     ]
    },
    {
     "name": "stdout",
     "output_type": "stream",
     "text": [
      "Processing data for 2021-09-29...\n"
     ]
    },
    {
     "name": "stderr",
     "output_type": "stream",
     "text": [
      "Loading data: 100%|██████████| 1/1 [00:03<00:00,  3.39s/it]\n"
     ]
    },
    {
     "name": "stdout",
     "output_type": "stream",
     "text": [
      "Processing data for 2021-09-30...\n"
     ]
    },
    {
     "name": "stderr",
     "output_type": "stream",
     "text": [
      "Loading data: 100%|██████████| 1/1 [00:04<00:00,  4.02s/it]\n"
     ]
    },
    {
     "name": "stdout",
     "output_type": "stream",
     "text": [
      "Processing data for 2021-10-01...\n"
     ]
    },
    {
     "name": "stderr",
     "output_type": "stream",
     "text": [
      "Loading data: 100%|██████████| 1/1 [00:04<00:00,  4.36s/it]\n"
     ]
    },
    {
     "name": "stdout",
     "output_type": "stream",
     "text": [
      "Processing data for 2021-10-02...\n"
     ]
    },
    {
     "name": "stderr",
     "output_type": "stream",
     "text": [
      "Loading data: 100%|██████████| 1/1 [00:02<00:00,  2.89s/it]\n"
     ]
    },
    {
     "name": "stdout",
     "output_type": "stream",
     "text": [
      "Processing data for 2021-10-03...\n"
     ]
    },
    {
     "name": "stderr",
     "output_type": "stream",
     "text": [
      "Loading data: 100%|██████████| 1/1 [00:02<00:00,  2.39s/it]\n"
     ]
    },
    {
     "name": "stdout",
     "output_type": "stream",
     "text": [
      "Processing data for 2021-10-04...\n"
     ]
    },
    {
     "name": "stderr",
     "output_type": "stream",
     "text": [
      "Loading data: 100%|██████████| 1/1 [00:03<00:00,  3.64s/it]\n"
     ]
    },
    {
     "name": "stdout",
     "output_type": "stream",
     "text": [
      "Processing data for 2021-10-05...\n"
     ]
    },
    {
     "name": "stderr",
     "output_type": "stream",
     "text": [
      "Loading data: 100%|██████████| 1/1 [00:03<00:00,  3.38s/it]\n"
     ]
    },
    {
     "name": "stdout",
     "output_type": "stream",
     "text": [
      "Processing data for 2021-10-06...\n"
     ]
    },
    {
     "name": "stderr",
     "output_type": "stream",
     "text": [
      "Loading data: 100%|██████████| 1/1 [00:03<00:00,  3.31s/it]\n"
     ]
    },
    {
     "name": "stdout",
     "output_type": "stream",
     "text": [
      "Processing data for 2021-10-07...\n"
     ]
    },
    {
     "name": "stderr",
     "output_type": "stream",
     "text": [
      "Loading data: 100%|██████████| 1/1 [00:03<00:00,  3.20s/it]\n"
     ]
    },
    {
     "name": "stdout",
     "output_type": "stream",
     "text": [
      "Processing data for 2021-10-08...\n"
     ]
    },
    {
     "name": "stderr",
     "output_type": "stream",
     "text": [
      "Loading data: 100%|██████████| 1/1 [00:03<00:00,  3.36s/it]\n"
     ]
    },
    {
     "name": "stdout",
     "output_type": "stream",
     "text": [
      "Processing data for 2021-10-09...\n"
     ]
    },
    {
     "name": "stderr",
     "output_type": "stream",
     "text": [
      "Loading data: 100%|██████████| 1/1 [00:02<00:00,  2.90s/it]\n"
     ]
    },
    {
     "name": "stdout",
     "output_type": "stream",
     "text": [
      "Processing data for 2021-10-10...\n"
     ]
    },
    {
     "name": "stderr",
     "output_type": "stream",
     "text": [
      "Loading data: 100%|██████████| 1/1 [00:02<00:00,  2.53s/it]\n"
     ]
    },
    {
     "name": "stdout",
     "output_type": "stream",
     "text": [
      "Processing data for 2021-10-11...\n"
     ]
    },
    {
     "name": "stderr",
     "output_type": "stream",
     "text": [
      "Loading data: 100%|██████████| 1/1 [00:03<00:00,  3.58s/it]\n"
     ]
    },
    {
     "name": "stdout",
     "output_type": "stream",
     "text": [
      "Processing data for 2021-10-12...\n"
     ]
    },
    {
     "name": "stderr",
     "output_type": "stream",
     "text": [
      "Loading data: 100%|██████████| 1/1 [00:03<00:00,  3.36s/it]\n"
     ]
    },
    {
     "name": "stdout",
     "output_type": "stream",
     "text": [
      "Processing data for 2021-10-13...\n"
     ]
    },
    {
     "name": "stderr",
     "output_type": "stream",
     "text": [
      "Loading data:   0%|          | 0/1 [00:00<?, ?it/s]"
     ]
    },
    {
     "name": "stdout",
     "output_type": "stream",
     "text": [
      "Using static data from 2021-10-12 instead of 2021-10-13\n"
     ]
    },
    {
     "name": "stderr",
     "output_type": "stream",
     "text": [
      "Loading data: 100%|██████████| 1/1 [00:01<00:00,  1.67s/it]\n"
     ]
    },
    {
     "name": "stdout",
     "output_type": "stream",
     "text": [
      "Processing data for 2021-10-14...\n"
     ]
    },
    {
     "name": "stderr",
     "output_type": "stream",
     "text": [
      "Loading data: 100%|██████████| 1/1 [00:02<00:00,  2.89s/it]\n"
     ]
    },
    {
     "name": "stdout",
     "output_type": "stream",
     "text": [
      "Processing data for 2021-10-15...\n"
     ]
    },
    {
     "name": "stderr",
     "output_type": "stream",
     "text": [
      "Loading data: 100%|██████████| 1/1 [00:03<00:00,  3.84s/it]\n"
     ]
    },
    {
     "name": "stdout",
     "output_type": "stream",
     "text": [
      "Processing data for 2021-10-16...\n"
     ]
    },
    {
     "name": "stderr",
     "output_type": "stream",
     "text": [
      "Loading data: 100%|██████████| 1/1 [00:02<00:00,  2.98s/it]\n"
     ]
    },
    {
     "name": "stdout",
     "output_type": "stream",
     "text": [
      "Processing data for 2021-10-17...\n"
     ]
    },
    {
     "name": "stderr",
     "output_type": "stream",
     "text": [
      "Loading data: 100%|██████████| 1/1 [00:02<00:00,  2.40s/it]\n"
     ]
    },
    {
     "name": "stdout",
     "output_type": "stream",
     "text": [
      "Processing data for 2021-10-18...\n"
     ]
    },
    {
     "name": "stderr",
     "output_type": "stream",
     "text": [
      "Loading data: 100%|██████████| 1/1 [00:03<00:00,  3.98s/it]\n"
     ]
    },
    {
     "name": "stdout",
     "output_type": "stream",
     "text": [
      "Processing data for 2021-10-19...\n"
     ]
    },
    {
     "name": "stderr",
     "output_type": "stream",
     "text": [
      "Loading data: 100%|██████████| 1/1 [00:04<00:00,  4.07s/it]\n"
     ]
    },
    {
     "name": "stdout",
     "output_type": "stream",
     "text": [
      "Processing data for 2021-10-20...\n"
     ]
    },
    {
     "name": "stderr",
     "output_type": "stream",
     "text": [
      "Loading data: 100%|██████████| 1/1 [00:04<00:00,  4.50s/it]\n"
     ]
    },
    {
     "name": "stdout",
     "output_type": "stream",
     "text": [
      "Processing data for 2021-10-21...\n"
     ]
    },
    {
     "name": "stderr",
     "output_type": "stream",
     "text": [
      "Loading data: 100%|██████████| 1/1 [00:03<00:00,  3.28s/it]\n"
     ]
    },
    {
     "name": "stdout",
     "output_type": "stream",
     "text": [
      "Processing data for 2021-10-22...\n"
     ]
    },
    {
     "name": "stderr",
     "output_type": "stream",
     "text": [
      "Loading data: 100%|██████████| 1/1 [00:03<00:00,  3.52s/it]\n"
     ]
    },
    {
     "name": "stdout",
     "output_type": "stream",
     "text": [
      "Processing data for 2021-10-23...\n"
     ]
    },
    {
     "name": "stderr",
     "output_type": "stream",
     "text": [
      "Loading data:   0%|          | 0/1 [00:00<?, ?it/s]"
     ]
    },
    {
     "name": "stdout",
     "output_type": "stream",
     "text": [
      "Using static data from 2021-10-22 instead of 2021-10-23\n"
     ]
    },
    {
     "name": "stderr",
     "output_type": "stream",
     "text": [
      "Loading data: 100%|██████████| 1/1 [00:02<00:00,  2.66s/it]\n"
     ]
    },
    {
     "name": "stdout",
     "output_type": "stream",
     "text": [
      "Processing data for 2021-10-24...\n"
     ]
    },
    {
     "name": "stderr",
     "output_type": "stream",
     "text": [
      "Loading data: 100%|██████████| 1/1 [00:03<00:00,  3.78s/it]\n"
     ]
    },
    {
     "name": "stdout",
     "output_type": "stream",
     "text": [
      "Processing data for 2021-10-25...\n"
     ]
    },
    {
     "name": "stderr",
     "output_type": "stream",
     "text": [
      "Loading data: 100%|██████████| 1/1 [00:02<00:00,  2.72s/it]\n"
     ]
    },
    {
     "name": "stdout",
     "output_type": "stream",
     "text": [
      "Processing data for 2021-10-26...\n"
     ]
    },
    {
     "name": "stderr",
     "output_type": "stream",
     "text": [
      "Loading data: 100%|██████████| 1/1 [00:03<00:00,  3.38s/it]\n"
     ]
    },
    {
     "name": "stdout",
     "output_type": "stream",
     "text": [
      "Processing data for 2021-10-27...\n"
     ]
    },
    {
     "name": "stderr",
     "output_type": "stream",
     "text": [
      "Loading data: 100%|██████████| 1/1 [00:03<00:00,  3.76s/it]\n"
     ]
    },
    {
     "name": "stdout",
     "output_type": "stream",
     "text": [
      "Processing data for 2021-10-28...\n"
     ]
    },
    {
     "name": "stderr",
     "output_type": "stream",
     "text": [
      "Loading data: 100%|██████████| 1/1 [00:03<00:00,  3.55s/it]\n"
     ]
    },
    {
     "name": "stdout",
     "output_type": "stream",
     "text": [
      "Processing data for 2021-10-29...\n"
     ]
    },
    {
     "name": "stderr",
     "output_type": "stream",
     "text": [
      "Loading data: 100%|██████████| 1/1 [00:04<00:00,  4.68s/it]\n"
     ]
    },
    {
     "name": "stdout",
     "output_type": "stream",
     "text": [
      "Processing data for 2021-10-30...\n"
     ]
    },
    {
     "name": "stderr",
     "output_type": "stream",
     "text": [
      "Loading data: 100%|██████████| 1/1 [00:02<00:00,  2.76s/it]\n"
     ]
    },
    {
     "name": "stdout",
     "output_type": "stream",
     "text": [
      "Processing data for 2021-10-31...\n"
     ]
    },
    {
     "name": "stderr",
     "output_type": "stream",
     "text": [
      "Loading data: 100%|██████████| 1/1 [00:03<00:00,  3.23s/it]\n"
     ]
    },
    {
     "name": "stdout",
     "output_type": "stream",
     "text": [
      "Processing data for 2021-11-01...\n"
     ]
    },
    {
     "name": "stderr",
     "output_type": "stream",
     "text": [
      "Loading data: 100%|██████████| 1/1 [00:03<00:00,  3.92s/it]\n"
     ]
    },
    {
     "name": "stdout",
     "output_type": "stream",
     "text": [
      "Processing data for 2021-11-02...\n"
     ]
    },
    {
     "name": "stderr",
     "output_type": "stream",
     "text": [
      "Loading data: 100%|██████████| 1/1 [00:03<00:00,  3.77s/it]\n"
     ]
    },
    {
     "name": "stdout",
     "output_type": "stream",
     "text": [
      "Processing data for 2021-11-03...\n"
     ]
    },
    {
     "name": "stderr",
     "output_type": "stream",
     "text": [
      "Loading data: 100%|██████████| 1/1 [00:04<00:00,  4.05s/it]\n"
     ]
    },
    {
     "name": "stdout",
     "output_type": "stream",
     "text": [
      "Processing data for 2021-11-04...\n"
     ]
    },
    {
     "name": "stderr",
     "output_type": "stream",
     "text": [
      "Loading data: 100%|██████████| 1/1 [00:04<00:00,  4.23s/it]\n"
     ]
    },
    {
     "name": "stdout",
     "output_type": "stream",
     "text": [
      "Processing data for 2021-11-05...\n"
     ]
    },
    {
     "name": "stderr",
     "output_type": "stream",
     "text": [
      "Loading data: 100%|██████████| 1/1 [00:04<00:00,  4.17s/it]\n"
     ]
    },
    {
     "name": "stdout",
     "output_type": "stream",
     "text": [
      "Processing data for 2021-11-06...\n"
     ]
    },
    {
     "name": "stderr",
     "output_type": "stream",
     "text": [
      "Loading data: 100%|██████████| 1/1 [00:03<00:00,  3.15s/it]\n"
     ]
    },
    {
     "name": "stdout",
     "output_type": "stream",
     "text": [
      "Processing data for 2021-11-07...\n"
     ]
    },
    {
     "name": "stderr",
     "output_type": "stream",
     "text": [
      "Loading data: 100%|██████████| 1/1 [00:03<00:00,  3.52s/it]\n"
     ]
    },
    {
     "name": "stdout",
     "output_type": "stream",
     "text": [
      "Processing data for 2021-11-08...\n"
     ]
    },
    {
     "name": "stderr",
     "output_type": "stream",
     "text": [
      "Loading data: 100%|██████████| 1/1 [00:05<00:00,  5.67s/it]\n"
     ]
    },
    {
     "name": "stdout",
     "output_type": "stream",
     "text": [
      "Processing data for 2021-11-09...\n"
     ]
    },
    {
     "name": "stderr",
     "output_type": "stream",
     "text": [
      "Loading data: 100%|██████████| 1/1 [00:03<00:00,  3.85s/it]\n"
     ]
    },
    {
     "name": "stdout",
     "output_type": "stream",
     "text": [
      "Processing data for 2021-11-10...\n"
     ]
    },
    {
     "name": "stderr",
     "output_type": "stream",
     "text": [
      "Loading data: 100%|██████████| 1/1 [00:03<00:00,  3.83s/it]\n"
     ]
    },
    {
     "name": "stdout",
     "output_type": "stream",
     "text": [
      "Processing data for 2021-11-11...\n"
     ]
    },
    {
     "name": "stderr",
     "output_type": "stream",
     "text": [
      "Loading data: 100%|██████████| 1/1 [00:04<00:00,  4.12s/it]\n"
     ]
    },
    {
     "name": "stdout",
     "output_type": "stream",
     "text": [
      "Processing data for 2021-11-12...\n"
     ]
    },
    {
     "name": "stderr",
     "output_type": "stream",
     "text": [
      "Loading data: 100%|██████████| 1/1 [00:03<00:00,  3.78s/it]\n"
     ]
    },
    {
     "name": "stdout",
     "output_type": "stream",
     "text": [
      "Processing data for 2021-11-13...\n"
     ]
    },
    {
     "name": "stderr",
     "output_type": "stream",
     "text": [
      "Loading data: 100%|██████████| 1/1 [00:04<00:00,  4.18s/it]\n"
     ]
    },
    {
     "name": "stdout",
     "output_type": "stream",
     "text": [
      "Processing data for 2021-11-14...\n"
     ]
    },
    {
     "name": "stderr",
     "output_type": "stream",
     "text": [
      "Loading data: 100%|██████████| 1/1 [00:02<00:00,  2.76s/it]\n"
     ]
    },
    {
     "name": "stdout",
     "output_type": "stream",
     "text": [
      "Processing data for 2021-11-15...\n"
     ]
    },
    {
     "name": "stderr",
     "output_type": "stream",
     "text": [
      "Loading data: 100%|██████████| 1/1 [00:04<00:00,  4.63s/it]\n"
     ]
    },
    {
     "name": "stdout",
     "output_type": "stream",
     "text": [
      "Processing data for 2021-11-16...\n"
     ]
    },
    {
     "name": "stderr",
     "output_type": "stream",
     "text": [
      "Loading data: 100%|██████████| 1/1 [00:04<00:00,  4.47s/it]\n"
     ]
    },
    {
     "name": "stdout",
     "output_type": "stream",
     "text": [
      "Processing data for 2021-11-17...\n"
     ]
    },
    {
     "name": "stderr",
     "output_type": "stream",
     "text": [
      "Loading data: 100%|██████████| 1/1 [00:04<00:00,  4.52s/it]\n"
     ]
    },
    {
     "name": "stdout",
     "output_type": "stream",
     "text": [
      "Processing data for 2021-11-18...\n"
     ]
    },
    {
     "name": "stderr",
     "output_type": "stream",
     "text": [
      "Loading data: 100%|██████████| 1/1 [00:04<00:00,  4.57s/it]\n"
     ]
    },
    {
     "name": "stdout",
     "output_type": "stream",
     "text": [
      "Processing data for 2021-11-19...\n"
     ]
    },
    {
     "name": "stderr",
     "output_type": "stream",
     "text": [
      "Loading data: 100%|██████████| 1/1 [00:04<00:00,  4.52s/it]\n"
     ]
    },
    {
     "name": "stdout",
     "output_type": "stream",
     "text": [
      "Processing data for 2021-11-20...\n"
     ]
    },
    {
     "name": "stderr",
     "output_type": "stream",
     "text": [
      "Loading data: 100%|██████████| 1/1 [00:04<00:00,  4.00s/it]\n"
     ]
    },
    {
     "name": "stdout",
     "output_type": "stream",
     "text": [
      "Processing data for 2021-11-21...\n"
     ]
    },
    {
     "name": "stderr",
     "output_type": "stream",
     "text": [
      "Loading data: 100%|██████████| 1/1 [00:03<00:00,  3.06s/it]\n"
     ]
    },
    {
     "name": "stdout",
     "output_type": "stream",
     "text": [
      "Processing data for 2021-11-22...\n"
     ]
    },
    {
     "name": "stderr",
     "output_type": "stream",
     "text": [
      "Loading data: 100%|██████████| 1/1 [00:04<00:00,  4.23s/it]\n"
     ]
    },
    {
     "name": "stdout",
     "output_type": "stream",
     "text": [
      "Processing data for 2021-11-23...\n"
     ]
    },
    {
     "name": "stderr",
     "output_type": "stream",
     "text": [
      "Loading data: 100%|██████████| 1/1 [00:04<00:00,  4.19s/it]\n"
     ]
    },
    {
     "name": "stdout",
     "output_type": "stream",
     "text": [
      "Processing data for 2021-11-24...\n"
     ]
    },
    {
     "name": "stderr",
     "output_type": "stream",
     "text": [
      "Loading data: 100%|██████████| 1/1 [00:04<00:00,  4.07s/it]\n"
     ]
    },
    {
     "name": "stdout",
     "output_type": "stream",
     "text": [
      "Processing data for 2021-11-25...\n"
     ]
    },
    {
     "name": "stderr",
     "output_type": "stream",
     "text": [
      "Loading data: 100%|██████████| 1/1 [00:04<00:00,  4.15s/it]\n"
     ]
    },
    {
     "name": "stdout",
     "output_type": "stream",
     "text": [
      "Processing data for 2021-11-26...\n"
     ]
    },
    {
     "name": "stderr",
     "output_type": "stream",
     "text": [
      "Loading data: 100%|██████████| 1/1 [00:04<00:00,  4.21s/it]\n"
     ]
    },
    {
     "name": "stdout",
     "output_type": "stream",
     "text": [
      "Processing data for 2021-11-27...\n"
     ]
    },
    {
     "name": "stderr",
     "output_type": "stream",
     "text": [
      "Loading data: 100%|██████████| 1/1 [00:03<00:00,  3.44s/it]\n"
     ]
    },
    {
     "name": "stdout",
     "output_type": "stream",
     "text": [
      "Processing data for 2021-11-28...\n"
     ]
    },
    {
     "name": "stderr",
     "output_type": "stream",
     "text": [
      "Loading data: 100%|██████████| 1/1 [00:02<00:00,  2.87s/it]\n"
     ]
    },
    {
     "name": "stdout",
     "output_type": "stream",
     "text": [
      "Processing data for 2021-11-29...\n"
     ]
    },
    {
     "name": "stderr",
     "output_type": "stream",
     "text": [
      "Loading data: 100%|██████████| 1/1 [00:03<00:00,  3.44s/it]\n"
     ]
    },
    {
     "name": "stdout",
     "output_type": "stream",
     "text": [
      "Processing data for 2021-11-30...\n"
     ]
    },
    {
     "name": "stderr",
     "output_type": "stream",
     "text": [
      "Loading data: 100%|██████████| 1/1 [00:04<00:00,  4.04s/it]\n"
     ]
    },
    {
     "name": "stdout",
     "output_type": "stream",
     "text": [
      "Processing data for 2021-12-01...\n"
     ]
    },
    {
     "name": "stderr",
     "output_type": "stream",
     "text": [
      "Loading data: 100%|██████████| 1/1 [00:04<00:00,  4.25s/it]\n"
     ]
    },
    {
     "name": "stdout",
     "output_type": "stream",
     "text": [
      "Processing data for 2021-12-02...\n"
     ]
    },
    {
     "name": "stderr",
     "output_type": "stream",
     "text": [
      "Loading data: 100%|██████████| 1/1 [00:04<00:00,  4.04s/it]\n"
     ]
    },
    {
     "name": "stdout",
     "output_type": "stream",
     "text": [
      "Processing data for 2021-12-03...\n"
     ]
    },
    {
     "name": "stderr",
     "output_type": "stream",
     "text": [
      "Loading data: 100%|██████████| 1/1 [00:04<00:00,  4.11s/it]\n"
     ]
    },
    {
     "name": "stdout",
     "output_type": "stream",
     "text": [
      "Processing data for 2021-12-04...\n"
     ]
    },
    {
     "name": "stderr",
     "output_type": "stream",
     "text": [
      "Loading data: 100%|██████████| 1/1 [00:03<00:00,  3.20s/it]\n"
     ]
    },
    {
     "name": "stdout",
     "output_type": "stream",
     "text": [
      "Processing data for 2021-12-05...\n"
     ]
    },
    {
     "name": "stderr",
     "output_type": "stream",
     "text": [
      "Loading data: 100%|██████████| 1/1 [00:03<00:00,  3.36s/it]\n"
     ]
    },
    {
     "name": "stdout",
     "output_type": "stream",
     "text": [
      "Processing data for 2021-12-06...\n"
     ]
    },
    {
     "name": "stderr",
     "output_type": "stream",
     "text": [
      "Loading data: 100%|██████████| 1/1 [00:04<00:00,  4.31s/it]\n"
     ]
    },
    {
     "name": "stdout",
     "output_type": "stream",
     "text": [
      "Processing data for 2021-12-07...\n"
     ]
    },
    {
     "name": "stderr",
     "output_type": "stream",
     "text": [
      "Loading data: 100%|██████████| 1/1 [00:04<00:00,  4.85s/it]\n"
     ]
    },
    {
     "name": "stdout",
     "output_type": "stream",
     "text": [
      "Processing data for 2021-12-08...\n"
     ]
    },
    {
     "name": "stderr",
     "output_type": "stream",
     "text": [
      "Loading data: 100%|██████████| 1/1 [00:04<00:00,  4.82s/it]\n"
     ]
    },
    {
     "name": "stdout",
     "output_type": "stream",
     "text": [
      "Processing data for 2021-12-09...\n"
     ]
    },
    {
     "name": "stderr",
     "output_type": "stream",
     "text": [
      "Loading data: 100%|██████████| 1/1 [00:04<00:00,  4.14s/it]\n"
     ]
    },
    {
     "name": "stdout",
     "output_type": "stream",
     "text": [
      "Processing data for 2021-12-10...\n"
     ]
    },
    {
     "name": "stderr",
     "output_type": "stream",
     "text": [
      "Loading data: 100%|██████████| 1/1 [00:04<00:00,  4.09s/it]\n"
     ]
    },
    {
     "name": "stdout",
     "output_type": "stream",
     "text": [
      "Processing data for 2021-12-11...\n"
     ]
    },
    {
     "name": "stderr",
     "output_type": "stream",
     "text": [
      "Loading data: 100%|██████████| 1/1 [00:03<00:00,  3.45s/it]\n"
     ]
    },
    {
     "name": "stdout",
     "output_type": "stream",
     "text": [
      "Processing data for 2021-12-12...\n"
     ]
    },
    {
     "name": "stderr",
     "output_type": "stream",
     "text": [
      "Loading data: 100%|██████████| 1/1 [00:03<00:00,  3.22s/it]\n"
     ]
    },
    {
     "name": "stdout",
     "output_type": "stream",
     "text": [
      "Processing data for 2021-12-13...\n"
     ]
    },
    {
     "name": "stderr",
     "output_type": "stream",
     "text": [
      "Loading data: 100%|██████████| 1/1 [00:04<00:00,  4.21s/it]\n"
     ]
    },
    {
     "name": "stdout",
     "output_type": "stream",
     "text": [
      "Processing data for 2021-12-14...\n"
     ]
    },
    {
     "name": "stderr",
     "output_type": "stream",
     "text": [
      "Loading data: 100%|██████████| 1/1 [00:04<00:00,  4.26s/it]\n"
     ]
    },
    {
     "name": "stdout",
     "output_type": "stream",
     "text": [
      "Processing data for 2021-12-15...\n"
     ]
    },
    {
     "name": "stderr",
     "output_type": "stream",
     "text": [
      "Loading data: 100%|██████████| 1/1 [00:04<00:00,  4.13s/it]\n"
     ]
    },
    {
     "name": "stdout",
     "output_type": "stream",
     "text": [
      "Processing data for 2021-12-16...\n"
     ]
    },
    {
     "name": "stderr",
     "output_type": "stream",
     "text": [
      "Loading data: 100%|██████████| 1/1 [00:04<00:00,  4.19s/it]\n"
     ]
    },
    {
     "name": "stdout",
     "output_type": "stream",
     "text": [
      "Processing data for 2021-12-17...\n"
     ]
    },
    {
     "name": "stderr",
     "output_type": "stream",
     "text": [
      "Loading data: 100%|██████████| 1/1 [00:03<00:00,  3.99s/it]\n"
     ]
    },
    {
     "name": "stdout",
     "output_type": "stream",
     "text": [
      "Processing data for 2021-12-18...\n"
     ]
    },
    {
     "name": "stderr",
     "output_type": "stream",
     "text": [
      "Loading data: 100%|██████████| 1/1 [00:02<00:00,  2.90s/it]\n"
     ]
    },
    {
     "name": "stdout",
     "output_type": "stream",
     "text": [
      "Processing data for 2021-12-19...\n"
     ]
    },
    {
     "name": "stderr",
     "output_type": "stream",
     "text": [
      "Loading data: 100%|██████████| 1/1 [00:02<00:00,  2.81s/it]\n"
     ]
    },
    {
     "name": "stdout",
     "output_type": "stream",
     "text": [
      "Processing data for 2021-12-20...\n"
     ]
    },
    {
     "name": "stderr",
     "output_type": "stream",
     "text": [
      "Loading data: 100%|██████████| 1/1 [00:04<00:00,  4.16s/it]\n"
     ]
    },
    {
     "name": "stdout",
     "output_type": "stream",
     "text": [
      "Processing data for 2021-12-21...\n"
     ]
    },
    {
     "name": "stderr",
     "output_type": "stream",
     "text": [
      "Loading data: 100%|██████████| 1/1 [00:04<00:00,  4.06s/it]\n"
     ]
    },
    {
     "name": "stdout",
     "output_type": "stream",
     "text": [
      "Processing data for 2021-12-22...\n"
     ]
    },
    {
     "name": "stderr",
     "output_type": "stream",
     "text": [
      "Loading data: 100%|██████████| 1/1 [00:03<00:00,  3.98s/it]\n"
     ]
    },
    {
     "name": "stdout",
     "output_type": "stream",
     "text": [
      "Processing data for 2021-12-23...\n"
     ]
    },
    {
     "name": "stderr",
     "output_type": "stream",
     "text": [
      "Loading data: 100%|██████████| 1/1 [00:04<00:00,  4.20s/it]\n"
     ]
    },
    {
     "name": "stdout",
     "output_type": "stream",
     "text": [
      "Processing data for 2021-12-24...\n"
     ]
    },
    {
     "name": "stderr",
     "output_type": "stream",
     "text": [
      "Loading data: 100%|██████████| 1/1 [00:02<00:00,  2.47s/it]\n"
     ]
    },
    {
     "name": "stdout",
     "output_type": "stream",
     "text": [
      "Total records collected: 10969764\n"
     ]
    }
   ],
   "source": [
    "import pandas as pd\n",
    "data_chunks = []\n",
    "for (start_date,end_date) in cont_trip_upd:\n",
    "    start_date_str = start_date.strftime('%Y-%m-%d')\n",
    "    end_date_str = end_date.strftime('%Y-%m-%d')\n",
    "    data_retriever = DataRetriever(start_date=start_date_str,end_date=end_date_str)\n",
    "    data_chunks.append(data_retriever.data)\n",
    "    break\n",
    "\n",
    "raw_data_all = pd.concat(data_chunks, ignore_index=True)"
   ]
  },
  {
   "cell_type": "code",
   "execution_count": 4,
   "metadata": {},
   "outputs": [
    {
     "name": "stdout",
     "output_type": "stream",
     "text": [
      "id                                                  55700500756574033\n",
      "trip_id                                             55700000060411146\n",
      "start_date                                                   20210901\n",
      "schedule_relationship                                       SCHEDULED\n",
      "vehicle_id                                           9031005920505743\n",
      "timestamp                                                  1630475645\n",
      "stop_sequence                                                    10.0\n",
      "stop_id                                              9022005001319002\n",
      "arrival_delay                                                     4.0\n",
      "observed_arrival_time                                      1630475520\n",
      "departure_delay                                                  24.0\n",
      "observed_departure_time                                    1630475540\n",
      "arrival_uncertainty                                               0.0\n",
      "departure_uncertainty                                             0.0\n",
      "tripUpdate_stopTimeUpdate_scheduleRelationship                   None\n",
      "scheduled_arrival_time                            2021-09-01 07:51:56\n",
      "scheduled_departure_time                          2021-09-01 07:51:56\n",
      "stop_headsign                                             Resecentrum\n",
      "pickup_type                                                         3\n",
      "drop_off_type                                                       3\n",
      "shape_dist_traveled                                           3322.53\n",
      "timepoint                                                           0\n",
      "stop_name                                             Drottningtorget\n",
      "stop_lat                                                    58.410157\n",
      "stop_lon                                                    15.634508\n",
      "location_type                                                       0\n",
      "parent_station                                       9021005001319000\n",
      "platform_code                                                       B\n",
      "route_id                                             9011005021100000\n",
      "direction_id                                                        0\n",
      "service_id                                                         10\n",
      "trip_headsign                                                     NaN\n",
      "shape_id                                                          162\n",
      "agency_id                                           55700000000001407\n",
      "route_short_name                                                   11\n",
      "route_long_name                                                   NaN\n",
      "route_type                                                        700\n",
      "route_desc                                                        NaN\n",
      "datetime                                          2021-09-01 05:54:05\n",
      "date                                                       2021-09-01\n",
      "Name: 20000, dtype: object\n"
     ]
    }
   ],
   "source": [
    "# Sätt pandas att visa alla kolumner och allt innehåll\n",
    "pd.set_option('display.max_columns', None)\n",
    "pd.set_option('display.max_colwidth', None)\n",
    "pd.set_option('display.width', None)\n",
    "\n",
    "# Visa första raden\n",
    "print(raw_data_all.iloc[20000])"
   ]
  },
  {
   "cell_type": "code",
   "execution_count": null,
   "metadata": {},
   "outputs": [],
   "source": []
  },
  {
   "cell_type": "code",
   "execution_count": 5,
   "metadata": {},
   "outputs": [],
   "source": [
    "import numpy as np"
   ]
  },
  {
   "cell_type": "code",
   "execution_count": 6,
   "metadata": {},
   "outputs": [],
   "source": [
    "# Create the replacement values first\n",
    "replacement_values = (\n",
    "    raw_data_all['route_id'].str[8:11]\n",
    ")\n",
    "\n",
    "# Fill only the NaN values\n",
    "raw_data_all['route_long_name'] = raw_data_all['route_long_name'].fillna(replacement_values)"
   ]
  },
  {
   "cell_type": "code",
   "execution_count": 7,
   "metadata": {},
   "outputs": [
    {
     "name": "stdout",
     "output_type": "stream",
     "text": [
      "['206' '202' '218' '213' '003' '002' 'Östgötapendeln' '201' '113' '110'\n",
      " '103' '204' '112' '211' '203' '482' '217' '111' '216' '416' '450' '661'\n",
      " '040' '205' '410' '030' '630' '459' '308' '432' '540' '440' '521' '433'\n",
      " '215' '613' '039' '058' '214' '522' '552' '655' '041' '520' '677' '539'\n",
      " '210' '631' '617' '616' '212' '620' '070' '413' '052' '623' '546' '429'\n",
      " '530' '046' '121' 'Kustpilen' '301' '615' '665' '566' '653' '612' '573'\n",
      " '045' '412' '417' '354' '303' '419' '484' '464' '535' '457' '513' '555'\n",
      " '074' '305' '486' '071' '681' '526' '545' '628' '572' '430' '355' '414'\n",
      " '302' '483' '221' '223' '574' '042' '059' '480' '444' '222' '571' '304'\n",
      " '629' '543' '120' '250' '075' '577' '471' '072' '065' '038' '670' '441'\n",
      " '232' '664' '663' '220' '249' '240' '243' '141' '241' '187' '452' '226'\n",
      " 'Servicelinje Kisa' '287' '356' '614' '538' '310' '309' '523'\n",
      " 'Anropsstyrd Stadstrafik Motala' 'Servicelinje Mjölby'\n",
      " 'Anropsstyrd Servicelinje']\n"
     ]
    }
   ],
   "source": [
    "print(raw_data_all['route_long_name'].unique())"
   ]
  },
  {
   "cell_type": "code",
   "execution_count": 8,
   "metadata": {},
   "outputs": [
    {
     "name": "stdout",
     "output_type": "stream",
     "text": [
      "Route 201: 419861 rows\n",
      "Route 202: 191492 rows\n",
      "Route 203: 257029 rows\n",
      "Route 204: 253045 rows\n",
      "Route 205: 517714 rows\n",
      "Route 206: 249737 rows\n",
      "Route 210: 277573 rows\n",
      "Route 211: 158018 rows\n",
      "Route 212: 133296 rows\n",
      "Route 213: 315235 rows\n",
      "Route 214: 265883 rows\n",
      "Route 215: 159674 rows\n",
      "Route 216: 266034 rows\n",
      "Route 217: 197685 rows\n",
      "Route 218: 110204 rows\n",
      "Route 220: 9569 rows\n",
      "Route 221: 10010 rows\n",
      "Route 222: 19610 rows\n",
      "Route 226: 48661 rows\n"
     ]
    }
   ],
   "source": [
    "num_list = [201, 202, 203, 204, 205, 206, 210, 211, 212, 213, 214, 215, 216, 217, 218, 220, 221, 222, 226]\n",
    "test_dataframes = {}\n",
    "\n",
    "for i in num_list:\n",
    "    test_df = raw_data_all[raw_data_all['route_long_name'] == f'{i}'].copy()  # Using f-string instead\n",
    "    test_dataframes[i] = test_df\n",
    "    print(f\"Route {i}: {len(test_df)} rows\")"
   ]
  },
  {
   "cell_type": "code",
   "execution_count": 9,
   "metadata": {},
   "outputs": [
    {
     "name": "stdout",
     "output_type": "stream",
     "text": [
      "<class 'type'>\n"
     ]
    }
   ],
   "source": [
    "import builtins\n",
    "str = builtins.str\n",
    "\n",
    "# Now test it\n",
    "print(type(str))  # Should show <class 'type'>"
   ]
  },
  {
   "cell_type": "code",
   "execution_count": 18,
   "metadata": {},
   "outputs": [
    {
     "name": "stdout",
     "output_type": "stream",
     "text": [
      "processing raw data for route 201\n",
      "Removing 0 duplicates.\n",
      "\n",
      "=== DEDUPLICATING STOP SEQUENCES ===\n",
      "Found 21 stop combinations with multiple sequences:\n",
      "\n",
      "  Abisko (Dir: 0)\n",
      "    Sequences found: {17.0: np.int64(8199), 16.0: np.int64(1278)}\n",
      "    Standardizing all to sequence: 17.0\n",
      "\n",
      "  Berga Söderleden (Dir: 1)\n",
      "    Sequences found: {15.0: np.int64(8388), 14.0: np.int64(1308)}\n",
      "    Standardizing all to sequence: 15.0\n",
      "\n",
      "  Bergdalsgatan (Dir: 1)\n",
      "    Sequences found: {13.0: np.int64(8388), 12.0: np.int64(1308)}\n",
      "    Standardizing all to sequence: 13.0\n",
      "\n",
      "  Blomgatan (Dir: 0)\n",
      "    Sequences found: {19.0: np.int64(8199), 18.0: np.int64(1278)}\n",
      "    Standardizing all to sequence: 19.0\n",
      "\n",
      "  Grindgatan (Dir: 1)\n",
      "    Sequences found: {19.0: np.int64(8388), 18.0: np.int64(1308)}\n",
      "    Standardizing all to sequence: 19.0\n",
      "\n",
      "  Hässlegatan (Dir: 1)\n",
      "    Sequences found: {22.0: np.int64(8389), 21.0: np.int64(1308)}\n",
      "    Standardizing all to sequence: 22.0\n",
      "\n",
      "  Klostergatan (Dir: 0)\n",
      "    Sequences found: {15.0: np.int64(8198), 14.0: np.int64(1278)}\n",
      "    Standardizing all to sequence: 15.0\n",
      "\n",
      "  Konsert & Kongress (Dir: 0)\n",
      "    Sequences found: {16.0: np.int64(8199), 15.0: np.int64(1278)}\n",
      "    Standardizing all to sequence: 16.0\n",
      "\n",
      "  Linköpings resecentrum (Dir: 0)\n",
      "    Sequences found: {14.0: np.int64(8198), 13.0: np.int64(1278)}\n",
      "    Standardizing all to sequence: 14.0\n",
      "\n",
      "  Majelden (Dir: 1)\n",
      "    Sequences found: {14.0: np.int64(8388), 13.0: np.int64(1308)}\n",
      "    Standardizing all to sequence: 14.0\n",
      "\n",
      "  Mellangården (Dir: 0)\n",
      "    Sequences found: {21.0: np.int64(8199), 20.0: np.int64(1278)}\n",
      "    Standardizing all to sequence: 21.0\n",
      "\n",
      "  Middagsgatan (Dir: 1)\n",
      "    Sequences found: {20.0: np.int64(8388), 19.0: np.int64(1308)}\n",
      "    Standardizing all to sequence: 20.0\n",
      "\n",
      "  Myntgatan (Dir: 1)\n",
      "    Sequences found: {18.0: np.int64(8388), 17.0: np.int64(1308)}\n",
      "    Standardizing all to sequence: 18.0\n",
      "\n",
      "  Resedan (Dir: 1)\n",
      "    Sequences found: {17.0: np.int64(8388), 16.0: np.int64(1308)}\n",
      "    Standardizing all to sequence: 17.0\n",
      "\n",
      "  Ridhusgatan (Dir: 1)\n",
      "    Sequences found: {16.0: np.int64(8388), 15.0: np.int64(1308)}\n",
      "    Standardizing all to sequence: 16.0\n",
      "\n",
      "  Rusthållaregården (Dir: 0)\n",
      "    Sequences found: {20.0: np.int64(8199), 19.0: np.int64(1278)}\n",
      "    Standardizing all to sequence: 20.0\n",
      "\n",
      "  Skäggetorp centrum (Dir: 0)\n",
      "    Sequences found: {22.0: np.int64(8199), 21.0: np.int64(1278)}\n",
      "    Standardizing all to sequence: 22.0\n",
      "\n",
      "  Strågatan (Dir: 1)\n",
      "    Sequences found: {21.0: np.int64(8388), 20.0: np.int64(1308)}\n",
      "    Standardizing all to sequence: 21.0\n",
      "\n",
      "  Tinnerbäcksbadet (Dir: 1)\n",
      "    Sequences found: {12.0: np.int64(8388), 11.0: np.int64(1308)}\n",
      "    Standardizing all to sequence: 12.0\n",
      "\n",
      "  Trädgårdstorget (Dir: 1)\n",
      "    Sequences found: {11.0: np.int64(8386), 10.0: np.int64(1308)}\n",
      "    Standardizing all to sequence: 11.0\n",
      "\n",
      "  Åbylund (Dir: 0)\n",
      "    Sequences found: {18.0: np.int64(8199), 17.0: np.int64(1278)}\n",
      "    Standardizing all to sequence: 18.0\n",
      "\n",
      "Corrected 27198 stop sequence values\n",
      "\n",
      "Found 19 potential stop pairs to process\n",
      "\n",
      "Corrected a total of 0 direction assignments for 0 stops\n",
      "\n",
      "=== DETECTING SEQUENCE ROOT CAUSES ===\n",
      "\n",
      "=== ANALYZING SEQUENCE ROOT CAUSES - DIRECTION 0 ===\n",
      "  ROOT CAUSE DETECTED: Kungsgatan (Direction 0)\n",
      "    Sequence 13.0: 9471 → 8194 → 9476\n",
      "    Proportion Passes first: 0.865167352972231, Proportion Passes Second: 1.0005279273571956\n",
      "    Next stop 'Linköpings resecentrum' had sequence corrections\n",
      "\n",
      "=== ANALYZING SEQUENCE ROOT CAUSES - DIRECTION 1 ===\n",
      "  ROOT CAUSE DETECTED: Kungsgatan (Direction 1)\n",
      "    Sequence 10.0: 9769 → 8385 → 9694\n",
      "    Proportion Passes first: 0.8583273620636708, Proportion Passes Second: 0.9923226532910226\n",
      "    Next stop 'Trädgårdstorget' had sequence corrections\n",
      "\n",
      "Identified 1 root cause stop\n",
      "WARNING: 1 stops identified as root causes: Kungsgatan\n",
      "Memory optimization: 550.95 MB → 218.86 MB (60.3% reduction)\n",
      "\n",
      "=== CATEGORIZING STOPS ===\n",
      "\n",
      "Analyzing: Abisko\n",
      "  Mapped to stop_ids: ['9022005001219001', '9022005001219002']\n",
      "    9022005001219001: directional (directions: [np.int64(1)])\n",
      "    9022005001219002: directional (directions: [np.int64(0)])\n",
      "  Final Classification: Bidirectional - Minor (Severity: 1)\n",
      "    Issue: Issues detected and successfully resolved: sequence standardized.\n",
      "\n",
      "Analyzing: Berga Söderleden\n",
      "  Mapped to stop_ids: ['9022005000043001', '9022005000043002']\n",
      "    9022005000043001: directional (directions: [np.int64(1)])\n",
      "    9022005000043002: directional (directions: [np.int64(0)])\n",
      "  Final Classification: Bidirectional - Minor (Severity: 1)\n",
      "    Issue: Issues detected and successfully resolved: sequence standardized.\n",
      "\n",
      "Analyzing: Bergdalsgatan\n",
      "  Mapped to stop_ids: ['9022005001222001']\n",
      "    9022005001222001: directional (directions: [np.int64(1)])\n",
      "  Final Classification: Unidirectional - Minor (Severity: 1)\n",
      "    Issue: Issues detected and successfully resolved: sequence standardized.\n",
      "\n",
      "Analyzing: Blomgatan\n",
      "  Mapped to stop_ids: ['9022005001235001', '9022005001235002']\n",
      "    9022005001235001: directional (directions: [np.int64(1)])\n",
      "    9022005001235002: directional (directions: [np.int64(0)])\n",
      "  Final Classification: Bidirectional - Minor (Severity: 1)\n",
      "    Issue: Issues detected and successfully resolved: sequence standardized.\n",
      "\n",
      "Analyzing: Folkungavallen\n",
      "  Mapped to stop_ids: ['9022005001221002']\n",
      "    9022005001221002: directional (directions: [np.int64(0)])\n",
      "  Final Classification: Unidirectional - Normal (Severity: 0)\n",
      "\n",
      "Analyzing: Grindgatan\n",
      "  Mapped to stop_ids: ['9022005001233001', '9022005001233002']\n",
      "    9022005001233001: directional (directions: [np.int64(1)])\n",
      "    9022005001233002: directional (directions: [np.int64(0)])\n",
      "  Final Classification: Bidirectional - Minor (Severity: 1)\n",
      "    Issue: Issues detected and successfully resolved: sequence standardized.\n",
      "\n",
      "Analyzing: Hässlegatan\n",
      "  Mapped to stop_ids: ['9022005000044001']\n",
      "    9022005000044001: shared (directions: [np.int64(1), np.int64(0)])\n",
      "  Final Classification: Shared - Minor (Severity: 1)\n",
      "    Issue: Issues detected and successfully resolved: sequence standardized.\n",
      "\n",
      "Analyzing: Klostergatan\n",
      "  Mapped to stop_ids: ['9022005001223001', '9022005001223002']\n",
      "    9022005001223001: directional (directions: [np.int64(1)])\n",
      "    9022005001223002: directional (directions: [np.int64(0)])\n",
      "  Final Classification: Bidirectional - Minor (Severity: 1)\n",
      "    Issue: Issues detected and successfully resolved: sequence standardized.\n",
      "\n",
      "Analyzing: Konsert & Kongress\n",
      "  Mapped to stop_ids: ['9022005000417001', '9022005000417003']\n",
      "    9022005000417001: directional (directions: [np.int64(1)])\n",
      "    9022005000417003: directional (directions: [np.int64(0)])\n",
      "  Final Classification: Bidirectional - Minor (Severity: 1)\n",
      "    Issue: Issues detected and successfully resolved: sequence standardized.\n",
      "\n",
      "Analyzing: Kungsgatan\n",
      "  Mapped to stop_ids: ['9022005001243001', '9022005001243002']\n",
      "    9022005001243001: directional (directions: [np.int64(1)])\n",
      "    9022005001243002: directional (directions: [np.int64(0)])\n",
      "  Final Classification: Bidirectional - Severe (Severity: 2)\n",
      "    Issue: Unresolved issues: sequence root cause.\n",
      "\n",
      "Analyzing: Linköpings resecentrum\n",
      "  Mapped to stop_ids: ['9022005000050002', '9022005000050003']\n",
      "    9022005000050002: directional (directions: [np.int64(1)])\n",
      "    9022005000050003: directional (directions: [np.int64(0)])\n",
      "  Final Classification: Bidirectional - Minor (Severity: 1)\n",
      "    Issue: Issues detected and successfully resolved: sequence standardized.\n",
      "\n",
      "Analyzing: Majelden\n",
      "  Mapped to stop_ids: ['9022005001227001', '9022005001227002']\n",
      "    9022005001227001: directional (directions: [np.int64(1)])\n",
      "    9022005001227002: directional (directions: [np.int64(0)])\n",
      "  Final Classification: Bidirectional - Minor (Severity: 1)\n",
      "    Issue: Issues detected and successfully resolved: sequence standardized.\n",
      "\n",
      "Analyzing: Mellangården\n",
      "  Mapped to stop_ids: ['9022005001411001', '9022005001411002']\n",
      "    9022005001411001: directional (directions: [np.int64(1)])\n",
      "    9022005001411002: directional (directions: [np.int64(0)])\n",
      "  Final Classification: Bidirectional - Minor (Severity: 1)\n",
      "    Issue: Issues detected and successfully resolved: sequence standardized.\n",
      "\n",
      "Analyzing: Middagsgatan\n",
      "  Mapped to stop_ids: ['9022005001230001', '9022005001230002']\n",
      "    9022005001230001: directional (directions: [np.int64(1)])\n",
      "    9022005001230002: directional (directions: [np.int64(0)])\n",
      "  Final Classification: Bidirectional - Minor (Severity: 1)\n",
      "    Issue: Issues detected and successfully resolved: sequence standardized.\n",
      "\n",
      "Analyzing: Myntgatan\n",
      "  Mapped to stop_ids: ['9022005001232001', '9022005001232002']\n",
      "    9022005001232001: directional (directions: [np.int64(1)])\n",
      "    9022005001232002: directional (directions: [np.int64(0)])\n",
      "  Final Classification: Bidirectional - Minor (Severity: 1)\n",
      "    Issue: Issues detected and successfully resolved: sequence standardized.\n",
      "\n",
      "Analyzing: Resedan\n",
      "  Mapped to stop_ids: ['9022005000045001', '9022005000045002']\n",
      "    9022005000045001: directional (directions: [np.int64(1)])\n",
      "    9022005000045002: directional (directions: [np.int64(0)])\n",
      "  Final Classification: Bidirectional - Minor (Severity: 1)\n",
      "    Issue: Issues detected and successfully resolved: sequence standardized.\n",
      "\n",
      "Analyzing: Ridhusgatan\n",
      "  Mapped to stop_ids: ['9022005001231001', '9022005001231002']\n",
      "    9022005001231001: directional (directions: [np.int64(1)])\n",
      "    9022005001231002: directional (directions: [np.int64(0)])\n",
      "  Final Classification: Bidirectional - Minor (Severity: 1)\n",
      "    Issue: Issues detected and successfully resolved: sequence standardized.\n",
      "\n",
      "Analyzing: Rusthållaregården\n",
      "  Mapped to stop_ids: ['9022005001236001', '9022005001236003']\n",
      "    9022005001236001: directional (directions: [np.int64(1)])\n",
      "    9022005001236003: directional (directions: [np.int64(0)])\n",
      "  Final Classification: Bidirectional - Minor (Severity: 1)\n",
      "    Issue: Issues detected and successfully resolved: sequence standardized.\n",
      "\n",
      "Analyzing: Skäggetorp centrum\n",
      "  Mapped to stop_ids: ['9022005000048001']\n",
      "    9022005000048001: shared (directions: [np.int64(1), np.int64(0)])\n",
      "  Final Classification: Shared - Minor (Severity: 1)\n",
      "    Issue: Issues detected and successfully resolved: sequence standardized.\n",
      "\n",
      "Analyzing: Strågatan\n",
      "  Mapped to stop_ids: ['9022005001229001', '9022005001229002']\n",
      "    9022005001229001: directional (directions: [np.int64(1)])\n",
      "    9022005001229002: directional (directions: [np.int64(0)])\n",
      "  Final Classification: Bidirectional - Minor (Severity: 1)\n",
      "    Issue: Issues detected and successfully resolved: sequence standardized.\n",
      "\n",
      "Analyzing: Tinnerbäcksbadet\n",
      "  Mapped to stop_ids: ['9022005000042001', '9022005000042002']\n",
      "    9022005000042001: directional (directions: [np.int64(1)])\n",
      "    9022005000042002: directional (directions: [np.int64(0)])\n",
      "  Final Classification: Bidirectional - Minor (Severity: 1)\n",
      "    Issue: Issues detected and successfully resolved: sequence standardized.\n",
      "\n",
      "Analyzing: Trädgårdstorget\n",
      "  Mapped to stop_ids: ['9022005000046003', '9022005000046004']\n",
      "    9022005000046003: directional (directions: [np.int64(1)])\n",
      "    9022005000046004: directional (directions: [np.int64(0)])\n",
      "  Final Classification: Bidirectional - Minor (Severity: 1)\n",
      "    Issue: Issues detected and successfully resolved: sequence standardized.\n",
      "\n",
      "Analyzing: Åbylund\n",
      "  Mapped to stop_ids: ['9022005001234001', '9022005001234002']\n",
      "    9022005001234001: directional (directions: [np.int64(1)])\n",
      "    9022005001234002: directional (directions: [np.int64(0)])\n",
      "  Final Classification: Bidirectional - Minor (Severity: 1)\n",
      "    Issue: Issues detected and successfully resolved: sequence standardized.\n",
      "\n",
      "Stop analysis complete: 23 stops analyzed and sorted by Direction 0 sequence\n",
      "\n",
      "=== GENERATING DELAY HISTOGRAMS (STOP-ORGANIZED) ===\n",
      "Generating histograms for stop: Abisko\n",
      "  Processing: Dir 0, am_rush\n",
      "    ✓ Generated 2 histogram types\n",
      "  Processing: Dir 0, day\n",
      "    ✓ Generated 2 histogram types\n",
      "  Processing: Dir 0, night\n",
      "    ✓ Generated 2 histogram types\n",
      "  Processing: Dir 0, pm_rush\n",
      "    ✓ Generated 2 histogram types\n",
      "  Processing: Dir 0, weekend\n",
      "    ✓ Generated 2 histogram types\n",
      "  Processing: Dir 1, am_rush\n",
      "    ✓ Generated 2 histogram types\n",
      "  Processing: Dir 1, day\n",
      "    ✓ Generated 2 histogram types\n",
      "  Processing: Dir 1, night\n",
      "    ✓ Generated 2 histogram types\n",
      "  Processing: Dir 1, pm_rush\n",
      "    ✓ Generated 2 histogram types\n",
      "  Processing: Dir 1, weekend\n",
      "    ✓ Generated 2 histogram types\n",
      "  ✓ Stop complete: 20 direction-time combinations\n",
      "Generating histograms for stop: Berga Söderleden\n",
      "  Processing: Dir 0, am_rush\n",
      "    ✓ Generated 2 histogram types\n",
      "  Processing: Dir 0, day\n",
      "    ✓ Generated 2 histogram types\n",
      "  Processing: Dir 0, night\n",
      "    ✓ Generated 2 histogram types\n",
      "  Processing: Dir 0, pm_rush\n",
      "    ✓ Generated 2 histogram types\n",
      "  Processing: Dir 0, weekend\n",
      "    ✓ Generated 2 histogram types\n",
      "  Processing: Dir 1, am_rush\n",
      "    ✓ Generated 2 histogram types\n",
      "  Processing: Dir 1, day\n",
      "    ✓ Generated 2 histogram types\n",
      "  Processing: Dir 1, night\n",
      "    ✓ Generated 2 histogram types\n",
      "  Processing: Dir 1, pm_rush\n",
      "    ✓ Generated 2 histogram types\n",
      "  Processing: Dir 1, weekend\n",
      "    ✓ Generated 2 histogram types\n",
      "  ✓ Stop complete: 20 direction-time combinations\n",
      "Generating histograms for stop: Bergdalsgatan\n",
      "  Processing: Dir 1, am_rush\n",
      "    ✓ Generated 2 histogram types\n",
      "  Processing: Dir 1, day\n",
      "    ✓ Generated 2 histogram types\n",
      "  Processing: Dir 1, night\n",
      "    ✓ Generated 2 histogram types\n",
      "  Processing: Dir 1, pm_rush\n",
      "    ✓ Generated 2 histogram types\n",
      "  Processing: Dir 1, weekend\n",
      "    ✓ Generated 2 histogram types\n",
      "  ✓ Stop complete: 10 direction-time combinations\n",
      "Generating histograms for stop: Blomgatan\n",
      "  Processing: Dir 0, am_rush\n",
      "    ✓ Generated 2 histogram types\n",
      "  Processing: Dir 0, day\n",
      "    ✓ Generated 2 histogram types\n",
      "  Processing: Dir 0, night\n",
      "    ✓ Generated 2 histogram types\n",
      "  Processing: Dir 0, pm_rush\n",
      "    ✓ Generated 2 histogram types\n",
      "  Processing: Dir 0, weekend\n",
      "    ✓ Generated 2 histogram types\n",
      "  Processing: Dir 1, am_rush\n",
      "    ✓ Generated 2 histogram types\n",
      "  Processing: Dir 1, day\n",
      "    ✓ Generated 2 histogram types\n",
      "  Processing: Dir 1, night\n",
      "    ✓ Generated 2 histogram types\n",
      "  Processing: Dir 1, pm_rush\n",
      "    ✓ Generated 2 histogram types\n",
      "  Processing: Dir 1, weekend\n",
      "    ✓ Generated 2 histogram types\n",
      "  ✓ Stop complete: 20 direction-time combinations\n",
      "Generating histograms for stop: Folkungavallen\n",
      "  Processing: Dir 0, am_rush\n",
      "    ✓ Generated 2 histogram types\n",
      "  Processing: Dir 0, day\n",
      "    ✓ Generated 2 histogram types\n",
      "  Processing: Dir 0, night\n",
      "    ✓ Generated 2 histogram types\n",
      "  Processing: Dir 0, pm_rush\n",
      "    ✓ Generated 2 histogram types\n",
      "  Processing: Dir 0, weekend\n",
      "    ✓ Generated 2 histogram types\n",
      "  ✓ Stop complete: 10 direction-time combinations\n",
      "Generating histograms for stop: Grindgatan\n",
      "  Processing: Dir 0, am_rush\n",
      "    ✓ Generated 2 histogram types\n",
      "  Processing: Dir 0, day\n",
      "    ✓ Generated 2 histogram types\n",
      "  Processing: Dir 0, night\n",
      "    ✓ Generated 2 histogram types\n",
      "  Processing: Dir 0, pm_rush\n",
      "    ✓ Generated 2 histogram types\n",
      "  Processing: Dir 0, weekend\n",
      "    ✓ Generated 2 histogram types\n",
      "  Processing: Dir 1, am_rush\n",
      "    ✓ Generated 2 histogram types\n",
      "  Processing: Dir 1, day\n",
      "    ✓ Generated 2 histogram types\n",
      "  Processing: Dir 1, night\n",
      "    ✓ Generated 2 histogram types\n",
      "  Processing: Dir 1, pm_rush\n",
      "    ✓ Generated 2 histogram types\n",
      "  Processing: Dir 1, weekend\n",
      "    ✓ Generated 2 histogram types\n",
      "  ✓ Stop complete: 20 direction-time combinations\n",
      "Generating histograms for stop: Hässlegatan\n",
      "  Processing: Dir 0, am_rush\n",
      "    ✓ Generated 2 histogram types\n",
      "  Processing: Dir 0, day\n",
      "    ✓ Generated 2 histogram types\n",
      "  Processing: Dir 0, night\n",
      "    ✓ Generated 2 histogram types\n",
      "  Processing: Dir 0, pm_rush\n",
      "    ✓ Generated 2 histogram types\n",
      "  Processing: Dir 0, weekend\n",
      "    ✓ Generated 2 histogram types\n",
      "  Processing: Dir 1, am_rush\n",
      "    ✓ Generated 2 histogram types\n",
      "  Processing: Dir 1, day\n",
      "    ✓ Generated 2 histogram types\n",
      "  Processing: Dir 1, night\n",
      "    ✓ Generated 2 histogram types\n",
      "  Processing: Dir 1, pm_rush\n",
      "    ✓ Generated 2 histogram types\n",
      "  Processing: Dir 1, weekend\n",
      "    ✓ Generated 2 histogram types\n",
      "  ✓ Stop complete: 20 direction-time combinations\n",
      "Generating histograms for stop: Klostergatan\n",
      "  Processing: Dir 0, am_rush\n",
      "    ✓ Generated 2 histogram types\n",
      "  Processing: Dir 0, day\n",
      "    ✓ Generated 2 histogram types\n",
      "  Processing: Dir 0, night\n",
      "    ✓ Generated 2 histogram types\n",
      "  Processing: Dir 0, pm_rush\n",
      "    ✓ Generated 2 histogram types\n",
      "  Processing: Dir 0, weekend\n",
      "    ✓ Generated 2 histogram types\n",
      "  Processing: Dir 1, am_rush\n",
      "    ✓ Generated 2 histogram types\n",
      "  Processing: Dir 1, day\n",
      "    ✓ Generated 2 histogram types\n",
      "  Processing: Dir 1, night\n",
      "    ✓ Generated 2 histogram types\n",
      "  Processing: Dir 1, pm_rush\n",
      "    ✓ Generated 2 histogram types\n",
      "  Processing: Dir 1, weekend\n",
      "    ✓ Generated 2 histogram types\n",
      "  ✓ Stop complete: 20 direction-time combinations\n",
      "Generating histograms for stop: Konsert & Kongress\n",
      "  Processing: Dir 0, am_rush\n",
      "    ✓ Generated 2 histogram types\n",
      "  Processing: Dir 0, day\n",
      "    ✓ Generated 2 histogram types\n",
      "  Processing: Dir 0, night\n",
      "    ✓ Generated 2 histogram types\n",
      "  Processing: Dir 0, pm_rush\n",
      "    ✓ Generated 2 histogram types\n",
      "  Processing: Dir 0, weekend\n",
      "    ✓ Generated 2 histogram types\n",
      "  Processing: Dir 1, am_rush\n",
      "    ✓ Generated 2 histogram types\n",
      "  Processing: Dir 1, day\n",
      "    ✓ Generated 2 histogram types\n",
      "  Processing: Dir 1, night\n",
      "    ✓ Generated 2 histogram types\n",
      "  Processing: Dir 1, pm_rush\n",
      "    ✓ Generated 2 histogram types\n",
      "  Processing: Dir 1, weekend\n",
      "    ✓ Generated 2 histogram types\n",
      "  ✓ Stop complete: 20 direction-time combinations\n",
      "Generating histograms for stop: Kungsgatan\n",
      "  Processing: Dir 0, am_rush\n",
      "    ✓ Generated 2 histogram types\n",
      "  Processing: Dir 0, day\n",
      "    ✓ Generated 2 histogram types\n",
      "  Processing: Dir 0, night\n",
      "    ✓ Generated 2 histogram types\n",
      "  Processing: Dir 0, pm_rush\n",
      "    ✓ Generated 2 histogram types\n",
      "  Processing: Dir 0, weekend\n",
      "    ✓ Generated 2 histogram types\n",
      "  Processing: Dir 1, am_rush\n",
      "    ✓ Generated 2 histogram types\n",
      "  Processing: Dir 1, day\n",
      "    ✓ Generated 2 histogram types\n",
      "  Processing: Dir 1, night\n",
      "    ✓ Generated 2 histogram types\n",
      "  Processing: Dir 1, pm_rush\n",
      "    ✓ Generated 2 histogram types\n",
      "  Processing: Dir 1, weekend\n",
      "    ✓ Generated 2 histogram types\n",
      "  ✓ Stop complete: 20 direction-time combinations\n",
      "Generating histograms for stop: Linköpings resecentrum\n",
      "  Processing: Dir 0, am_rush\n",
      "    ✓ Generated 2 histogram types\n",
      "  Processing: Dir 0, day\n",
      "    ✓ Generated 2 histogram types\n",
      "  Processing: Dir 0, night\n",
      "    ✓ Generated 2 histogram types\n",
      "  Processing: Dir 0, pm_rush\n",
      "    ✓ Generated 2 histogram types\n",
      "  Processing: Dir 0, weekend\n",
      "    ✓ Generated 2 histogram types\n",
      "  Processing: Dir 1, am_rush\n",
      "    ✓ Generated 2 histogram types\n",
      "  Processing: Dir 1, day\n",
      "    ✓ Generated 2 histogram types\n",
      "  Processing: Dir 1, night\n",
      "    ✓ Generated 2 histogram types\n",
      "  Processing: Dir 1, pm_rush\n",
      "    ✓ Generated 2 histogram types\n",
      "  Processing: Dir 1, weekend\n",
      "    ✓ Generated 2 histogram types\n",
      "  ✓ Stop complete: 20 direction-time combinations\n",
      "Generating histograms for stop: Majelden\n",
      "  Processing: Dir 0, am_rush\n",
      "    ✓ Generated 2 histogram types\n",
      "  Processing: Dir 0, day\n",
      "    ✓ Generated 2 histogram types\n",
      "  Processing: Dir 0, night\n",
      "    ✓ Generated 2 histogram types\n",
      "  Processing: Dir 0, pm_rush\n",
      "    ✓ Generated 2 histogram types\n",
      "  Processing: Dir 0, weekend\n",
      "    ✓ Generated 2 histogram types\n",
      "  Processing: Dir 1, am_rush\n",
      "    ✓ Generated 2 histogram types\n",
      "  Processing: Dir 1, day\n",
      "    ✓ Generated 2 histogram types\n",
      "  Processing: Dir 1, night\n",
      "    ✓ Generated 2 histogram types\n",
      "  Processing: Dir 1, pm_rush\n",
      "    ✓ Generated 2 histogram types\n",
      "  Processing: Dir 1, weekend\n",
      "    ✓ Generated 2 histogram types\n",
      "  ✓ Stop complete: 20 direction-time combinations\n",
      "Generating histograms for stop: Mellangården\n",
      "  Processing: Dir 0, am_rush\n",
      "    ✓ Generated 2 histogram types\n",
      "  Processing: Dir 0, day\n",
      "    ✓ Generated 2 histogram types\n",
      "  Processing: Dir 0, night\n",
      "    ✓ Generated 2 histogram types\n",
      "  Processing: Dir 0, pm_rush\n",
      "    ✓ Generated 2 histogram types\n",
      "  Processing: Dir 0, weekend\n",
      "    ✓ Generated 2 histogram types\n",
      "  Processing: Dir 1, am_rush\n",
      "    ✓ Generated 2 histogram types\n",
      "  Processing: Dir 1, day\n",
      "    ✓ Generated 2 histogram types\n",
      "  Processing: Dir 1, night\n",
      "    ✓ Generated 2 histogram types\n",
      "  Processing: Dir 1, pm_rush\n",
      "    ✓ Generated 2 histogram types\n",
      "  Processing: Dir 1, weekend\n",
      "    ✓ Generated 2 histogram types\n",
      "  ✓ Stop complete: 20 direction-time combinations\n",
      "Generating histograms for stop: Middagsgatan\n",
      "  Processing: Dir 0, am_rush\n",
      "    ✓ Generated 2 histogram types\n",
      "  Processing: Dir 0, day\n",
      "    ✓ Generated 2 histogram types\n",
      "  Processing: Dir 0, night\n",
      "    ✓ Generated 2 histogram types\n",
      "  Processing: Dir 0, pm_rush\n",
      "    ✓ Generated 2 histogram types\n",
      "  Processing: Dir 0, weekend\n",
      "    ✓ Generated 2 histogram types\n",
      "  Processing: Dir 1, am_rush\n",
      "    ✓ Generated 2 histogram types\n",
      "  Processing: Dir 1, day\n",
      "    ✓ Generated 2 histogram types\n",
      "  Processing: Dir 1, night\n",
      "    ✓ Generated 2 histogram types\n",
      "  Processing: Dir 1, pm_rush\n",
      "    ✓ Generated 2 histogram types\n",
      "  Processing: Dir 1, weekend\n",
      "    ✓ Generated 2 histogram types\n",
      "  ✓ Stop complete: 20 direction-time combinations\n",
      "Generating histograms for stop: Myntgatan\n",
      "  Processing: Dir 0, am_rush\n",
      "    ✓ Generated 2 histogram types\n",
      "  Processing: Dir 0, day\n",
      "    ✓ Generated 2 histogram types\n",
      "  Processing: Dir 0, night\n",
      "    ✓ Generated 2 histogram types\n",
      "  Processing: Dir 0, pm_rush\n",
      "    ✓ Generated 2 histogram types\n",
      "  Processing: Dir 0, weekend\n",
      "    ✓ Generated 2 histogram types\n",
      "  Processing: Dir 1, am_rush\n",
      "    ✓ Generated 2 histogram types\n",
      "  Processing: Dir 1, day\n",
      "    ✓ Generated 2 histogram types\n",
      "  Processing: Dir 1, night\n",
      "    ✓ Generated 2 histogram types\n",
      "  Processing: Dir 1, pm_rush\n",
      "    ✓ Generated 2 histogram types\n",
      "  Processing: Dir 1, weekend\n",
      "    ✓ Generated 2 histogram types\n",
      "  ✓ Stop complete: 20 direction-time combinations\n",
      "Generating histograms for stop: Resedan\n",
      "  Processing: Dir 0, am_rush\n",
      "    ✓ Generated 2 histogram types\n",
      "  Processing: Dir 0, day\n",
      "    ✓ Generated 2 histogram types\n",
      "  Processing: Dir 0, night\n",
      "    ✓ Generated 2 histogram types\n",
      "  Processing: Dir 0, pm_rush\n",
      "    ✓ Generated 2 histogram types\n",
      "  Processing: Dir 0, weekend\n",
      "    ✓ Generated 2 histogram types\n",
      "  Processing: Dir 1, am_rush\n",
      "    ✓ Generated 2 histogram types\n",
      "  Processing: Dir 1, day\n",
      "    ✓ Generated 2 histogram types\n",
      "  Processing: Dir 1, night\n",
      "    ✓ Generated 2 histogram types\n",
      "  Processing: Dir 1, pm_rush\n",
      "    ✓ Generated 2 histogram types\n",
      "  Processing: Dir 1, weekend\n",
      "    ✓ Generated 2 histogram types\n",
      "  ✓ Stop complete: 20 direction-time combinations\n",
      "Generating histograms for stop: Ridhusgatan\n",
      "  Processing: Dir 0, am_rush\n",
      "    ✓ Generated 2 histogram types\n",
      "  Processing: Dir 0, day\n",
      "    ✓ Generated 2 histogram types\n",
      "  Processing: Dir 0, night\n",
      "    ✓ Generated 2 histogram types\n",
      "  Processing: Dir 0, pm_rush\n",
      "    ✓ Generated 2 histogram types\n",
      "  Processing: Dir 0, weekend\n",
      "    ✓ Generated 2 histogram types\n",
      "  Processing: Dir 1, am_rush\n",
      "    ✓ Generated 2 histogram types\n",
      "  Processing: Dir 1, day\n",
      "    ✓ Generated 2 histogram types\n",
      "  Processing: Dir 1, night\n",
      "    ✓ Generated 2 histogram types\n",
      "  Processing: Dir 1, pm_rush\n",
      "    ✓ Generated 2 histogram types\n",
      "  Processing: Dir 1, weekend\n",
      "    ✓ Generated 2 histogram types\n",
      "  ✓ Stop complete: 20 direction-time combinations\n",
      "Generating histograms for stop: Rusthållaregården\n",
      "  Processing: Dir 0, am_rush\n",
      "    ✓ Generated 2 histogram types\n",
      "  Processing: Dir 0, day\n",
      "    ✓ Generated 2 histogram types\n",
      "  Processing: Dir 0, night\n",
      "    ✓ Generated 2 histogram types\n",
      "  Processing: Dir 0, pm_rush\n",
      "    ✓ Generated 2 histogram types\n",
      "  Processing: Dir 0, weekend\n",
      "    ✓ Generated 2 histogram types\n",
      "  Processing: Dir 1, am_rush\n",
      "    ✓ Generated 2 histogram types\n",
      "  Processing: Dir 1, day\n",
      "    ✓ Generated 2 histogram types\n",
      "  Processing: Dir 1, night\n",
      "    ✓ Generated 2 histogram types\n",
      "  Processing: Dir 1, pm_rush\n",
      "    ✓ Generated 2 histogram types\n",
      "  Processing: Dir 1, weekend\n",
      "    ✓ Generated 2 histogram types\n",
      "  ✓ Stop complete: 20 direction-time combinations\n",
      "Generating histograms for stop: Skäggetorp centrum\n",
      "  Processing: Dir 0, am_rush\n",
      "    ✓ Generated 2 histogram types\n",
      "  Processing: Dir 0, day\n",
      "    ✓ Generated 2 histogram types\n",
      "  Processing: Dir 0, night\n",
      "    ✓ Generated 2 histogram types\n",
      "  Processing: Dir 0, pm_rush\n",
      "    ✓ Generated 2 histogram types\n",
      "  Processing: Dir 0, weekend\n",
      "    ✓ Generated 2 histogram types\n",
      "  Processing: Dir 1, am_rush\n",
      "    ✓ Generated 2 histogram types\n",
      "  Processing: Dir 1, day\n",
      "    ✓ Generated 2 histogram types\n",
      "  Processing: Dir 1, night\n",
      "    ✓ Generated 2 histogram types\n",
      "  Processing: Dir 1, pm_rush\n",
      "    ✓ Generated 2 histogram types\n",
      "  Processing: Dir 1, weekend\n",
      "    ✓ Generated 2 histogram types\n",
      "  ✓ Stop complete: 20 direction-time combinations\n",
      "Generating histograms for stop: Strågatan\n",
      "  Processing: Dir 0, am_rush\n",
      "    ✓ Generated 2 histogram types\n",
      "  Processing: Dir 0, day\n",
      "    ✓ Generated 2 histogram types\n",
      "  Processing: Dir 0, night\n",
      "    ✓ Generated 2 histogram types\n",
      "  Processing: Dir 0, pm_rush\n",
      "    ✓ Generated 2 histogram types\n",
      "  Processing: Dir 0, weekend\n",
      "    ✓ Generated 2 histogram types\n",
      "  Processing: Dir 1, am_rush\n",
      "    ✓ Generated 2 histogram types\n",
      "  Processing: Dir 1, day\n",
      "    ✓ Generated 2 histogram types\n",
      "  Processing: Dir 1, night\n",
      "    ✓ Generated 2 histogram types\n",
      "  Processing: Dir 1, pm_rush\n",
      "    ✓ Generated 2 histogram types\n",
      "  Processing: Dir 1, weekend\n",
      "    ✓ Generated 2 histogram types\n",
      "  ✓ Stop complete: 20 direction-time combinations\n",
      "Generating histograms for stop: Tinnerbäcksbadet\n",
      "  Processing: Dir 0, am_rush\n",
      "    ✓ Generated 2 histogram types\n",
      "  Processing: Dir 0, day\n",
      "    ✓ Generated 2 histogram types\n",
      "  Processing: Dir 0, night\n",
      "    ✓ Generated 2 histogram types\n",
      "  Processing: Dir 0, pm_rush\n",
      "    ✓ Generated 2 histogram types\n",
      "  Processing: Dir 0, weekend\n",
      "    ✓ Generated 2 histogram types\n",
      "  Processing: Dir 1, am_rush\n",
      "    ✓ Generated 2 histogram types\n",
      "  Processing: Dir 1, day\n",
      "    ✓ Generated 2 histogram types\n",
      "  Processing: Dir 1, night\n",
      "    ✓ Generated 2 histogram types\n",
      "  Processing: Dir 1, pm_rush\n",
      "    ✓ Generated 2 histogram types\n",
      "  Processing: Dir 1, weekend\n",
      "    ✓ Generated 2 histogram types\n",
      "  ✓ Stop complete: 20 direction-time combinations\n",
      "Generating histograms for stop: Trädgårdstorget\n",
      "  Processing: Dir 0, am_rush\n",
      "    ✓ Generated 2 histogram types\n",
      "  Processing: Dir 0, day\n",
      "    ✓ Generated 2 histogram types\n",
      "  Processing: Dir 0, night\n",
      "    ✓ Generated 2 histogram types\n",
      "  Processing: Dir 0, pm_rush\n",
      "    ✓ Generated 2 histogram types\n",
      "  Processing: Dir 0, weekend\n",
      "    ✓ Generated 2 histogram types\n",
      "  Processing: Dir 1, am_rush\n",
      "    ✓ Generated 2 histogram types\n",
      "  Processing: Dir 1, day\n",
      "    ✓ Generated 2 histogram types\n",
      "  Processing: Dir 1, night\n",
      "    ✓ Generated 2 histogram types\n",
      "  Processing: Dir 1, pm_rush\n",
      "    ✓ Generated 2 histogram types\n",
      "  Processing: Dir 1, weekend\n",
      "    ✓ Generated 2 histogram types\n",
      "  ✓ Stop complete: 20 direction-time combinations\n",
      "Generating histograms for stop: Åbylund\n",
      "  Processing: Dir 0, am_rush\n",
      "    ✓ Generated 2 histogram types\n",
      "  Processing: Dir 0, day\n",
      "    ✓ Generated 2 histogram types\n",
      "  Processing: Dir 0, night\n",
      "    ✓ Generated 2 histogram types\n",
      "  Processing: Dir 0, pm_rush\n",
      "    ✓ Generated 2 histogram types\n",
      "  Processing: Dir 0, weekend\n",
      "    ✓ Generated 2 histogram types\n",
      "  Processing: Dir 1, am_rush\n",
      "    ✓ Generated 2 histogram types\n",
      "  Processing: Dir 1, day\n",
      "    ✓ Generated 2 histogram types\n",
      "  Processing: Dir 1, night\n",
      "    ✓ Generated 2 histogram types\n",
      "  Processing: Dir 1, pm_rush\n",
      "    ✓ Generated 2 histogram types\n",
      "  Processing: Dir 1, weekend\n",
      "    ✓ Generated 2 histogram types\n",
      "  ✓ Stop complete: 20 direction-time combinations\n",
      "\n",
      "Generated histograms for 23 stops\n",
      "Total direction-time combinations: 220\n",
      "Total individual histograms: 440\n",
      "Direction breakdown: Dir 0: 110, Dir 1: 110\n",
      "Time type breakdown: {'am_rush': 44, 'day': 44, 'night': 44, 'pm_rush': 44, 'weekend': 44}\n",
      "\n",
      "=== GENERATING TRAVEL TIMES DATA (STOP-ORGANIZED) ===\n",
      "Valid travel time records: 397829/419667 rows\n",
      "Generating travel times for stop: Abisko\n",
      "  Processing: Dir 0, am_rush\n",
      "    ✓ Generated travel time stats for Konsert & Kongress → Abisko\n",
      "  Processing: Dir 0, day\n",
      "    ✓ Generated travel time stats for Konsert & Kongress → Abisko\n",
      "  Processing: Dir 0, night\n",
      "    ✓ Generated travel time stats for Konsert & Kongress → Abisko\n",
      "  Processing: Dir 0, pm_rush\n",
      "    ✓ Generated travel time stats for Konsert & Kongress → Abisko\n",
      "  Processing: Dir 0, weekend\n",
      "    ✓ Generated travel time stats for Konsert & Kongress → Abisko\n",
      "  Processing: Dir 1, am_rush\n",
      "    ✓ Generated travel time stats for Åbylund → Abisko\n",
      "  Processing: Dir 1, day\n",
      "    ✓ Generated travel time stats for Åbylund → Abisko\n",
      "  Processing: Dir 1, night\n",
      "    ✓ Generated travel time stats for Åbylund → Abisko\n",
      "  Processing: Dir 1, pm_rush\n",
      "    ✓ Generated travel time stats for Åbylund → Abisko\n",
      "  Processing: Dir 1, weekend\n",
      "    ✓ Generated travel time stats for Åbylund → Abisko\n",
      "  ✓ Stop complete: 10 direction-time combinations\n",
      "Generating travel times for stop: Berga Söderleden\n",
      "  Processing: Dir 0, am_rush\n",
      "    ✓ Generated travel time stats for Ridhusgatan → Berga Söderleden\n",
      "  Processing: Dir 0, day\n",
      "    ✓ Generated travel time stats for Ridhusgatan → Berga Söderleden\n",
      "  Processing: Dir 0, night\n",
      "    ✓ Generated travel time stats for Ridhusgatan → Berga Söderleden\n",
      "  Processing: Dir 0, pm_rush\n",
      "    ✓ Generated travel time stats for Ridhusgatan → Berga Söderleden\n",
      "  Processing: Dir 0, weekend\n",
      "    ✓ Generated travel time stats for Ridhusgatan → Berga Söderleden\n",
      "  Processing: Dir 1, am_rush\n",
      "    ✓ Generated travel time stats for Majelden → Berga Söderleden\n",
      "  Processing: Dir 1, day\n",
      "    ✓ Generated travel time stats for Majelden → Berga Söderleden\n",
      "  Processing: Dir 1, night\n",
      "    ✓ Generated travel time stats for Majelden → Berga Söderleden\n",
      "  Processing: Dir 1, pm_rush\n",
      "    ✓ Generated travel time stats for Majelden → Berga Söderleden\n",
      "  Processing: Dir 1, weekend\n",
      "    ✓ Generated travel time stats for Majelden → Berga Söderleden\n",
      "  ✓ Stop complete: 10 direction-time combinations\n",
      "Generating travel times for stop: Bergdalsgatan\n",
      "  Processing: Dir 1, am_rush\n",
      "    ✓ Generated travel time stats for Tinnerbäcksbadet → Bergdalsgatan\n",
      "  Processing: Dir 1, day\n",
      "    ✓ Generated travel time stats for Tinnerbäcksbadet → Bergdalsgatan\n",
      "  Processing: Dir 1, night\n",
      "    ✓ Generated travel time stats for Tinnerbäcksbadet → Bergdalsgatan\n",
      "  Processing: Dir 1, pm_rush\n",
      "    ✓ Generated travel time stats for Tinnerbäcksbadet → Bergdalsgatan\n",
      "  Processing: Dir 1, weekend\n",
      "    ✓ Generated travel time stats for Tinnerbäcksbadet → Bergdalsgatan\n",
      "  ✓ Stop complete: 5 direction-time combinations\n",
      "Generating travel times for stop: Blomgatan\n",
      "  Processing: Dir 0, am_rush\n",
      "    ✓ Generated travel time stats for Åbylund → Blomgatan\n",
      "  Processing: Dir 0, day\n",
      "    ✓ Generated travel time stats for Åbylund → Blomgatan\n",
      "  Processing: Dir 0, night\n",
      "    ✓ Generated travel time stats for Åbylund → Blomgatan\n",
      "  Processing: Dir 0, pm_rush\n",
      "    ✓ Generated travel time stats for Åbylund → Blomgatan\n",
      "  Processing: Dir 0, weekend\n",
      "    ✓ Generated travel time stats for Åbylund → Blomgatan\n",
      "  Processing: Dir 1, am_rush\n",
      "    ✓ Generated travel time stats for Rusthållaregården → Blomgatan\n",
      "  Processing: Dir 1, day\n",
      "    ✓ Generated travel time stats for Rusthållaregården → Blomgatan\n",
      "  Processing: Dir 1, night\n",
      "    ✓ Generated travel time stats for Rusthållaregården → Blomgatan\n",
      "  Processing: Dir 1, pm_rush\n",
      "    ✓ Generated travel time stats for Rusthållaregården → Blomgatan\n",
      "  Processing: Dir 1, weekend\n",
      "    ✓ Generated travel time stats for Rusthållaregården → Blomgatan\n",
      "  ✓ Stop complete: 10 direction-time combinations\n",
      "Generating travel times for stop: Folkungavallen\n",
      "  Processing: Dir 0, am_rush\n",
      "    ✓ Generated travel time stats for Majelden → Folkungavallen\n",
      "  Processing: Dir 0, day\n",
      "    ✓ Generated travel time stats for Majelden → Folkungavallen\n",
      "  Processing: Dir 0, night\n",
      "    ✓ Generated travel time stats for Majelden → Folkungavallen\n",
      "  Processing: Dir 0, pm_rush\n",
      "    ✓ Generated travel time stats for Majelden → Folkungavallen\n",
      "  Processing: Dir 0, weekend\n",
      "    ✓ Generated travel time stats for Majelden → Folkungavallen\n",
      "  ✓ Stop complete: 5 direction-time combinations\n",
      "Generating travel times for stop: Grindgatan\n",
      "  Processing: Dir 0, am_rush\n",
      "    ✓ Generated travel time stats for Middagsgatan → Grindgatan\n",
      "  Processing: Dir 0, day\n",
      "    ✓ Generated travel time stats for Middagsgatan → Grindgatan\n",
      "  Processing: Dir 0, night\n",
      "    ✓ Generated travel time stats for Middagsgatan → Grindgatan\n",
      "  Processing: Dir 0, pm_rush\n",
      "    ✓ Generated travel time stats for Middagsgatan → Grindgatan\n",
      "  Processing: Dir 0, weekend\n",
      "    ✓ Generated travel time stats for Middagsgatan → Grindgatan\n",
      "  Processing: Dir 1, am_rush\n",
      "    ✓ Generated travel time stats for Myntgatan → Grindgatan\n",
      "  Processing: Dir 1, day\n",
      "    ✓ Generated travel time stats for Myntgatan → Grindgatan\n",
      "  Processing: Dir 1, night\n",
      "    ✓ Generated travel time stats for Myntgatan → Grindgatan\n",
      "  Processing: Dir 1, pm_rush\n",
      "    ✓ Generated travel time stats for Myntgatan → Grindgatan\n",
      "  Processing: Dir 1, weekend\n",
      "    ✓ Generated travel time stats for Myntgatan → Grindgatan\n",
      "  ✓ Stop complete: 10 direction-time combinations\n",
      "Generating travel times for stop: Hässlegatan\n",
      "  Processing: Dir 1, am_rush\n",
      "    ✓ Generated travel time stats for Strågatan → Hässlegatan\n",
      "  Processing: Dir 1, day\n",
      "    ✓ Generated travel time stats for Strågatan → Hässlegatan\n",
      "  Processing: Dir 1, night\n",
      "    ✓ Generated travel time stats for Strågatan → Hässlegatan\n",
      "  Processing: Dir 1, pm_rush\n",
      "    ✓ Generated travel time stats for Strågatan → Hässlegatan\n",
      "  Processing: Dir 1, weekend\n",
      "    ✓ Generated travel time stats for Strågatan → Hässlegatan\n",
      "  ✓ Stop complete: 5 direction-time combinations\n",
      "Generating travel times for stop: Klostergatan\n",
      "  Processing: Dir 0, am_rush\n",
      "    ✓ Generated travel time stats for Linköpings resecentrum → Klostergatan\n",
      "  Processing: Dir 0, day\n",
      "    ✓ Generated travel time stats for Linköpings resecentrum → Klostergatan\n",
      "  Processing: Dir 0, night\n",
      "    ✓ Generated travel time stats for Linköpings resecentrum → Klostergatan\n",
      "  Processing: Dir 0, pm_rush\n",
      "    ✓ Generated travel time stats for Linköpings resecentrum → Klostergatan\n",
      "  Processing: Dir 0, weekend\n",
      "    ✓ Generated travel time stats for Linköpings resecentrum → Klostergatan\n",
      "  Processing: Dir 1, am_rush\n",
      "    ✓ Generated travel time stats for Konsert & Kongress → Klostergatan\n",
      "  Processing: Dir 1, day\n",
      "    ✓ Generated travel time stats for Konsert & Kongress → Klostergatan\n",
      "  Processing: Dir 1, night\n",
      "    ✓ Generated travel time stats for Konsert & Kongress → Klostergatan\n",
      "  Processing: Dir 1, pm_rush\n",
      "    ✓ Generated travel time stats for Konsert & Kongress → Klostergatan\n",
      "  Processing: Dir 1, weekend\n",
      "    ✓ Generated travel time stats for Konsert & Kongress → Klostergatan\n",
      "  ✓ Stop complete: 10 direction-time combinations\n",
      "Generating travel times for stop: Konsert & Kongress\n",
      "  Processing: Dir 0, am_rush\n",
      "    ✓ Generated travel time stats for Klostergatan → Konsert & Kongress\n",
      "  Processing: Dir 0, day\n",
      "    ✓ Generated travel time stats for Klostergatan → Konsert & Kongress\n",
      "  Processing: Dir 0, night\n",
      "    ✓ Generated travel time stats for Klostergatan → Konsert & Kongress\n",
      "  Processing: Dir 0, pm_rush\n",
      "    ✓ Generated travel time stats for Klostergatan → Konsert & Kongress\n",
      "  Processing: Dir 0, weekend\n",
      "    ✓ Generated travel time stats for Klostergatan → Konsert & Kongress\n",
      "  Processing: Dir 1, am_rush\n",
      "    ✓ Generated travel time stats for Abisko → Konsert & Kongress\n",
      "  Processing: Dir 1, day\n",
      "    ✓ Generated travel time stats for Abisko → Konsert & Kongress\n",
      "  Processing: Dir 1, night\n",
      "    ✓ Generated travel time stats for Abisko → Konsert & Kongress\n",
      "  Processing: Dir 1, pm_rush\n",
      "    ✓ Generated travel time stats for Abisko → Konsert & Kongress\n",
      "  Processing: Dir 1, weekend\n",
      "    ✓ Generated travel time stats for Abisko → Konsert & Kongress\n",
      "  ✓ Stop complete: 10 direction-time combinations\n",
      "Generating travel times for stop: Kungsgatan\n",
      "  Processing: Dir 0, am_rush\n",
      "    ✓ Generated travel time stats for Trädgårdstorget → Kungsgatan\n",
      "  Processing: Dir 0, day\n",
      "    ✓ Generated travel time stats for Trädgårdstorget → Kungsgatan\n",
      "  Processing: Dir 0, night\n",
      "    ✓ Generated travel time stats for Trädgårdstorget → Kungsgatan\n",
      "  Processing: Dir 0, pm_rush\n",
      "    ✓ Generated travel time stats for Trädgårdstorget → Kungsgatan\n",
      "  Processing: Dir 0, weekend\n",
      "    ✓ Generated travel time stats for Trädgårdstorget → Kungsgatan\n",
      "  Processing: Dir 1, am_rush\n",
      "    ✓ Generated travel time stats for Linköpings resecentrum → Kungsgatan\n",
      "  Processing: Dir 1, day\n",
      "    ✓ Generated travel time stats for Linköpings resecentrum → Kungsgatan\n",
      "  Processing: Dir 1, night\n",
      "    ✓ Generated travel time stats for Linköpings resecentrum → Kungsgatan\n",
      "  Processing: Dir 1, pm_rush\n",
      "    ✓ Generated travel time stats for Linköpings resecentrum → Kungsgatan\n",
      "  Processing: Dir 1, weekend\n",
      "    ✓ Generated travel time stats for Linköpings resecentrum → Kungsgatan\n",
      "  ✓ Stop complete: 10 direction-time combinations\n",
      "Generating travel times for stop: Linköpings resecentrum\n",
      "  Processing: Dir 0, am_rush\n",
      "    ✓ Generated travel time stats for Kungsgatan → Linköpings resecentrum\n",
      "  Processing: Dir 0, day\n",
      "    ✓ Generated travel time stats for Kungsgatan → Linköpings resecentrum\n",
      "  Processing: Dir 0, night\n",
      "    ✓ Generated travel time stats for Kungsgatan → Linköpings resecentrum\n",
      "  Processing: Dir 0, pm_rush\n",
      "    ✓ Generated travel time stats for Kungsgatan → Linköpings resecentrum\n",
      "  Processing: Dir 0, weekend\n",
      "    ✓ Generated travel time stats for Kungsgatan → Linköpings resecentrum\n",
      "  Processing: Dir 1, am_rush\n",
      "    ✓ Generated travel time stats for Klostergatan → Linköpings resecentrum\n",
      "  Processing: Dir 1, day\n",
      "    ✓ Generated travel time stats for Klostergatan → Linköpings resecentrum\n",
      "  Processing: Dir 1, night\n",
      "    ✓ Generated travel time stats for Klostergatan → Linköpings resecentrum\n",
      "  Processing: Dir 1, pm_rush\n",
      "    ✓ Generated travel time stats for Klostergatan → Linköpings resecentrum\n",
      "  Processing: Dir 1, weekend\n",
      "    ✓ Generated travel time stats for Klostergatan → Linköpings resecentrum\n",
      "  ✓ Stop complete: 10 direction-time combinations\n",
      "Generating travel times for stop: Majelden\n",
      "  Processing: Dir 0, am_rush\n",
      "    ✓ Generated travel time stats for Berga Söderleden → Majelden\n",
      "  Processing: Dir 0, day\n",
      "    ✓ Generated travel time stats for Berga Söderleden → Majelden\n",
      "  Processing: Dir 0, night\n",
      "    ✓ Generated travel time stats for Berga Söderleden → Majelden\n",
      "  Processing: Dir 0, pm_rush\n",
      "    ✓ Generated travel time stats for Berga Söderleden → Majelden\n",
      "  Processing: Dir 0, weekend\n",
      "    ✓ Generated travel time stats for Berga Söderleden → Majelden\n",
      "  Processing: Dir 1, am_rush\n",
      "    ✓ Generated travel time stats for Bergdalsgatan → Majelden\n",
      "  Processing: Dir 1, day\n",
      "    ✓ Generated travel time stats for Bergdalsgatan → Majelden\n",
      "  Processing: Dir 1, night\n",
      "    ✓ Generated travel time stats for Bergdalsgatan → Majelden\n",
      "  Processing: Dir 1, pm_rush\n",
      "    ✓ Generated travel time stats for Bergdalsgatan → Majelden\n",
      "  Processing: Dir 1, weekend\n",
      "    ✓ Generated travel time stats for Bergdalsgatan → Majelden\n",
      "  ✓ Stop complete: 10 direction-time combinations\n",
      "Generating travel times for stop: Mellangården\n",
      "  Processing: Dir 0, am_rush\n",
      "    ✓ Generated travel time stats for Rusthållaregården → Mellangården\n",
      "  Processing: Dir 0, day\n",
      "    ✓ Generated travel time stats for Rusthållaregården → Mellangården\n",
      "  Processing: Dir 0, night\n",
      "    ✓ Generated travel time stats for Rusthållaregården → Mellangården\n",
      "  Processing: Dir 0, pm_rush\n",
      "    ✓ Generated travel time stats for Rusthållaregården → Mellangården\n",
      "  Processing: Dir 0, weekend\n",
      "    ✓ Generated travel time stats for Rusthållaregården → Mellangården\n",
      "  Processing: Dir 1, am_rush\n",
      "    ✓ Generated travel time stats for Skäggetorp centrum → Mellangården\n",
      "  Processing: Dir 1, day\n",
      "    ✓ Generated travel time stats for Skäggetorp centrum → Mellangården\n",
      "  Processing: Dir 1, night\n",
      "    ✓ Generated travel time stats for Skäggetorp centrum → Mellangården\n",
      "  Processing: Dir 1, pm_rush\n",
      "    ✓ Generated travel time stats for Skäggetorp centrum → Mellangården\n",
      "  Processing: Dir 1, weekend\n",
      "    ✓ Generated travel time stats for Skäggetorp centrum → Mellangården\n",
      "  ✓ Stop complete: 10 direction-time combinations\n",
      "Generating travel times for stop: Middagsgatan\n",
      "  Processing: Dir 0, am_rush\n",
      "    ✓ Generated travel time stats for Strågatan → Middagsgatan\n",
      "  Processing: Dir 0, day\n",
      "    ✓ Generated travel time stats for Strågatan → Middagsgatan\n",
      "  Processing: Dir 0, night\n",
      "    ✓ Generated travel time stats for Strågatan → Middagsgatan\n",
      "  Processing: Dir 0, pm_rush\n",
      "    ✓ Generated travel time stats for Strågatan → Middagsgatan\n",
      "  Processing: Dir 0, weekend\n",
      "    ✓ Generated travel time stats for Strågatan → Middagsgatan\n",
      "  Processing: Dir 1, am_rush\n",
      "    ✓ Generated travel time stats for Grindgatan → Middagsgatan\n",
      "  Processing: Dir 1, day\n",
      "    ✓ Generated travel time stats for Grindgatan → Middagsgatan\n",
      "  Processing: Dir 1, night\n",
      "    ✓ Generated travel time stats for Grindgatan → Middagsgatan\n",
      "  Processing: Dir 1, pm_rush\n",
      "    ✓ Generated travel time stats for Grindgatan → Middagsgatan\n",
      "  Processing: Dir 1, weekend\n",
      "    ✓ Generated travel time stats for Grindgatan → Middagsgatan\n",
      "  ✓ Stop complete: 10 direction-time combinations\n",
      "Generating travel times for stop: Myntgatan\n",
      "  Processing: Dir 0, am_rush\n",
      "    ✓ Generated travel time stats for Grindgatan → Myntgatan\n",
      "  Processing: Dir 0, day\n",
      "    ✓ Generated travel time stats for Grindgatan → Myntgatan\n",
      "  Processing: Dir 0, night\n",
      "    ✓ Generated travel time stats for Grindgatan → Myntgatan\n",
      "  Processing: Dir 0, pm_rush\n",
      "    ✓ Generated travel time stats for Grindgatan → Myntgatan\n",
      "  Processing: Dir 0, weekend\n",
      "    ✓ Generated travel time stats for Grindgatan → Myntgatan\n",
      "  Processing: Dir 1, am_rush\n",
      "    ✓ Generated travel time stats for Resedan → Myntgatan\n",
      "  Processing: Dir 1, day\n",
      "    ✓ Generated travel time stats for Resedan → Myntgatan\n",
      "  Processing: Dir 1, night\n",
      "    ✓ Generated travel time stats for Resedan → Myntgatan\n",
      "  Processing: Dir 1, pm_rush\n",
      "    ✓ Generated travel time stats for Resedan → Myntgatan\n",
      "  Processing: Dir 1, weekend\n",
      "    ✓ Generated travel time stats for Resedan → Myntgatan\n",
      "  ✓ Stop complete: 10 direction-time combinations\n",
      "Generating travel times for stop: Resedan\n",
      "  Processing: Dir 0, am_rush\n",
      "    ✓ Generated travel time stats for Myntgatan → Resedan\n",
      "  Processing: Dir 0, day\n",
      "    ✓ Generated travel time stats for Myntgatan → Resedan\n",
      "  Processing: Dir 0, night\n",
      "    ✓ Generated travel time stats for Myntgatan → Resedan\n",
      "  Processing: Dir 0, pm_rush\n",
      "    ✓ Generated travel time stats for Myntgatan → Resedan\n",
      "  Processing: Dir 0, weekend\n",
      "    ✓ Generated travel time stats for Myntgatan → Resedan\n",
      "  Processing: Dir 1, am_rush\n",
      "    ✓ Generated travel time stats for Ridhusgatan → Resedan\n",
      "  Processing: Dir 1, day\n",
      "    ✓ Generated travel time stats for Ridhusgatan → Resedan\n",
      "  Processing: Dir 1, night\n",
      "    ✓ Generated travel time stats for Ridhusgatan → Resedan\n",
      "  Processing: Dir 1, pm_rush\n",
      "    ✓ Generated travel time stats for Ridhusgatan → Resedan\n",
      "  Processing: Dir 1, weekend\n",
      "    ✓ Generated travel time stats for Ridhusgatan → Resedan\n",
      "  ✓ Stop complete: 10 direction-time combinations\n",
      "Generating travel times for stop: Ridhusgatan\n",
      "  Processing: Dir 0, am_rush\n",
      "    ✓ Generated travel time stats for Resedan → Ridhusgatan\n",
      "  Processing: Dir 0, day\n",
      "    ✓ Generated travel time stats for Resedan → Ridhusgatan\n",
      "  Processing: Dir 0, night\n",
      "    ✓ Generated travel time stats for Resedan → Ridhusgatan\n",
      "  Processing: Dir 0, pm_rush\n",
      "    ✓ Generated travel time stats for Resedan → Ridhusgatan\n",
      "  Processing: Dir 0, weekend\n",
      "    ✓ Generated travel time stats for Resedan → Ridhusgatan\n",
      "  Processing: Dir 1, am_rush\n",
      "    ✓ Generated travel time stats for Berga Söderleden → Ridhusgatan\n",
      "  Processing: Dir 1, day\n",
      "    ✓ Generated travel time stats for Berga Söderleden → Ridhusgatan\n",
      "  Processing: Dir 1, night\n",
      "    ✓ Generated travel time stats for Berga Söderleden → Ridhusgatan\n",
      "  Processing: Dir 1, pm_rush\n",
      "    ✓ Generated travel time stats for Berga Söderleden → Ridhusgatan\n",
      "  Processing: Dir 1, weekend\n",
      "    ✓ Generated travel time stats for Berga Söderleden → Ridhusgatan\n",
      "  ✓ Stop complete: 10 direction-time combinations\n",
      "Generating travel times for stop: Rusthållaregården\n",
      "  Processing: Dir 0, am_rush\n",
      "    ✓ Generated travel time stats for Blomgatan → Rusthållaregården\n",
      "  Processing: Dir 0, day\n",
      "    ✓ Generated travel time stats for Blomgatan → Rusthållaregården\n",
      "  Processing: Dir 0, night\n",
      "    ✓ Generated travel time stats for Blomgatan → Rusthållaregården\n",
      "  Processing: Dir 0, pm_rush\n",
      "    ✓ Generated travel time stats for Blomgatan → Rusthållaregården\n",
      "  Processing: Dir 0, weekend\n",
      "    ✓ Generated travel time stats for Blomgatan → Rusthållaregården\n",
      "  Processing: Dir 1, am_rush\n",
      "    ✓ Generated travel time stats for Mellangården → Rusthållaregården\n",
      "  Processing: Dir 1, day\n",
      "    ✓ Generated travel time stats for Mellangården → Rusthållaregården\n",
      "  Processing: Dir 1, night\n",
      "    ✓ Generated travel time stats for Mellangården → Rusthållaregården\n",
      "  Processing: Dir 1, pm_rush\n",
      "    ✓ Generated travel time stats for Mellangården → Rusthållaregården\n",
      "  Processing: Dir 1, weekend\n",
      "    ✓ Generated travel time stats for Mellangården → Rusthållaregården\n",
      "  ✓ Stop complete: 10 direction-time combinations\n",
      "Generating travel times for stop: Skäggetorp centrum\n",
      "  Processing: Dir 0, am_rush\n",
      "    ✓ Generated travel time stats for Mellangården → Skäggetorp centrum\n",
      "  Processing: Dir 0, day\n",
      "    ✓ Generated travel time stats for Mellangården → Skäggetorp centrum\n",
      "  Processing: Dir 0, night\n",
      "    ✓ Generated travel time stats for Mellangården → Skäggetorp centrum\n",
      "  Processing: Dir 0, pm_rush\n",
      "    ✓ Generated travel time stats for Mellangården → Skäggetorp centrum\n",
      "  Processing: Dir 0, weekend\n",
      "    ✓ Generated travel time stats for Mellangården → Skäggetorp centrum\n",
      "  ✓ Stop complete: 5 direction-time combinations\n",
      "Generating travel times for stop: Strågatan\n",
      "  Processing: Dir 0, am_rush\n",
      "    ✓ Generated travel time stats for Hässlegatan → Strågatan\n",
      "  Processing: Dir 0, day\n",
      "    ✓ Generated travel time stats for Hässlegatan → Strågatan\n",
      "  Processing: Dir 0, night\n",
      "    ✓ Generated travel time stats for Hässlegatan → Strågatan\n",
      "  Processing: Dir 0, pm_rush\n",
      "    ✓ Generated travel time stats for Hässlegatan → Strågatan\n",
      "  Processing: Dir 0, weekend\n",
      "    ✓ Generated travel time stats for Hässlegatan → Strågatan\n",
      "  Processing: Dir 1, am_rush\n",
      "    ✓ Generated travel time stats for Middagsgatan → Strågatan\n",
      "  Processing: Dir 1, day\n",
      "    ✓ Generated travel time stats for Middagsgatan → Strågatan\n",
      "  Processing: Dir 1, night\n",
      "    ✓ Generated travel time stats for Middagsgatan → Strågatan\n",
      "  Processing: Dir 1, pm_rush\n",
      "    ✓ Generated travel time stats for Middagsgatan → Strågatan\n",
      "  Processing: Dir 1, weekend\n",
      "    ✓ Generated travel time stats for Middagsgatan → Strågatan\n",
      "  ✓ Stop complete: 10 direction-time combinations\n",
      "Generating travel times for stop: Tinnerbäcksbadet\n",
      "  Processing: Dir 0, am_rush\n",
      "    ✓ Generated travel time stats for Folkungavallen → Tinnerbäcksbadet\n",
      "  Processing: Dir 0, day\n",
      "    ✓ Generated travel time stats for Folkungavallen → Tinnerbäcksbadet\n",
      "  Processing: Dir 0, night\n",
      "    ✓ Generated travel time stats for Folkungavallen → Tinnerbäcksbadet\n",
      "  Processing: Dir 0, pm_rush\n",
      "    ✓ Generated travel time stats for Folkungavallen → Tinnerbäcksbadet\n",
      "  Processing: Dir 0, weekend\n",
      "    ✓ Generated travel time stats for Folkungavallen → Tinnerbäcksbadet\n",
      "  Processing: Dir 1, am_rush\n",
      "    ✓ Generated travel time stats for Trädgårdstorget → Tinnerbäcksbadet\n",
      "  Processing: Dir 1, day\n",
      "    ✓ Generated travel time stats for Trädgårdstorget → Tinnerbäcksbadet\n",
      "  Processing: Dir 1, night\n",
      "    ✓ Generated travel time stats for Trädgårdstorget → Tinnerbäcksbadet\n",
      "  Processing: Dir 1, pm_rush\n",
      "    ✓ Generated travel time stats for Trädgårdstorget → Tinnerbäcksbadet\n",
      "  Processing: Dir 1, weekend\n",
      "    ✓ Generated travel time stats for Trädgårdstorget → Tinnerbäcksbadet\n",
      "  ✓ Stop complete: 10 direction-time combinations\n",
      "Generating travel times for stop: Trädgårdstorget\n",
      "  Processing: Dir 0, am_rush\n",
      "    ✓ Generated travel time stats for Tinnerbäcksbadet → Trädgårdstorget\n",
      "  Processing: Dir 0, day\n",
      "    ✓ Generated travel time stats for Tinnerbäcksbadet → Trädgårdstorget\n",
      "  Processing: Dir 0, night\n",
      "    ✓ Generated travel time stats for Tinnerbäcksbadet → Trädgårdstorget\n",
      "  Processing: Dir 0, pm_rush\n",
      "    ✓ Generated travel time stats for Tinnerbäcksbadet → Trädgårdstorget\n",
      "  Processing: Dir 0, weekend\n",
      "    ✓ Generated travel time stats for Tinnerbäcksbadet → Trädgårdstorget\n",
      "  Processing: Dir 1, am_rush\n",
      "    ✓ Generated travel time stats for Kungsgatan → Trädgårdstorget\n",
      "  Processing: Dir 1, day\n",
      "    ✓ Generated travel time stats for Kungsgatan → Trädgårdstorget\n",
      "  Processing: Dir 1, night\n",
      "    ✓ Generated travel time stats for Kungsgatan → Trädgårdstorget\n",
      "  Processing: Dir 1, pm_rush\n",
      "    ✓ Generated travel time stats for Kungsgatan → Trädgårdstorget\n",
      "  Processing: Dir 1, weekend\n",
      "    ✓ Generated travel time stats for Kungsgatan → Trädgårdstorget\n",
      "  ✓ Stop complete: 10 direction-time combinations\n",
      "Generating travel times for stop: Åbylund\n",
      "  Processing: Dir 0, am_rush\n",
      "    ✓ Generated travel time stats for Abisko → Åbylund\n",
      "  Processing: Dir 0, day\n",
      "    ✓ Generated travel time stats for Abisko → Åbylund\n",
      "  Processing: Dir 0, night\n",
      "    ✓ Generated travel time stats for Abisko → Åbylund\n",
      "  Processing: Dir 0, pm_rush\n",
      "    ✓ Generated travel time stats for Abisko → Åbylund\n",
      "  Processing: Dir 0, weekend\n",
      "    ✓ Generated travel time stats for Abisko → Åbylund\n",
      "  Processing: Dir 1, am_rush\n",
      "    ✓ Generated travel time stats for Blomgatan → Åbylund\n",
      "  Processing: Dir 1, day\n",
      "    ✓ Generated travel time stats for Blomgatan → Åbylund\n",
      "  Processing: Dir 1, night\n",
      "    ✓ Generated travel time stats for Blomgatan → Åbylund\n",
      "  Processing: Dir 1, pm_rush\n",
      "    ✓ Generated travel time stats for Blomgatan → Åbylund\n",
      "  Processing: Dir 1, weekend\n",
      "    ✓ Generated travel time stats for Blomgatan → Åbylund\n",
      "  ✓ Stop complete: 10 direction-time combinations\n",
      "\n",
      "Generated travel time data for 23 stops\n",
      "Total direction-time segments: 210\n",
      "Direction breakdown: Dir 0: 105, Dir 1: 105\n",
      "Time type breakdown: {'am_rush': 42, 'day': 42, 'night': 42, 'pm_rush': 42, 'weekend': 42}\n",
      "\n",
      "=== EXPORTING BASIC JSON FILES ===\n",
      "Processing route: 201\n",
      "  Updated route_stops for 201 (23 stops)\n",
      "  Updated stop_routes for 23 stops\n",
      "  Updated stop_analysis for 23 route-stop combinations\n",
      "  Updated logs_details for 22 problematic route-stop combinations\n",
      "  ✓ Saved route_stops.json: 1 entries\n",
      "  ✓ Saved stop_routes.json: 23 entries\n",
      "  ✓ Saved stop_analysis.json: 23 entries\n",
      "  ✓ Saved logs_details.json: 22 entries\n",
      "\n",
      "Basic export complete! Files saved to: ./analysis_output\n",
      "  ✓ Saved route_tables.json: 201 before/after tables\n",
      "  ✓ Saved delay_histograms.json:\n",
      "    - 23 stops\n",
      "    - 220 direction-time combinations\n",
      "    - 440 individual histograms\n",
      "  ✓ Saved travel_times.json:\n",
      "    - 23 stops\n",
      "    - 210 direction-time combinations\n",
      "    - 210 travel segments\n"
     ]
    }
   ],
   "source": [
    "for i in num_list[:1]:\n",
    "    print(f'processing raw data for route {i}')\n",
    "    test_df = test_dataframes[i]\n",
    "    test_form = DataFormer(test_df)"
   ]
  },
  {
   "cell_type": "code",
   "execution_count": null,
   "metadata": {},
   "outputs": [],
   "source": []
  },
  {
   "cell_type": "code",
   "execution_count": null,
   "metadata": {},
   "outputs": [
    {
     "data": {
      "text/plain": [
       "'From website\\n\\nregulation_route_stops:\\n201_Skäggetorp centrum\\n201_Linköpings resecentrum\\n201_Linköpings resecentrum - har två olika stop sekvenser per riktning\\n201_Berga Söderleden\\n201_Hässlegatan\\n202_Linköpings resecentrum\\n202_US södra entrén\\n202_Tegelskiftesgatan\\n203_Linköpings resecentrum\\n203_Gamla Linköping\\n203_Rydvägens ändhållplats\\n203_Ryd centrum     -  endast i riktning från rydvägen till resecentrum\\n204_Landbogatan\\n204_Lamdbohov centrum - endast i riktning från landbohov till resecentrum\\n204_US södra entrén\\n204_Linköpings resecentrum\\n205_Skäggetorp centrum\\n205_IKEA\\n205_Linköpings resecentrum\\n205_Linköpings resecentrum - har två olika stop sekvenser per riktning\\n205_Räknestickan\\n205_Ekholmens centrum - endast i riktning från räknestickan till skäggetorp centrum\\n206_Linköpings resecentrum\\n206_Gamla Linköping\\n206_Kärna kors\\n206_Fårullsvägen\\n210_Kråkbärsvägen\\n210_Sturefors centrum\\n210_Linköpings resecentrum - har två olika stop sekvenser per riktning, vissa avgångar tar slut här, vissa avgångar börjar här\\n210_Linköpings resecentrum vissa avgångar börjar här\\n210_Sigbjörnsgatan\\n210_Roxtuna\\n210_Hästhagsvägen - bara riktning i Roxtuna till Kråkbärsvägen\\n211_\\n211_\\n211_\\n211_\\n\\n\\n\\n\\n\\n\\n'"
      ]
     },
     "execution_count": 16,
     "metadata": {},
     "output_type": "execute_result"
    }
   ],
   "source": [
    "'''From website\n",
    "\n",
    "regulation_route_stops:\n",
    "\n",
    "201_Skäggetorp centrum\n",
    "201_Linköpings resecentrum\n",
    "201_Linköpings resecentrum - har två olika stop sekvenser per riktning\n",
    "201_Berga Söderleden\n",
    "201_Hässlegatan\n",
    "\n",
    "\n",
    "202_Linköpings resecentrum\n",
    "202_US södra entrén\n",
    "202_Tegelskiftesgatan\n",
    "\n",
    "203_Linköpings resecentrum\n",
    "203_Gamla Linköping\n",
    "203_Rydvägens ändhållplats\n",
    "203_Ryd centrum     -  endast i riktning från rydvägen till resecentrum\n",
    "\n",
    "204_Linköpings resecentrum\n",
    "204_US södra entrén\n",
    "204_Lamdbohov centrum - endast i riktning från landbohov till resecentrum\n",
    "204_Landbogatan\n",
    "\n",
    "205_Skäggetorp centrum\n",
    "205_IKEA\n",
    "205_Linköpings resecentrum\n",
    "205_Linköpings resecentrum - har två olika stop sekvenser per riktning\n",
    "205_Räknestickan\n",
    "205_Ekholmens centrum - endast i riktning från räknestickan till skäggetorp centrum\n",
    "\n",
    "206_Linköpings resecentrum\n",
    "206_Gamla Linköping\n",
    "206_Kärna kors\n",
    "206_Fårullsvägen\n",
    "\n",
    "210_Kråkbärsvägen\n",
    "210_Sturefors centrum\n",
    "*210_Linköpings resecentrum - har två olika stop sekvenser per riktning, vissa avgångar i riktning Kråkbärsvägen till Roxtuna tar slut här, vissa avgångar från Kråkbärsvägen till Roxtuna börjar här (Börjar i Linköpings resecentrum)\n",
    "*210_Linköpings resecentrum vissa avgångar i riktning Roxtuna till Kråkbärsvägen börjar här ( börjar i Linköpings resecentrum)\n",
    "210_Sigbjörnsgatan\n",
    "210_Roxtuna\n",
    "210_Hästhagsvägen - bara riktning i Roxtuna till Kråkbärsvägen\n",
    "\n",
    "211_Linköpings resecentrum\n",
    "211_Drottningtorget - bara i riktning Linköpingsresecentrum till Övre Johannelund\n",
    "211_Övre Johannelund\n",
    "211_Johannelunds centrum - Bara i riktning från Övre Johannelund till Linköpings resecentrum\n",
    "\n",
    "212_Linköpings resecentrum\n",
    "212_Gamla Linköping\n",
    "212_Mjärdevi Center\n",
    "212_Änggårdsskolan\n",
    "\n",
    "213_Vårbrisvägen\n",
    "213_Tallboda centrum - bara i riktning Vårbrisvägen till Nedre Johannelund\n",
    "213_Linköpings resecentrum\n",
    "213_Linköpings resecentrum - har två olika stop sekvenser per riktning\n",
    "213_Nedre Johannelund\n",
    "213_Johannelunds centrum - bara i riktning Nedre Johannelund till Vårbrisvägen\n",
    "\n",
    "214_Gamla Linköping\n",
    "214_Linköpings resecentrum\n",
    "214_Linköpings resecentrum - har två olika stop sekvenser per riktning\n",
    "214_Berga Söderleden\n",
    "214_Ekholmens centrum\n",
    "214_Aspnäset\n",
    "\n",
    "215_Linköpings resecentrum\n",
    "215_Berga Söderleden\n",
    "215_Klarinettgatan\n",
    "215_Morgongatan - bara i riktning Klarinettgatan till Linköpings resecentrum\n",
    "\n",
    "216_Berga centrum\n",
    "216_US södra entrén\n",
    "216_Linköpings resecentrum\n",
    "216_Linköpings resecentrum - Har två olika stop sekvenser per riktning\n",
    "216_Saab södra - bara i riktning Berga centrum till Aspnäset\n",
    "216_Aspnäset\n",
    "216_Saab Civila - bara i riktning Aspnäset till Berga centrum\n",
    "\n",
    "217_Linköpings resecentrum\n",
    "217_US södra entrén\n",
    "217_Berga centrum\n",
    "217_Aspnäset\n",
    "217_Hässlegatan - bara i riktning från Aspnäset till Linköpings resecentrum\n",
    "\n",
    "218_Linköpings resecentrum\n",
    "218_US södra entrén\n",
    "218_Gamla Linköping\n",
    "\n",
    "220_Linköpings resecentrum\n",
    "220_Mjärdevi\n",
    "220_Universitetet - bara i riktning Mjärdevi till Minköpings resecentrum\n",
    "note 220 går bara måndag till fredag\n",
    "\n",
    "221_Linköpings resecentrum\n",
    "221_Saab norra porten\n",
    "221_Landerydsvägen\n",
    "note 221 går bara måndag till fredag\n",
    "\n",
    "222_Ekhaga\n",
    "222_Aspnäset\n",
    "222_Berga centrum\n",
    "222_Mjärdevi\n",
    "note 222 går bara måndag till fredag\n",
    "\n",
    "226_Linköpings resecentrum\n",
    "226_Skäggetorp centrum - vissa avgångar i riktning resecentrum till Landbogatan slutar här\n",
    "226_Fröstorpsgatan - vissa avgångar i riktning resecentrum till Landbogatan börjar här, vissa avgångar i riktning Landbogatan till resecentrum slutar här\n",
    "226_Skäggetorp centrum\n",
    "226_Ryd centrum\n",
    "226_Jägarvallsvägen\n",
    "226_Nobeltorget\n",
    "226_Landbogatan\n",
    "\n",
    "\n",
    "\n",
    "\n",
    "\n",
    "\n",
    "\n",
    "\n",
    "\n",
    "'''\n"
   ]
  },
  {
   "cell_type": "code",
   "execution_count": null,
   "metadata": {},
   "outputs": [],
   "source": []
  },
  {
   "cell_type": "code",
   "execution_count": null,
   "metadata": {},
   "outputs": [],
   "source": []
  },
  {
   "cell_type": "code",
   "execution_count": 156,
   "metadata": {},
   "outputs": [
    {
     "name": "stdout",
     "output_type": "stream",
     "text": [
      "              trip_id          route_id start_date  direction_id  \\\n",
      "0   55700000059723173  9011005020100000 2021-09-01             1   \n",
      "1   55700000059723173  9011005020100000 2021-09-01             1   \n",
      "2   55700000059723173  9011005020100000 2021-09-01             1   \n",
      "3   55700000059723173  9011005020100000 2021-09-01             1   \n",
      "4   55700000059723173  9011005020100000 2021-09-01             1   \n",
      "..                ...               ...        ...           ...   \n",
      "95  55700000059723173  9011005020100000 2021-09-15             1   \n",
      "96  55700000059723173  9011005020100000 2021-09-15             1   \n",
      "97  55700000059723173  9011005020100000 2021-09-15             1   \n",
      "98  55700000059723173  9011005020100000 2021-09-15             1   \n",
      "99  55700000059723173  9011005020100000 2021-09-16             1   \n",
      "\n",
      "             stop_id               stop_name  stop_sequence  \\\n",
      "0   9022005000048001      Skäggetorp centrum            1.0   \n",
      "1   9022005001411001            Mellangården            2.0   \n",
      "2   9022005001236001       Rusthållaregården            3.0   \n",
      "3   9022005001235001               Blomgatan            4.0   \n",
      "4   9022005001234001                 Åbylund            5.0   \n",
      "..               ...                     ...            ...   \n",
      "95  9022005001219001                  Abisko            6.0   \n",
      "96  9022005000417001      Konsert & Kongress            7.0   \n",
      "97  9022005001223001            Klostergatan            8.0   \n",
      "98  9022005000050002  Linköpings resecentrum            9.0   \n",
      "99  9022005000048001      Skäggetorp centrum            1.0   \n",
      "\n",
      "   scheduled_departure_time observed_departure_time  departure_delay  \\\n",
      "0       2021-09-01 07:33:00     2021-09-01 07:34:25             85.0   \n",
      "1       2021-09-01 07:35:49     2021-09-01 07:36:16             27.0   \n",
      "2       2021-09-01 07:36:54     2021-09-01 07:37:24             30.0   \n",
      "3       2021-09-01 07:39:25     2021-09-01 07:39:01            -24.0   \n",
      "4       2021-09-01 07:41:01     2021-09-01 07:39:59            -62.0   \n",
      "..                      ...                     ...              ...   \n",
      "95      2021-09-15 07:43:04     2021-09-15 07:41:31            -93.0   \n",
      "96      2021-09-15 07:45:04     2021-09-15 07:43:22           -102.0   \n",
      "97      2021-09-15 07:46:21     2021-09-15 07:44:45            -96.0   \n",
      "98      2021-09-15 07:50:00     2021-09-15 07:47:55           -125.0   \n",
      "99      2021-09-16 07:33:00     2021-09-16 07:33:10             10.0   \n",
      "\n",
      "   route_short_name  month  month_type day_type time_type  incremental_delay  \\\n",
      "0                 1      9           0  weekday   am_rush                0.0   \n",
      "1                 1      9           0  weekday   am_rush              -58.0   \n",
      "2                 1      9           0  weekday   am_rush                3.0   \n",
      "3                 1      9           0  weekday   am_rush              -54.0   \n",
      "4                 1      9           0  weekday   am_rush              -38.0   \n",
      "..              ...    ...         ...      ...       ...                ...   \n",
      "95                1      9           0  weekday   am_rush              -32.0   \n",
      "96                1      9           0  weekday   am_rush               -9.0   \n",
      "97                1      9           0  weekday   am_rush                6.0   \n",
      "98                1      9           0  weekday   am_rush              -29.0   \n",
      "99                1      9           0  weekday   am_rush                0.0   \n",
      "\n",
      "   scheduled_travel_time observed_travel_time  \n",
      "0        0 days 00:00:00      0 days 00:00:00  \n",
      "1        0 days 00:02:49      0 days 00:01:51  \n",
      "2        0 days 00:01:05      0 days 00:01:08  \n",
      "3        0 days 00:02:31      0 days 00:01:37  \n",
      "4        0 days 00:01:36      0 days 00:00:58  \n",
      "..                   ...                  ...  \n",
      "95       0 days 00:02:03      0 days 00:01:31  \n",
      "96       0 days 00:02:00      0 days 00:01:51  \n",
      "97       0 days 00:01:17      0 days 00:01:23  \n",
      "98       0 days 00:03:39      0 days 00:03:10  \n",
      "99       0 days 00:00:00      0 days 00:00:00  \n",
      "\n",
      "[100 rows x 18 columns]\n"
     ]
    }
   ],
   "source": [
    "# Option 1: Set pandas display options globally\n",
    "pd.set_option('display.max_columns', None)  # Show all columns\n",
    "pd.set_option('display.width', None)        # Don't wrap lines\n",
    "pd.set_option('display.max_colwidth', 50)   # Limit column width for readability\n",
    "\n",
    "print(test_form.form_data.head(100))"
   ]
  },
  {
   "cell_type": "code",
   "execution_count": 139,
   "metadata": {},
   "outputs": [
    {
     "name": "stdout",
     "output_type": "stream",
     "text": [
      "\n",
      "=== ANALYSIS FOR Djursjukhuset ===\n",
      "1. Basic counts:\n",
      "direction_id        0     1\n",
      "stop_id                    \n",
      "9022005003840001  918  1029\n",
      "9022005003840002  918  1029\n",
      "\n",
      "2. Trip overlap analysis:\n",
      "Trips at 9022005003840001: 57\n",
      "Trips at 9022005003840002: 57\n",
      "Trips at BOTH: 57\n",
      "Trips ONLY at stop1: 0\n",
      "Trips ONLY at stop2: 0\n",
      "\n",
      "3. Direction consistency:\n",
      "Trip 55700000059822245: directions [1], stop_ids ['9022005003840001' '9022005003840002']\n",
      "Trip 55700000059822593: directions [0], stop_ids ['9022005003840001' '9022005003840002']\n",
      "Trip 55700000059822277: directions [1], stop_ids ['9022005003840001' '9022005003840002']\n",
      "Trip 55700000059822625: directions [0], stop_ids ['9022005003840002' '9022005003840001']\n",
      "Trip 55700000059822309: directions [1], stop_ids ['9022005003840001' '9022005003840002']\n",
      "\n",
      "4. Stop sequence analysis:\n",
      "Trip 55700000059822245:\n",
      "                  stop_id  direction_id  stop_sequence            datetime\n",
      "28207    9022005003840001             1           11.0 2021-09-01 07:00:25\n",
      "28618    9022005003840002             1           15.0 2021-09-01 07:04:40\n",
      "140279   9022005003840001             1           11.0 2021-09-02 07:00:32\n",
      "140704   9022005003840002             1           15.0 2021-09-02 07:04:52\n",
      "252861   9022005003840001             1           11.0 2021-09-03 07:04:19\n",
      "253187   9022005003840002             1           15.0 2021-09-03 07:07:38\n",
      "488601   9022005003840001             1           11.0 2021-09-06 07:00:14\n",
      "489035   9022005003840002             1           15.0 2021-09-06 07:04:45\n",
      "600562   9022005003840001             1           11.0 2021-09-07 06:59:49\n",
      "601060   9022005003840002             1           15.0 2021-09-07 07:04:50\n",
      "710527   9022005003840001             1           11.0 2021-09-08 06:59:49\n",
      "711087   9022005003840002             1           15.0 2021-09-08 07:05:28\n",
      "820912   9022005003840001             1           11.0 2021-09-09 07:00:05\n",
      "821319   9022005003840002             1           15.0 2021-09-09 07:04:39\n",
      "931172   9022005003840001             1           11.0 2021-09-10 07:00:10\n",
      "931624   9022005003840002             1           15.0 2021-09-10 07:05:05\n",
      "1164382  9022005003840001             1           11.0 2021-09-13 07:00:38\n",
      "1164820  9022005003840002             1           15.0 2021-09-13 07:04:53\n",
      "1275796  9022005003840001             1           11.0 2021-09-14 07:00:27\n",
      "1276206  9022005003840002             1           15.0 2021-09-14 07:04:50\n",
      "1387182  9022005003840001             1           11.0 2021-09-15 07:00:18\n",
      "1387620  9022005003840002             1           15.0 2021-09-15 07:04:51\n",
      "1497743  9022005003840001             1           11.0 2021-09-16 07:00:01\n",
      "1498172  9022005003840002             1           15.0 2021-09-16 07:04:52\n",
      "1608438  9022005003840001             1           11.0 2021-09-17 07:00:04\n",
      "1608902  9022005003840002             1           15.0 2021-09-17 07:04:48\n",
      "1843072  9022005003840001             1           11.0 2021-09-20 07:00:11\n",
      "1843493  9022005003840002             1           15.0 2021-09-20 07:04:34\n",
      "1954372  9022005003840001             1           11.0 2021-09-21 07:00:49\n",
      "1954911  9022005003840002             1           15.0 2021-09-21 07:06:13\n",
      "Trip 55700000059822593:\n",
      "                  stop_id  direction_id  stop_sequence            datetime\n",
      "31781    9022005003840001             0           11.0 2021-09-01 07:38:38\n",
      "32311    9022005003840002             0           15.0 2021-09-01 07:43:38\n",
      "143990   9022005003840001             0           11.0 2021-09-02 07:40:12\n",
      "144323   9022005003840002             0           15.0 2021-09-02 07:43:32\n",
      "256371   9022005003840001             0           11.0 2021-09-03 07:41:34\n",
      "256816   9022005003840002             0           15.0 2021-09-03 07:45:55\n",
      "492258   9022005003840001             0           11.0 2021-09-06 07:39:07\n",
      "492656   9022005003840002             0           15.0 2021-09-06 07:43:27\n",
      "604300   9022005003840001             0           11.0 2021-09-07 07:39:55\n",
      "604716   9022005003840002             0           15.0 2021-09-07 07:44:15\n",
      "714243   9022005003840001             0           11.0 2021-09-08 07:39:53\n",
      "714622   9022005003840002             0           15.0 2021-09-08 07:43:28\n",
      "824493   9022005003840001             0           11.0 2021-09-09 07:38:25\n",
      "824941   9022005003840002             0           15.0 2021-09-09 07:43:19\n",
      "934820   9022005003840001             0           11.0 2021-09-10 07:39:56\n",
      "935263   9022005003840002             0           15.0 2021-09-10 07:44:13\n",
      "1168225  9022005003840001             0           11.0 2021-09-13 07:41:05\n",
      "1168538  9022005003840002             0           15.0 2021-09-13 07:44:25\n",
      "1279506  9022005003840001             0           11.0 2021-09-14 07:39:50\n",
      "1279847  9022005003840002             0           15.0 2021-09-14 07:43:30\n",
      "1390972  9022005003840001             0           11.0 2021-09-15 07:40:13\n",
      "1391344  9022005003840002             0           15.0 2021-09-15 07:44:13\n",
      "1500817  9022005003840001             0           11.0 2021-09-16 07:39:40\n",
      "1501185  9022005003840002             0           15.0 2021-09-16 07:43:20\n",
      "1612210  9022005003840001             0           11.0 2021-09-17 07:39:40\n",
      "1612599  9022005003840002             0           15.0 2021-09-17 07:43:58\n",
      "1846904  9022005003840001             0           11.0 2021-09-20 07:41:14\n",
      "1847308  9022005003840002             0           15.0 2021-09-20 07:45:14\n",
      "1958007  9022005003840001             0           11.0 2021-09-21 07:39:23\n",
      "1958559  9022005003840002             0           15.0 2021-09-21 07:44:37\n",
      "Trip 55700000059822277:\n",
      "                  stop_id  direction_id  stop_sequence            datetime\n",
      "33814    9022005003840001             1           11.0 2021-09-01 08:00:23\n",
      "34331    9022005003840002             1           15.0 2021-09-01 08:05:09\n",
      "145929   9022005003840001             1           11.0 2021-09-02 08:00:22\n",
      "146384   9022005003840002             1           15.0 2021-09-02 08:05:07\n",
      "258072   9022005003840001             1           11.0 2021-09-03 08:00:07\n",
      "258536   9022005003840002             1           15.0 2021-09-03 08:04:45\n",
      "494222   9022005003840001             1           11.0 2021-09-06 07:59:50\n",
      "494665   9022005003840002             1           15.0 2021-09-06 08:04:47\n",
      "606258   9022005003840001             1           11.0 2021-09-07 08:00:54\n",
      "606635   9022005003840002             1           15.0 2021-09-07 08:05:04\n",
      "716161   9022005003840001             1           11.0 2021-09-08 08:00:27\n",
      "716601   9022005003840002             1           15.0 2021-09-08 08:05:01\n",
      "826550   9022005003840001             1           11.0 2021-09-09 08:00:45\n",
      "826897   9022005003840002             1           15.0 2021-09-09 08:04:35\n",
      "936774   9022005003840001             1           11.0 2021-09-10 08:00:41\n",
      "937144   9022005003840002             1           15.0 2021-09-10 08:04:52\n",
      "1170060  9022005003840001             1           11.0 2021-09-13 08:00:27\n",
      "1170481  9022005003840002             1           15.0 2021-09-13 08:04:45\n",
      "1281491  9022005003840001             1           11.0 2021-09-14 08:00:16\n",
      "1281867  9022005003840002             1           15.0 2021-09-14 08:04:37\n",
      "1393122  9022005003840001             1           11.0 2021-09-15 08:03:01\n",
      "1393474  9022005003840002             1           15.0 2021-09-15 08:06:41\n",
      "1504257  9022005003840001             1           11.0 2021-09-16 08:17:51\n",
      "1504372  9022005003840002             1           15.0 2021-09-16 08:19:31\n",
      "1614112  9022005003840001             1           11.0 2021-09-17 08:00:07\n",
      "1614579  9022005003840002             1           15.0 2021-09-17 08:04:58\n",
      "1848681  9022005003840001             1           11.0 2021-09-20 08:00:24\n",
      "1849112  9022005003840002             1           15.0 2021-09-20 08:04:46\n",
      "1959919  9022005003840001             1           11.0 2021-09-21 07:59:56\n",
      "1960370  9022005003840002             1           15.0 2021-09-21 08:04:42\n",
      "\n",
      "=== ANALYSIS FOR Tingsvägen ===\n",
      "1. Basic counts:\n",
      "direction_id        0     1\n",
      "stop_id                    \n",
      "9022005003839001  918  1029\n",
      "9022005003839002  918  1029\n",
      "\n",
      "2. Trip overlap analysis:\n",
      "Trips at 9022005003839001: 57\n",
      "Trips at 9022005003839002: 57\n",
      "Trips at BOTH: 57\n",
      "Trips ONLY at stop1: 0\n",
      "Trips ONLY at stop2: 0\n",
      "\n",
      "3. Direction consistency:\n",
      "Trip 55700000059822245: directions [1], stop_ids ['9022005003839001' '9022005003839002']\n",
      "Trip 55700000059822593: directions [0], stop_ids ['9022005003839001' '9022005003839002']\n",
      "Trip 55700000059822277: directions [1], stop_ids ['9022005003839001' '9022005003839002']\n",
      "Trip 55700000059822625: directions [0], stop_ids ['9022005003839002' '9022005003839001']\n",
      "Trip 55700000059822309: directions [1], stop_ids ['9022005003839001' '9022005003839002']\n",
      "\n",
      "4. Stop sequence analysis:\n",
      "Trip 55700000059822245:\n",
      "                  stop_id  direction_id  stop_sequence            datetime\n",
      "28256    9022005003839001             1           12.0 2021-09-01 07:01:05\n",
      "28575    9022005003839002             1           14.0 2021-09-01 07:03:53\n",
      "140371   9022005003839001             1           12.0 2021-09-02 07:01:12\n",
      "140651   9022005003839002             1           14.0 2021-09-02 07:03:52\n",
      "252919   9022005003839001             1           12.0 2021-09-03 07:04:59\n",
      "253090   9022005003839002             1           14.0 2021-09-03 07:06:41\n",
      "488661   9022005003839001             1           12.0 2021-09-06 07:00:54\n",
      "488969   9022005003839002             1           14.0 2021-09-06 07:03:56\n",
      "600648   9022005003839001             1           12.0 2021-09-07 07:00:55\n",
      "600970   9022005003839002             1           14.0 2021-09-07 07:03:55\n",
      "710603   9022005003839001             1           12.0 2021-09-08 07:00:44\n",
      "711001   9022005003839002             1           14.0 2021-09-08 07:04:43\n",
      "820980   9022005003839001             1           12.0 2021-09-09 07:01:06\n",
      "821227   9022005003839002             1           14.0 2021-09-09 07:03:41\n",
      "931270   9022005003839001             1           12.0 2021-09-10 07:01:26\n",
      "931534   9022005003839002             1           14.0 2021-09-10 07:04:05\n",
      "1164482  9022005003839001             1           12.0 2021-09-13 07:01:39\n",
      "1164695  9022005003839002             1           14.0 2021-09-13 07:03:58\n",
      "1275845  9022005003839001             1           12.0 2021-09-14 07:01:11\n",
      "1276097  9022005003839002             1           14.0 2021-09-14 07:03:51\n",
      "1387275  9022005003839001             1           12.0 2021-09-15 07:01:20\n",
      "1387507  9022005003839002             1           14.0 2021-09-15 07:03:40\n",
      "1497819  9022005003839001             1           12.0 2021-09-16 07:01:01\n",
      "1498102  9022005003839002             1           14.0 2021-09-16 07:04:01\n",
      "1608489  9022005003839001             1           12.0 2021-09-17 07:00:43\n",
      "1608808  9022005003839002             1           14.0 2021-09-17 07:03:48\n",
      "1843149  9022005003839001             1           12.0 2021-09-20 07:01:15\n",
      "1843434  9022005003839002             1           14.0 2021-09-20 07:03:55\n",
      "1954446  9022005003839001             1           12.0 2021-09-21 07:01:35\n",
      "1954799  9022005003839002             1           14.0 2021-09-21 07:05:15\n",
      "Trip 55700000059822593:\n",
      "                  stop_id  direction_id  stop_sequence            datetime\n",
      "31898    9022005003839001             0           12.0 2021-09-01 07:39:38\n",
      "32145    9022005003839002             0           14.0 2021-09-01 07:42:18\n",
      "144054   9022005003839001             0           12.0 2021-09-02 07:40:52\n",
      "144255   9022005003839002             0           14.0 2021-09-02 07:42:52\n",
      "256448   9022005003839001             0           12.0 2021-09-03 07:42:15\n",
      "256708   9022005003839002             0           14.0 2021-09-03 07:44:55\n",
      "492322   9022005003839001             0           12.0 2021-09-06 07:39:48\n",
      "492536   9022005003839002             0           14.0 2021-09-06 07:42:08\n",
      "604379   9022005003839001             0           12.0 2021-09-07 07:40:35\n",
      "604609   9022005003839002             0           14.0 2021-09-07 07:43:15\n",
      "714291   9022005003839001             0           12.0 2021-09-08 07:40:28\n",
      "714544   9022005003839002             0           14.0 2021-09-08 07:42:48\n",
      "824569   9022005003839001             0           12.0 2021-09-09 07:39:25\n",
      "824861   9022005003839002             0           14.0 2021-09-09 07:42:22\n",
      "934914   9022005003839001             0           12.0 2021-09-10 07:40:53\n",
      "935148   9022005003839002             0           14.0 2021-09-10 07:43:13\n",
      "1168299  9022005003839001             0           12.0 2021-09-13 07:41:45\n",
      "1168458  9022005003839002             0           14.0 2021-09-13 07:43:45\n",
      "1279597  9022005003839001             0           12.0 2021-09-14 07:40:50\n",
      "1279732  9022005003839002             0           14.0 2021-09-14 07:42:30\n",
      "1391065  9022005003839001             0           12.0 2021-09-15 07:41:13\n",
      "1391254  9022005003839002             0           14.0 2021-09-15 07:43:13\n",
      "1500874  9022005003839001             0           12.0 2021-09-16 07:40:20\n",
      "1501092  9022005003839002             0           14.0 2021-09-16 07:42:20\n",
      "1612306  9022005003839001             0           12.0 2021-09-17 07:40:38\n",
      "1612467  9022005003839002             0           14.0 2021-09-17 07:42:18\n",
      "1846964  9022005003839001             0           12.0 2021-09-20 07:41:54\n",
      "1847242  9022005003839002             0           14.0 2021-09-20 07:44:34\n",
      "1958078  9022005003839001             0           12.0 2021-09-21 07:40:18\n",
      "1958438  9022005003839002             0           14.0 2021-09-21 07:43:37\n",
      "Trip 55700000059822277:\n",
      "                  stop_id  direction_id  stop_sequence            datetime\n",
      "33894    9022005003839001             1           12.0 2021-09-01 08:01:15\n",
      "34271    9022005003839002             1           14.0 2021-09-01 08:04:09\n",
      "146021   9022005003839001             1           12.0 2021-09-02 08:01:25\n",
      "146327   9022005003839002             1           14.0 2021-09-02 08:04:25\n",
      "258185   9022005003839001             1           12.0 2021-09-03 08:00:47\n",
      "258482   9022005003839002             1           14.0 2021-09-03 08:04:02\n",
      "494326   9022005003839001             1           12.0 2021-09-06 08:01:06\n",
      "494594   9022005003839002             1           14.0 2021-09-06 08:03:55\n",
      "606285   9022005003839001             1           12.0 2021-09-07 08:01:14\n",
      "606599   9022005003839002             1           14.0 2021-09-07 08:04:42\n",
      "716182   9022005003839001             1           12.0 2021-09-08 08:00:47\n",
      "716543   9022005003839002             1           14.0 2021-09-08 08:04:24\n",
      "826632   9022005003839001             1           12.0 2021-09-09 08:01:25\n",
      "826861   9022005003839002             1           14.0 2021-09-09 08:03:50\n",
      "936866   9022005003839001             1           12.0 2021-09-10 08:01:41\n",
      "937072   9022005003839002             1           14.0 2021-09-10 08:03:59\n",
      "1170146  9022005003839001             1           12.0 2021-09-13 08:01:26\n",
      "1170391  9022005003839002             1           14.0 2021-09-13 08:04:05\n",
      "1281557  9022005003839001             1           12.0 2021-09-14 08:01:00\n",
      "1281839  9022005003839002             1           14.0 2021-09-14 08:04:00\n",
      "1393168  9022005003839001             1           12.0 2021-09-15 08:03:41\n",
      "1393398  9022005003839002             1           14.0 2021-09-15 08:06:01\n",
      "1504284  9022005003839001             1           12.0 2021-09-16 08:18:31\n",
      "1504381  9022005003839002             1           14.0 2021-09-16 08:19:31\n",
      "1614190  9022005003839001             1           12.0 2021-09-17 08:01:00\n",
      "1614478  9022005003839002             1           14.0 2021-09-17 08:04:00\n",
      "1848768  9022005003839001             1           12.0 2021-09-20 08:01:04\n",
      "1849061  9022005003839002             1           14.0 2021-09-20 08:04:04\n",
      "1960025  9022005003839001             1           12.0 2021-09-21 08:00:56\n",
      "1960299  9022005003839002             1           14.0 2021-09-21 08:03:44\n"
     ]
    }
   ],
   "source": [
    "def analyze_contamination_pattern(df, stop_name):\n",
    "    \"\"\"\n",
    "    Deep dive into the contamination pattern for a specific stop\n",
    "    \"\"\"\n",
    "    stop_data = df[df['stop_name'] == stop_name].copy()\n",
    "    \n",
    "    print(f\"\\n=== ANALYSIS FOR {stop_name} ===\")\n",
    "    \n",
    "    # 1. Basic counts\n",
    "    print(\"1. Basic counts:\")\n",
    "    counts_by_stop_id = stop_data.groupby(['stop_id', 'direction_id']).size().unstack(fill_value=0)\n",
    "    print(counts_by_stop_id)\n",
    "    \n",
    "    # 2. Check if same trips appear at both stop_ids\n",
    "    print(\"\\n2. Trip overlap analysis:\")\n",
    "    stop_ids = stop_data['stop_id'].unique()\n",
    "    if len(stop_ids) == 2:\n",
    "        stop_id_1, stop_id_2 = stop_ids\n",
    "        \n",
    "        trips_at_stop1 = set(stop_data[stop_data['stop_id'] == stop_id_1]['trip_id'].unique())\n",
    "        trips_at_stop2 = set(stop_data[stop_data['stop_id'] == stop_id_2]['trip_id'].unique())\n",
    "        \n",
    "        print(f\"Trips at {stop_id_1}: {len(trips_at_stop1)}\")\n",
    "        print(f\"Trips at {stop_id_2}: {len(trips_at_stop2)}\")\n",
    "        print(f\"Trips at BOTH: {len(trips_at_stop1.intersection(trips_at_stop2))}\")\n",
    "        print(f\"Trips ONLY at stop1: {len(trips_at_stop1 - trips_at_stop2)}\")\n",
    "        print(f\"Trips ONLY at stop2: {len(trips_at_stop2 - trips_at_stop1)}\")\n",
    "    \n",
    "    # 3. Check direction consistency within trips\n",
    "    print(\"\\n3. Direction consistency:\")\n",
    "    for trip_id in stop_data['trip_id'].unique()[:5]:  # Check first 5 trips\n",
    "        trip_data = stop_data[stop_data['trip_id'] == trip_id]\n",
    "        directions = trip_data['direction_id'].unique()\n",
    "        stop_ids_in_trip = trip_data['stop_id'].unique()\n",
    "        print(f\"Trip {trip_id}: directions {directions}, stop_ids {stop_ids_in_trip}\")\n",
    "    \n",
    "    # 4. Check if there are different stop_sequences for same trip at different stop_ids\n",
    "    print(\"\\n4. Stop sequence analysis:\")\n",
    "    for trip_id in stop_data['trip_id'].unique()[:3]:\n",
    "        trip_data = stop_data[stop_data['trip_id'] == trip_id]\n",
    "        if len(trip_data) > 1:  # Trip appears multiple times at this stop\n",
    "            print(f\"Trip {trip_id}:\")\n",
    "            print(trip_data[['stop_id', 'direction_id', 'stop_sequence', 'datetime']].to_string())\n",
    "\n",
    "# Run the analysis for the problematic stops\n",
    "contaminated_stops = ['Djursjukhuset', 'Tingsvägen']\n",
    "for stop in contaminated_stops:\n",
    "    analyze_contamination_pattern(test_dataframes[226], stop)"
   ]
  },
  {
   "cell_type": "code",
   "execution_count": null,
   "metadata": {},
   "outputs": [],
   "source": []
  },
  {
   "cell_type": "code",
   "execution_count": null,
   "metadata": {},
   "outputs": [],
   "source": []
  },
  {
   "cell_type": "code",
   "execution_count": null,
   "metadata": {},
   "outputs": [],
   "source": []
  },
  {
   "cell_type": "code",
   "execution_count": 72,
   "metadata": {},
   "outputs": [
    {
     "name": "stdout",
     "output_type": "stream",
     "text": [
      "City distribution:\n",
      "city\n",
      "Linköping    191492\n",
      "Name: count, dtype: int64\n",
      "Linköping stations: ['Tegskiftesgatan' 'Odalgatan' 'Bygdegatan' 'Hemmansgatan'\n",
      " 'Djurgården centrum' 'Infanterivägen' 'US Södra entrén' 'US Norra entrén'\n",
      " 'Tinnerbäcksbadet' 'Djurgården' 'Trädgårdstorget' 'Kungsgatan'\n",
      " 'Linköpings resecentrum' 'Garnisonen']\n",
      "Removing 0 duplicates.\n",
      "\n",
      "Found 13 potential stop pairs to process\n",
      "\n",
      "Verifying potentially problematic stops after corrections:\n",
      "  No remaining direction problems found in stop pairs.\n",
      "\n",
      "Direction distribution per stop (route order):\n",
      "direction_id                                0     1\n",
      "stop_name              stop_id                     \n",
      "Tegskiftesgatan        9022005000469002  7494     0\n",
      "Odalgatan              9022005004084001  7495     0\n",
      "Bygdegatan             9022005004076001  7496     0\n",
      "Hemmansgatan           9022005004250001  7497     0\n",
      "Djurgården centrum     9022005004251001  7497     0\n",
      "Djurgården             9022005004236002  7499     0\n",
      "Garnisonen             9022005004230002   885     0\n",
      "Infanterivägen         9022005000404002  6614     0\n",
      "US Södra entrén        9022005001249002  7501     0\n",
      "US Norra entrén        9022005000198002  7501     0\n",
      "Tinnerbäcksbadet       9022005000042002  7502     0\n",
      "Trädgårdstorget        9022005000046004  7502     0\n",
      "Kungsgatan             9022005001243002  6493     0\n",
      "Linköpings resecentrum 9022005000050006  7502  7363\n",
      "Kungsgatan             9022005001243001     0  6372\n",
      "Trädgårdstorget        9022005000046003     0  7363\n",
      "Tinnerbäcksbadet       9022005000042001     0  7364\n",
      "US Norra entrén        9022005000198001     0  7366\n",
      "US Södra entrén        9022005001249001     0  7366\n",
      "Garnisonen             9022005004230001     0   873\n",
      "Infanterivägen         9022005000404001     0  6493\n",
      "Djurgården             9022005004236001     0  7366\n",
      "Djurgården centrum     9022005004251002     0  7366\n",
      "Hemmansgatan           9022005004250002     0  7366\n",
      "Bygdegatan             9022005004076002     0  7366\n",
      "Odalgatan              9022005004084002     0  7366\n",
      "Tegskiftesgatan        9022005000469003     0  7366\n",
      "Memory optimization: 982.67 MB → 24.99 MB (97.5% reduction)\n"
     ]
    }
   ],
   "source": [
    "former_2 = DataFormer(test_2)\n",
    "\n",
    "\n"
   ]
  },
  {
   "cell_type": "code",
   "execution_count": 73,
   "metadata": {},
   "outputs": [
    {
     "name": "stdout",
     "output_type": "stream",
     "text": [
      "City distribution:\n",
      "city\n",
      "Linköping    419861\n",
      "Name: count, dtype: int64\n",
      "Linköping stations: ['Hässlegatan' 'Myntgatan' 'Grindgatan' 'Resedan' 'Berga Söderleden'\n",
      " 'Ridhusgatan' 'Middagsgatan' 'Strågatan' 'Majelden' 'Rusthållaregården'\n",
      " 'Mellangården' 'Skäggetorp centrum' 'Blomgatan' 'Folkungavallen'\n",
      " 'Klostergatan' 'Åbylund' 'Abisko' 'Konsert & Kongress' 'Tinnerbäcksbadet'\n",
      " 'Trädgårdstorget' 'Kungsgatan' 'Linköpings resecentrum' 'Bergdalsgatan']\n",
      "Removing 0 duplicates.\n",
      "\n",
      "Found 19 potential stop pairs to process\n",
      "\n",
      "Verifying potentially problematic stops after corrections:\n",
      "  No remaining direction problems found in stop pairs.\n",
      "\n",
      "Direction distribution per stop (route order):\n",
      "direction_id                                0     1\n",
      "stop_name              stop_id                     \n",
      "Hässlegatan            9022005000044001  9459  9697\n",
      "Strågatan              9022005001229002  9460     0\n",
      "Middagsgatan           9022005001230002  9461     0\n",
      "Grindgatan             9022005001233002  9461     0\n",
      "Myntgatan              9022005001232002  9461     0\n",
      "Resedan                9022005000045002  9461     0\n",
      "Ridhusgatan            9022005001231002  9461     0\n",
      "Berga Söderleden       9022005000043002  9462     0\n",
      "Majelden               9022005001227002  9465     0\n",
      "Folkungavallen         9022005001221002  9469     0\n",
      "Tinnerbäcksbadet       9022005000042002  9471     0\n",
      "Trädgårdstorget        9022005000046004  9471     0\n",
      "Kungsgatan             9022005001243002  8194     0\n",
      "Linköpings resecentrum 9022005000050003  9476     0\n",
      "Klostergatan           9022005001223002  9476     0\n",
      "Konsert & Kongress     9022005000417003  9477     0\n",
      "Abisko                 9022005001219002  9477     0\n",
      "Åbylund                9022005001234002  9477     0\n",
      "Blomgatan              9022005001235002  9477     0\n",
      "Rusthållaregården      9022005001236003  9477     0\n",
      "Mellangården           9022005001411002  9477     0\n",
      "Skäggetorp centrum     9022005000048001  9477  9762\n",
      "Mellangården           9022005001411001     0  9762\n",
      "Rusthållaregården      9022005001236001     0  9763\n",
      "Blomgatan              9022005001235001     0  9763\n",
      "Åbylund                9022005001234001     0  9764\n",
      "Abisko                 9022005001219001     0  9765\n",
      "Konsert & Kongress     9022005000417001     0  9768\n",
      "Klostergatan           9022005001223001     0  9768\n",
      "Linköpings resecentrum 9022005000050002     0  9769\n",
      "Kungsgatan             9022005001243001     0  8385\n",
      "Trädgårdstorget        9022005000046003     0  9694\n",
      "Tinnerbäcksbadet       9022005000042001     0  9696\n",
      "Bergdalsgatan          9022005001222001     0  9696\n",
      "Majelden               9022005001227001     0  9696\n",
      "Berga Söderleden       9022005000043001     0  9696\n",
      "Ridhusgatan            9022005001231001     0  9696\n",
      "Resedan                9022005000045001     0  9696\n",
      "Myntgatan              9022005001232001     0  9696\n",
      "Grindgatan             9022005001233001     0  9696\n",
      "Middagsgatan           9022005001230001     0  9696\n",
      "Strågatan              9022005001229001     0  9696\n",
      "Memory optimization: 539.74 MB → 54.84 MB (89.8% reduction)\n"
     ]
    }
   ],
   "source": [
    "former_1 =DataFormer(test_1)"
   ]
  },
  {
   "cell_type": "code",
   "execution_count": 75,
   "metadata": {},
   "outputs": [
    {
     "name": "stdout",
     "output_type": "stream",
     "text": [
      "City distribution:\n",
      "city\n",
      "Linköping    266034\n",
      "Name: count, dtype: int64\n",
      "Linköping stations: ['Ekdalsvägen' 'Lövsbergsvägen' 'Aspnäset' 'Vårdsbergsvägen'\n",
      " 'Hjulsbro skola' 'Roshagsvägen' 'Ljunghagsvägen' 'Vårgård'\n",
      " 'Hackefors södra' 'Hackefors' 'Landerydsvägen' 'Saab Södra' 'Saab Civila'\n",
      " 'Stationsgatan' 'Vetegatan' 'Tannefors center' 'Korngatan' 'Humlegatan'\n",
      " 'US Norra entrén' 'Tinnerbäcksgränd' 'Rotegatan' 'US Södra entrén'\n",
      " 'Pionjärgatan' 'Berga centrum' 'Tinnerbäcksbadet'\n",
      " 'Linköpings resecentrum' 'Kungsgatan' 'Trädgårdstorget']\n",
      "Removing 0 duplicates.\n",
      "\n",
      "Found 27 potential stop pairs to process\n",
      "\n",
      "Fixes for stop pair 'Hackefors':\n",
      "  Direction mapping: {'9022005001437002': np.int64(0), '9022005001437001': np.int64(1)}\n",
      "  - Fixed 555 records for stop ID 9022005001437001 -> 9022005001437002 (dir 0): 555\n",
      "\n",
      "Made a total of 555 corrections for stop pairs\n",
      "\n",
      "Verifying potentially problematic stops after corrections:\n",
      "  No remaining direction problems found in stop pairs.\n",
      "\n",
      "Direction distribution per stop (route order):\n",
      "direction_id                                0     1\n",
      "stop_name              stop_id                     \n",
      "Aspnäset               9022005000416001  4729  4743\n",
      "Lövsbergsvägen         9022005000226002  4730     0\n",
      "Ekdalsvägen            9022005001394002  4730     0\n",
      "Vårdsbergsvägen        9022005000437002  4730     0\n",
      "Hjulsbro skola         9022005001396001  4730     0\n",
      "Roshagsvägen           9022005001433001  4730     0\n",
      "Ljunghagsvägen         9022005000422001  4730     0\n",
      "Vårgård                9022005001435001  4730     0\n",
      "Hackefors södra        9022005001445001  4730     0\n",
      "Hackefors              9022005001437002  4730     0\n",
      "Landerydsvägen         9022005001421002  4731     0\n",
      "Saab Civila            9022005001419001  4733     0\n",
      "Saab Södra             9022005001418001  4733     0\n",
      "Stationsgatan          9022005001323001  4733     0\n",
      "Vetegatan              9022005001426001  4735     0\n",
      "Tannefors center       9022005000421001  4735     0\n",
      "Korngatan              9022005001424001  4735     0\n",
      "Humlegatan             9022005001422001  4736     0\n",
      "Linköpings resecentrum 9022005000050019  4814     0\n",
      "Kungsgatan             9022005001243001  4169     0\n",
      "Trädgårdstorget        9022005000046003  4816     0\n",
      "Tinnerbäcksbadet       9022005000042001  4816     0\n",
      "US Norra entrén        9022005000198001  4816     0\n",
      "US Södra entrén        9022005001249001  4816     0\n",
      "Tinnerbäcksgränd       9022005004186001  4816     0\n",
      "Rotegatan              9022005000412001  4816     0\n",
      "Pionjärgatan           9022005001431001  4816     0\n",
      "Berga centrum          9022005001430001  4816     0\n",
      "                       9022005001430002     0  4735\n",
      "Pionjärgatan           9022005001431002     0  4735\n",
      "Rotegatan              9022005000412002     0  4736\n",
      "Tinnerbäcksgränd       9022005004186002     0  4737\n",
      "US Södra entrén        9022005001249002     0  4737\n",
      "US Norra entrén        9022005000198002     0  4739\n",
      "Tinnerbäcksbadet       9022005000042002     0  4740\n",
      "Trädgårdstorget        9022005000046006     0  4740\n",
      "Kungsgatan             9022005001243002     0  4105\n",
      "Linköpings resecentrum 9022005000050018     0  4741\n",
      "Humlegatan             9022005001422002     0  4742\n",
      "Korngatan              9022005001424002     0  4742\n",
      "Tannefors center       9022005000421002     0  4743\n",
      "Vetegatan              9022005001426002     0  4743\n",
      "Stationsgatan          9022005001323002     0  4743\n",
      "Saab Södra             9022005001418002     0  4743\n",
      "Saab Civila            9022005001419002     0  4743\n",
      "Landerydsvägen         9022005001421001     0  4743\n",
      "Hackefors              9022005001437001     0  4743\n",
      "Hackefors södra        9022005001445002     0  4743\n",
      "Vårgård                9022005001435002     0  4743\n",
      "Ljunghagsvägen         9022005000422002     0  4743\n",
      "Roshagsvägen           9022005001433002     0  4743\n",
      "Hjulsbro skola         9022005001396002     0  4743\n",
      "Vårdsbergsvägen        9022005000437001     0  4743\n",
      "Ekdalsvägen            9022005001394001     0  4743\n",
      "Lövsbergsvägen         9022005000226001     0  4743\n",
      "Memory optimization: 341.55 MB → 34.61 MB (89.9% reduction)\n"
     ]
    }
   ],
   "source": [
    "former_16 = DataFormer(test_16)"
   ]
  },
  {
   "cell_type": "code",
   "execution_count": null,
   "metadata": {},
   "outputs": [
    {
     "name": "stdout",
     "output_type": "stream",
     "text": [
      "Removing 1236 duplicates.\n",
      "\n",
      "Found 27 potential stop pairs to process\n",
      "\n",
      "Fixes for stop pair 'Hackefors':\n",
      "  Direction mapping: {'9022005001437001': np.int64(1), '9022005001437002': np.int64(0)}\n",
      "  - Fixed 555 records for stop ID 9022005001437001 -> 9022005001437002 (dir 0): 555\n",
      "\n",
      "Made a total of 555 corrections for stop pairs\n",
      "\n",
      "Verifying potentially problematic stops after corrections:\n",
      "  No remaining direction problems found in stop pairs.\n",
      "Memory optimization: 341.55 MB → 34.35 MB (89.9% reduction)\n"
     ]
    }
   ],
   "source": []
  },
  {
   "cell_type": "code",
   "execution_count": null,
   "metadata": {},
   "outputs": [],
   "source": []
  },
  {
   "cell_type": "code",
   "execution_count": null,
   "metadata": {},
   "outputs": [],
   "source": []
  },
  {
   "cell_type": "code",
   "execution_count": null,
   "metadata": {},
   "outputs": [],
   "source": []
  },
  {
   "cell_type": "code",
   "execution_count": null,
   "metadata": {},
   "outputs": [],
   "source": [
    "training_form_data = former.final_form_data[former.final_form_data['start_date'] < '2024-01-01'].copy()\n",
    "evaluation_form_data = former.final_form_data[former.final_form_data['start_date'] >= '2024-01-01'].copy()"
   ]
  },
  {
   "cell_type": "code",
   "execution_count": null,
   "metadata": {},
   "outputs": [],
   "source": [
    "print(former.clust_res_dep)\n",
    "print(former.clust_res_inc)"
   ]
  },
  {
   "cell_type": "code",
   "execution_count": null,
   "metadata": {},
   "outputs": [],
   "source": [
    "print(former.final_form_data.iloc[50])"
   ]
  },
  {
   "cell_type": "code",
   "execution_count": null,
   "metadata": {},
   "outputs": [],
   "source": [
    "group_cols_ord=['stop_id', 'stop_name','direction_id', 'month_type_ord', 'day_type', 'time_type']\n",
    "group_cols_dep=['stop_id', 'stop_name','direction_id', 'month_type_dep', 'day_type', 'time_type']\n",
    "group_cols_inc=['stop_id', 'stop_name','direction_id', 'month_type_inc', 'day_type', 'time_type']"
   ]
  },
  {
   "cell_type": "code",
   "execution_count": null,
   "metadata": {},
   "outputs": [],
   "source": [
    "\n"
   ]
  },
  {
   "cell_type": "code",
   "execution_count": null,
   "metadata": {},
   "outputs": [],
   "source": []
  },
  {
   "cell_type": "code",
   "execution_count": null,
   "metadata": {},
   "outputs": [],
   "source": [
    "import numpy as np\n",
    "ana_ord = DataAnalyzer(form_data=training_form_data, group_cols=group_cols_ord)\n",
    "ana_dep = DataAnalyzer(form_data=training_form_data, group_cols=group_cols_dep)\n",
    "ana_inc = DataAnalyzer(form_data=training_form_data, group_cols=group_cols_inc)\n",
    "\n",
    "percentiles = np.arange(10, 100, 5)\n",
    "\n",
    "ana_ord.do_route_analysis(percentiles=percentiles)\n",
    "ana_ord.save_analysis_and_form_data_to_csv(filename_ana= 'ana_ord.csv')\n",
    "\n",
    "ana_dep.do_route_analysis(percentiles=percentiles)\n",
    "ana_dep.save_analysis_and_form_data_to_csv(filename_ana= 'ana_dep.csv')\n",
    "\n",
    "ana_inc.do_route_analysis(percentiles=percentiles)\n",
    "ana_inc.save_analysis_and_form_data_to_csv(filename_ana= 'ana_inc.csv')"
   ]
  },
  {
   "cell_type": "code",
   "execution_count": null,
   "metadata": {},
   "outputs": [],
   "source": []
  },
  {
   "cell_type": "code",
   "execution_count": null,
   "metadata": {},
   "outputs": [],
   "source": [
    "analyzer_for_training_ord = DataAnalyzer()\n",
    "analyzer_for_training_dep = DataAnalyzer()\n",
    "analyzer_for_training_inc = DataAnalyzer()\n",
    "analyzer_for_training_ord.load_analysis_and_form_data_from_csv(filename_ana='ana_ord.csv')\n",
    "analyzer_for_training_dep.load_analysis_and_form_data_from_csv(filename_ana='ana_dep.csv')\n",
    "analyzer_for_training_inc.load_analysis_and_form_data_from_csv(filename_ana='ana_inc.csv')"
   ]
  },
  {
   "cell_type": "code",
   "execution_count": null,
   "metadata": {},
   "outputs": [],
   "source": [
    "for col in analyzer_for_training_inc._route_analysis.columns:\n",
    "    print(col, analyzer_for_training_inc._route_analysis[col].dtype)"
   ]
  },
  {
   "cell_type": "code",
   "execution_count": null,
   "metadata": {},
   "outputs": [],
   "source": [
    "'''The following cells should be ran with the ScheduleOptimizer set with the too early too late setting that se are interested in'''"
   ]
  },
  {
   "cell_type": "code",
   "execution_count": null,
   "metadata": {},
   "outputs": [],
   "source": [
    "\n",
    "# Create and run the optimizer\n",
    "optimizer_for_evaluation_ord = ScheduleOptimizer(evaluation_form_data.copy(), analyzer_for_training_ord)\n",
    "optimizer_for_evaluation_dep = ScheduleOptimizer(evaluation_form_data.copy(), analyzer_for_training_dep)\n",
    "optimizer_for_evaluation_inc = ScheduleOptimizer(evaluation_form_data.copy(), analyzer_for_training_inc)\n",
    "\n",
    "# Define parameter combinations to test\n",
    "clust_types = [optimizer_for_evaluation_ord, optimizer_for_evaluation_dep, optimizer_for_evaluation_inc]\n",
    "delay_types = ['departure_delay', 'incremental_delay']\n",
    "percentiles = percentiles  # Using your previously defined percenti_les\n",
    "scaling_factors = np.arange(0.1, 1.0, 0.1)\n",
    "stat_methods = ['mean', 'median']  # Add mean and median as optimization methods"
   ]
  },
  {
   "cell_type": "code",
   "execution_count": null,
   "metadata": {},
   "outputs": [],
   "source": [
    "for elem in clust_types:\n",
    "    for col in elem.enriched_data.columns:\n",
    "        print(col, elem.enriched_data[col].dtype)"
   ]
  },
  {
   "cell_type": "code",
   "execution_count": null,
   "metadata": {},
   "outputs": [],
   "source": []
  },
  {
   "cell_type": "code",
   "execution_count": null,
   "metadata": {},
   "outputs": [],
   "source": [
    "# Store results with clear identifiers\n",
    "all_summaries = {}\n",
    "\n",
    "# Process percentile-based methods\n",
    "for clust in clust_types:\n",
    "    for delay_type in delay_types:\n",
    "        for percentile in percentiles:\n",
    "            for scaling_factor in scaling_factors:\n",
    "                # Create identifier for this combination\n",
    "                key = f\"{clust}_{delay_type}_percentile_{percentile}_sf{scaling_factor}\"\n",
    "                \n",
    "                # Run optimization\n",
    "                clust.find_new_departure_times(\n",
    "                    delay_type=delay_type,\n",
    "                    opt_method=f'percentile_{percentile}',\n",
    "                    scaling_factor=scaling_factor\n",
    "                )\n",
    "                \n",
    "                # Get and store summary\n",
    "                summary = clust.get_optimization_summary(\n",
    "                    delay_type=delay_type,\n",
    "                    opt_method=f'percentile_{percentile}',\n",
    "                    scaling_factor=scaling_factor\n",
    "                )\n",
    "                \n",
    "                all_summaries[key] = summary\n",
    "            \n"
   ]
  },
  {
   "cell_type": "code",
   "execution_count": null,
   "metadata": {},
   "outputs": [],
   "source": [
    "# Process mean and median methods\n",
    "for clust in clust_types:\n",
    "    for delay_type in delay_types:\n",
    "        for stat_method in stat_methods:\n",
    "            for scaling_factor in scaling_factors:\n",
    "                # Create identifier for this combination\n",
    "                key = f\"{clust}_{delay_type}_{stat_method}_sf{scaling_factor}\"\n",
    "                \n",
    "                # Run optimization\n",
    "                clust.find_new_departure_times(\n",
    "                    delay_type=delay_type,\n",
    "                    opt_method=stat_method,\n",
    "                    scaling_factor=scaling_factor\n",
    "                )\n",
    "                \n",
    "                # Get and store summary\n",
    "                summary = clust.get_optimization_summary(\n",
    "                    delay_type=delay_type,\n",
    "                    opt_method=stat_method,\n",
    "                    scaling_factor=scaling_factor\n",
    "                )\n",
    "                \n",
    "                all_summaries[key] = summary\n",
    "\n",
    "# Count total optimizations performed\n",
    "total_optimizations = len(all_summaries)\n",
    "print(f\"Completed {total_optimizations} different optimization strategies\")\n"
   ]
  },
  {
   "cell_type": "code",
   "execution_count": null,
   "metadata": {},
   "outputs": [],
   "source": [
    "# A more useful way to examine results\n",
    "best_improvement = None\n",
    "best_config = None\n",
    "best_value = float('-inf')\n",
    "\n",
    "for key, summary in all_summaries.items():\n",
    "    # Get on-time percentage improvement\n",
    "    on_time_row = summary[summary['metric'] == 'On-Time %']\n",
    "    if not on_time_row.empty:\n",
    "        improvement = on_time_row['percent_improvement'].values[0]\n",
    "        if pd.notnull(improvement) and improvement > best_value:\n",
    "            best_value = improvement\n",
    "            best_config = key\n",
    "            best_improvement = on_time_row\n",
    "\n",
    "print(f\"Best configuration: {best_config}\")\n",
    "print(f\"On-time percentage improvement: {best_value:.2f}%\")\n",
    "print(\"Best summary:\")\n",
    "print(all_summaries[best_config])"
   ]
  },
  {
   "cell_type": "code",
   "execution_count": null,
   "metadata": {},
   "outputs": [],
   "source": []
  },
  {
   "cell_type": "code",
   "execution_count": null,
   "metadata": {},
   "outputs": [],
   "source": [
    "import pandas as pd\n",
    "\n",
    "# Create a list to hold all summary DataFrames with strategy info added\n",
    "all_dfs = []\n",
    "\n",
    "for strategy_key, summary_df in all_summaries.items():\n",
    "    # Add strategy information as columns\n",
    "    summary_df = summary_df.copy()\n",
    "    summary_df['strategy'] = strategy_key\n",
    "    \n",
    "    # Extract strategy components more safely\n",
    "    if 'incremental_delay' in strategy_key:\n",
    "        summary_df['delay_type'] = 'incremental_delay'\n",
    "    elif 'departure_delay' in strategy_key:\n",
    "        summary_df['delay_type'] = 'departure_delay'\n",
    "    else:\n",
    "        summary_df['delay_type'] = 'unknown'\n",
    "        \n",
    "    # Extract method (mean, median, percentile)\n",
    "    if 'mean' in strategy_key:\n",
    "        summary_df['method'] = 'mean'\n",
    "    elif 'median' in strategy_key:\n",
    "        summary_df['method'] = 'median'\n",
    "    elif 'percentile' in strategy_key:\n",
    "        # Extract percentile value if possible\n",
    "        import re\n",
    "        percentile_match = re.search(r'percentile_(\\d+)', strategy_key)\n",
    "        if percentile_match:\n",
    "            summary_df['method'] = f\"percentile_{percentile_match.group(1)}\"\n",
    "        else:\n",
    "            summary_df['method'] = 'percentile'\n",
    "    else:\n",
    "        summary_df['method'] = 'unknown'\n",
    "        \n",
    "    # Extract scaling factor\n",
    "    import re\n",
    "    sf_match = re.search(r'sf([\\d\\.]+)', strategy_key)\n",
    "    if sf_match:\n",
    "        summary_df['scaling_factor'] = float(sf_match.group(1))\n",
    "    else:\n",
    "        summary_df['scaling_factor'] = None\n",
    "    \n",
    "    all_dfs.append(summary_df)\n",
    "\n",
    "# Combine all DataFrames\n",
    "combined_df = pd.concat(all_dfs, ignore_index=True)\n",
    "\n",
    "# Save to CSV\n",
    "combined_df.to_csv('summaries_30to90.csv', index=False)\n",
    "\n",
    "print(f\"Saved combined summary with {len(combined_df)} rows\")"
   ]
  },
  {
   "cell_type": "code",
   "execution_count": null,
   "metadata": {},
   "outputs": [],
   "source": [
    "\n",
    "combined_summaries = pd.read_csv('summaries_30to200.csv')\n",
    "print(combined_summaries)"
   ]
  }
 ],
 "metadata": {
  "kernelspec": {
   "display_name": "Python 3",
   "language": "python",
   "name": "python3"
  },
  "language_info": {
   "codemirror_mode": {
    "name": "ipython",
    "version": 3
   },
   "file_extension": ".py",
   "mimetype": "text/x-python",
   "name": "python",
   "nbconvert_exporter": "python",
   "pygments_lexer": "ipython3",
   "version": "3.9.13"
  }
 },
 "nbformat": 4,
 "nbformat_minor": 2
}
