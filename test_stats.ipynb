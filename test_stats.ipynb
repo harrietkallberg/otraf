{
 "cells": [
  {
   "cell_type": "code",
   "execution_count": 115,
   "metadata": {},
   "outputs": [
    {
     "name": "stdout",
     "output_type": "stream",
     "text": [
      "The autoreload extension is already loaded. To reload it, use:\n",
      "  %reload_ext autoreload\n"
     ]
    }
   ],
   "source": [
    "%load_ext autoreload\n",
    "%autoreload 2\n",
    "\n",
    "from statistical.data_availability import DataAvailability\n",
    "from statistical.data_retriever import DataRetriever\n",
    "from statistical.data_former import DataFormer\n",
    "from statistical.data_analyzer import DataAnalyzer\n",
    "\n",
    "from statistical.efficient_schedule_optimizer import ScheduleOptimizer\n"
   ]
  },
  {
   "cell_type": "code",
   "execution_count": 2,
   "metadata": {},
   "outputs": [
    {
     "name": "stdout",
     "output_type": "stream",
     "text": [
      "[(datetime.date(2021, 9, 1), datetime.date(2021, 12, 24)), (datetime.date(2022, 1, 28), datetime.date(2022, 11, 16)), (datetime.date(2022, 11, 18), datetime.date(2023, 2, 24)), (datetime.date(2023, 3, 1), datetime.date(2023, 4, 19)), (datetime.date(2023, 4, 21), datetime.date(2023, 5, 31)), (datetime.date(2023, 6, 2), datetime.date(2023, 9, 14)), (datetime.date(2023, 11, 2), datetime.date(2024, 6, 11))]\n"
     ]
    }
   ],
   "source": [
    "\n",
    "# Pick route and dates\n",
    "company = 'otraf'\n",
    "\n",
    "dave = DataAvailability()\n",
    "#continous_tripupd_periods = dave.find_continuous_periods('TripUpdates')\n",
    "cont_trip_upd = dave.find_continuous_periods('TripUpdates')\n",
    "\n",
    "print(cont_trip_upd)"
   ]
  },
  {
   "cell_type": "code",
   "execution_count": null,
   "metadata": {},
   "outputs": [],
   "source": []
  },
  {
   "cell_type": "code",
   "execution_count": 3,
   "metadata": {},
   "outputs": [
    {
     "name": "stdout",
     "output_type": "stream",
     "text": [
      "Processing data for 2021-09-01...\n"
     ]
    },
    {
     "name": "stderr",
     "output_type": "stream",
     "text": [
      "Loading data: 100%|██████████| 1/1 [00:04<00:00,  4.99s/it]\n"
     ]
    },
    {
     "name": "stdout",
     "output_type": "stream",
     "text": [
      "Processing data for 2021-09-02...\n"
     ]
    },
    {
     "name": "stderr",
     "output_type": "stream",
     "text": [
      "Loading data: 100%|██████████| 1/1 [00:05<00:00,  5.03s/it]\n"
     ]
    },
    {
     "name": "stdout",
     "output_type": "stream",
     "text": [
      "Processing data for 2021-09-03...\n"
     ]
    },
    {
     "name": "stderr",
     "output_type": "stream",
     "text": [
      "Loading data: 100%|██████████| 1/1 [00:04<00:00,  4.69s/it]\n"
     ]
    },
    {
     "name": "stdout",
     "output_type": "stream",
     "text": [
      "Processing data for 2021-09-04...\n"
     ]
    },
    {
     "name": "stderr",
     "output_type": "stream",
     "text": [
      "Loading data: 100%|██████████| 1/1 [00:03<00:00,  3.53s/it]\n"
     ]
    },
    {
     "name": "stdout",
     "output_type": "stream",
     "text": [
      "Processing data for 2021-09-05...\n"
     ]
    },
    {
     "name": "stderr",
     "output_type": "stream",
     "text": [
      "Loading data: 100%|██████████| 1/1 [00:04<00:00,  4.34s/it]\n"
     ]
    },
    {
     "name": "stdout",
     "output_type": "stream",
     "text": [
      "Processing data for 2021-09-06...\n"
     ]
    },
    {
     "name": "stderr",
     "output_type": "stream",
     "text": [
      "Loading data: 100%|██████████| 1/1 [00:04<00:00,  4.66s/it]\n"
     ]
    },
    {
     "name": "stdout",
     "output_type": "stream",
     "text": [
      "Processing data for 2021-09-07...\n"
     ]
    },
    {
     "name": "stderr",
     "output_type": "stream",
     "text": [
      "Loading data: 100%|██████████| 1/1 [00:05<00:00,  5.33s/it]\n"
     ]
    },
    {
     "name": "stdout",
     "output_type": "stream",
     "text": [
      "Processing data for 2021-09-08...\n"
     ]
    },
    {
     "name": "stderr",
     "output_type": "stream",
     "text": [
      "Loading data: 100%|██████████| 1/1 [00:05<00:00,  5.12s/it]\n"
     ]
    },
    {
     "name": "stdout",
     "output_type": "stream",
     "text": [
      "Processing data for 2021-09-09...\n"
     ]
    },
    {
     "name": "stderr",
     "output_type": "stream",
     "text": [
      "Loading data: 100%|██████████| 1/1 [00:04<00:00,  4.60s/it]\n"
     ]
    },
    {
     "name": "stdout",
     "output_type": "stream",
     "text": [
      "Processing data for 2021-09-10...\n"
     ]
    },
    {
     "name": "stderr",
     "output_type": "stream",
     "text": [
      "Loading data: 100%|██████████| 1/1 [00:04<00:00,  4.19s/it]\n"
     ]
    },
    {
     "name": "stdout",
     "output_type": "stream",
     "text": [
      "Processing data for 2021-09-11...\n"
     ]
    },
    {
     "name": "stderr",
     "output_type": "stream",
     "text": [
      "Loading data: 100%|██████████| 1/1 [00:03<00:00,  3.22s/it]\n"
     ]
    },
    {
     "name": "stdout",
     "output_type": "stream",
     "text": [
      "Processing data for 2021-09-12...\n"
     ]
    },
    {
     "name": "stderr",
     "output_type": "stream",
     "text": [
      "Loading data: 100%|██████████| 1/1 [00:03<00:00,  3.39s/it]\n"
     ]
    },
    {
     "name": "stdout",
     "output_type": "stream",
     "text": [
      "Processing data for 2021-09-13...\n"
     ]
    },
    {
     "name": "stderr",
     "output_type": "stream",
     "text": [
      "Loading data: 100%|██████████| 1/1 [00:04<00:00,  4.41s/it]\n"
     ]
    },
    {
     "name": "stdout",
     "output_type": "stream",
     "text": [
      "Processing data for 2021-09-14...\n"
     ]
    },
    {
     "name": "stderr",
     "output_type": "stream",
     "text": [
      "Loading data: 100%|██████████| 1/1 [00:04<00:00,  4.73s/it]\n"
     ]
    },
    {
     "name": "stdout",
     "output_type": "stream",
     "text": [
      "Processing data for 2021-09-15...\n"
     ]
    },
    {
     "name": "stderr",
     "output_type": "stream",
     "text": [
      "Loading data: 100%|██████████| 1/1 [00:05<00:00,  5.58s/it]\n"
     ]
    },
    {
     "name": "stdout",
     "output_type": "stream",
     "text": [
      "Processing data for 2021-09-16...\n"
     ]
    },
    {
     "name": "stderr",
     "output_type": "stream",
     "text": [
      "Loading data: 100%|██████████| 1/1 [00:05<00:00,  5.25s/it]\n"
     ]
    },
    {
     "name": "stdout",
     "output_type": "stream",
     "text": [
      "Processing data for 2021-09-17...\n"
     ]
    },
    {
     "name": "stderr",
     "output_type": "stream",
     "text": [
      "Loading data: 100%|██████████| 1/1 [00:05<00:00,  5.20s/it]\n"
     ]
    },
    {
     "name": "stdout",
     "output_type": "stream",
     "text": [
      "Processing data for 2021-09-18...\n"
     ]
    },
    {
     "name": "stderr",
     "output_type": "stream",
     "text": [
      "Loading data: 100%|██████████| 1/1 [00:03<00:00,  3.24s/it]\n"
     ]
    },
    {
     "name": "stdout",
     "output_type": "stream",
     "text": [
      "Processing data for 2021-09-19...\n"
     ]
    },
    {
     "name": "stderr",
     "output_type": "stream",
     "text": [
      "Loading data: 100%|██████████| 1/1 [00:03<00:00,  3.29s/it]\n"
     ]
    },
    {
     "name": "stdout",
     "output_type": "stream",
     "text": [
      "Processing data for 2021-09-20...\n"
     ]
    },
    {
     "name": "stderr",
     "output_type": "stream",
     "text": [
      "Loading data: 100%|██████████| 1/1 [00:04<00:00,  4.80s/it]\n"
     ]
    },
    {
     "name": "stdout",
     "output_type": "stream",
     "text": [
      "Processing data for 2021-09-21...\n"
     ]
    },
    {
     "name": "stderr",
     "output_type": "stream",
     "text": [
      "Loading data: 100%|██████████| 1/1 [00:04<00:00,  4.30s/it]\n"
     ]
    },
    {
     "name": "stdout",
     "output_type": "stream",
     "text": [
      "Processing data for 2021-09-22...\n"
     ]
    },
    {
     "name": "stderr",
     "output_type": "stream",
     "text": [
      "Loading data: 100%|██████████| 1/1 [00:06<00:00,  6.43s/it]\n"
     ]
    },
    {
     "name": "stdout",
     "output_type": "stream",
     "text": [
      "Processing data for 2021-09-23...\n"
     ]
    },
    {
     "name": "stderr",
     "output_type": "stream",
     "text": [
      "Loading data: 100%|██████████| 1/1 [00:05<00:00,  5.46s/it]\n"
     ]
    },
    {
     "name": "stdout",
     "output_type": "stream",
     "text": [
      "Processing data for 2021-09-24...\n"
     ]
    },
    {
     "name": "stderr",
     "output_type": "stream",
     "text": [
      "Loading data: 100%|██████████| 1/1 [00:05<00:00,  5.67s/it]\n"
     ]
    },
    {
     "name": "stdout",
     "output_type": "stream",
     "text": [
      "Processing data for 2021-09-25...\n"
     ]
    },
    {
     "name": "stderr",
     "output_type": "stream",
     "text": [
      "Loading data: 100%|██████████| 1/1 [00:03<00:00,  3.20s/it]\n"
     ]
    },
    {
     "name": "stdout",
     "output_type": "stream",
     "text": [
      "Processing data for 2021-09-26...\n"
     ]
    },
    {
     "name": "stderr",
     "output_type": "stream",
     "text": [
      "Loading data: 100%|██████████| 1/1 [00:03<00:00,  3.27s/it]\n"
     ]
    },
    {
     "name": "stdout",
     "output_type": "stream",
     "text": [
      "Processing data for 2021-09-27...\n"
     ]
    },
    {
     "name": "stderr",
     "output_type": "stream",
     "text": [
      "Loading data: 100%|██████████| 1/1 [00:04<00:00,  4.44s/it]\n"
     ]
    },
    {
     "name": "stdout",
     "output_type": "stream",
     "text": [
      "Processing data for 2021-09-28...\n"
     ]
    },
    {
     "name": "stderr",
     "output_type": "stream",
     "text": [
      "Loading data: 100%|██████████| 1/1 [00:04<00:00,  4.79s/it]\n"
     ]
    },
    {
     "name": "stdout",
     "output_type": "stream",
     "text": [
      "Processing data for 2021-09-29...\n"
     ]
    },
    {
     "name": "stderr",
     "output_type": "stream",
     "text": [
      "Loading data: 100%|██████████| 1/1 [00:04<00:00,  4.91s/it]\n"
     ]
    },
    {
     "name": "stdout",
     "output_type": "stream",
     "text": [
      "Processing data for 2021-09-30...\n"
     ]
    },
    {
     "name": "stderr",
     "output_type": "stream",
     "text": [
      "Loading data: 100%|██████████| 1/1 [00:04<00:00,  4.84s/it]\n"
     ]
    },
    {
     "name": "stdout",
     "output_type": "stream",
     "text": [
      "Processing data for 2021-10-01...\n"
     ]
    },
    {
     "name": "stderr",
     "output_type": "stream",
     "text": [
      "Loading data: 100%|██████████| 1/1 [00:04<00:00,  4.83s/it]\n"
     ]
    },
    {
     "name": "stdout",
     "output_type": "stream",
     "text": [
      "Processing data for 2021-10-02...\n"
     ]
    },
    {
     "name": "stderr",
     "output_type": "stream",
     "text": [
      "Loading data: 100%|██████████| 1/1 [00:03<00:00,  3.63s/it]\n"
     ]
    },
    {
     "name": "stdout",
     "output_type": "stream",
     "text": [
      "Processing data for 2021-10-03...\n"
     ]
    },
    {
     "name": "stderr",
     "output_type": "stream",
     "text": [
      "Loading data: 100%|██████████| 1/1 [00:03<00:00,  3.43s/it]\n"
     ]
    },
    {
     "name": "stdout",
     "output_type": "stream",
     "text": [
      "Processing data for 2021-10-04...\n"
     ]
    },
    {
     "name": "stderr",
     "output_type": "stream",
     "text": [
      "Loading data: 100%|██████████| 1/1 [00:05<00:00,  5.31s/it]\n"
     ]
    },
    {
     "name": "stdout",
     "output_type": "stream",
     "text": [
      "Processing data for 2021-10-05...\n"
     ]
    },
    {
     "name": "stderr",
     "output_type": "stream",
     "text": [
      "Loading data: 100%|██████████| 1/1 [00:04<00:00,  4.67s/it]\n"
     ]
    },
    {
     "name": "stdout",
     "output_type": "stream",
     "text": [
      "Processing data for 2021-10-06...\n"
     ]
    },
    {
     "name": "stderr",
     "output_type": "stream",
     "text": [
      "Loading data: 100%|██████████| 1/1 [00:05<00:00,  5.12s/it]\n"
     ]
    },
    {
     "name": "stdout",
     "output_type": "stream",
     "text": [
      "Processing data for 2021-10-07...\n"
     ]
    },
    {
     "name": "stderr",
     "output_type": "stream",
     "text": [
      "Loading data: 100%|██████████| 1/1 [00:04<00:00,  4.71s/it]\n"
     ]
    },
    {
     "name": "stdout",
     "output_type": "stream",
     "text": [
      "Processing data for 2021-10-08...\n"
     ]
    },
    {
     "name": "stderr",
     "output_type": "stream",
     "text": [
      "Loading data: 100%|██████████| 1/1 [00:05<00:00,  5.10s/it]\n"
     ]
    },
    {
     "name": "stdout",
     "output_type": "stream",
     "text": [
      "Processing data for 2021-10-09...\n"
     ]
    },
    {
     "name": "stderr",
     "output_type": "stream",
     "text": [
      "Loading data: 100%|██████████| 1/1 [00:03<00:00,  3.95s/it]\n"
     ]
    },
    {
     "name": "stdout",
     "output_type": "stream",
     "text": [
      "Processing data for 2021-10-10...\n"
     ]
    },
    {
     "name": "stderr",
     "output_type": "stream",
     "text": [
      "Loading data: 100%|██████████| 1/1 [00:03<00:00,  3.79s/it]\n"
     ]
    },
    {
     "name": "stdout",
     "output_type": "stream",
     "text": [
      "Processing data for 2021-10-11...\n"
     ]
    },
    {
     "name": "stderr",
     "output_type": "stream",
     "text": [
      "Loading data: 100%|██████████| 1/1 [00:05<00:00,  5.40s/it]\n"
     ]
    },
    {
     "name": "stdout",
     "output_type": "stream",
     "text": [
      "Processing data for 2021-10-12...\n"
     ]
    },
    {
     "name": "stderr",
     "output_type": "stream",
     "text": [
      "Loading data: 100%|██████████| 1/1 [00:05<00:00,  5.16s/it]\n"
     ]
    },
    {
     "name": "stdout",
     "output_type": "stream",
     "text": [
      "Processing data for 2021-10-13...\n"
     ]
    },
    {
     "name": "stderr",
     "output_type": "stream",
     "text": [
      "Loading data:   0%|          | 0/1 [00:00<?, ?it/s]"
     ]
    },
    {
     "name": "stdout",
     "output_type": "stream",
     "text": [
      "Using static data from 2021-10-12 instead of 2021-10-13\n"
     ]
    },
    {
     "name": "stderr",
     "output_type": "stream",
     "text": [
      "Loading data: 100%|██████████| 1/1 [00:02<00:00,  2.78s/it]\n"
     ]
    },
    {
     "name": "stdout",
     "output_type": "stream",
     "text": [
      "Processing data for 2021-10-14...\n"
     ]
    },
    {
     "name": "stderr",
     "output_type": "stream",
     "text": [
      "Loading data: 100%|██████████| 1/1 [00:03<00:00,  4.00s/it]\n"
     ]
    },
    {
     "name": "stdout",
     "output_type": "stream",
     "text": [
      "Processing data for 2021-10-15...\n"
     ]
    },
    {
     "name": "stderr",
     "output_type": "stream",
     "text": [
      "Loading data: 100%|██████████| 1/1 [00:06<00:00,  6.86s/it]\n"
     ]
    },
    {
     "name": "stdout",
     "output_type": "stream",
     "text": [
      "Processing data for 2021-10-16...\n"
     ]
    },
    {
     "name": "stderr",
     "output_type": "stream",
     "text": [
      "Loading data: 100%|██████████| 1/1 [00:04<00:00,  4.23s/it]\n"
     ]
    },
    {
     "name": "stdout",
     "output_type": "stream",
     "text": [
      "Processing data for 2021-10-17...\n"
     ]
    },
    {
     "name": "stderr",
     "output_type": "stream",
     "text": [
      "Loading data: 100%|██████████| 1/1 [00:03<00:00,  3.89s/it]\n"
     ]
    },
    {
     "name": "stdout",
     "output_type": "stream",
     "text": [
      "Processing data for 2021-10-18...\n"
     ]
    },
    {
     "name": "stderr",
     "output_type": "stream",
     "text": [
      "Loading data: 100%|██████████| 1/1 [00:06<00:00,  6.13s/it]\n"
     ]
    },
    {
     "name": "stdout",
     "output_type": "stream",
     "text": [
      "Processing data for 2021-10-19...\n"
     ]
    },
    {
     "name": "stderr",
     "output_type": "stream",
     "text": [
      "Loading data: 100%|██████████| 1/1 [00:05<00:00,  5.64s/it]\n"
     ]
    },
    {
     "name": "stdout",
     "output_type": "stream",
     "text": [
      "Processing data for 2021-10-20...\n"
     ]
    },
    {
     "name": "stderr",
     "output_type": "stream",
     "text": [
      "Loading data: 100%|██████████| 1/1 [00:06<00:00,  6.02s/it]\n"
     ]
    },
    {
     "name": "stdout",
     "output_type": "stream",
     "text": [
      "Processing data for 2021-10-21...\n"
     ]
    },
    {
     "name": "stderr",
     "output_type": "stream",
     "text": [
      "Loading data: 100%|██████████| 1/1 [00:05<00:00,  5.14s/it]\n"
     ]
    },
    {
     "name": "stdout",
     "output_type": "stream",
     "text": [
      "Processing data for 2021-10-22...\n"
     ]
    },
    {
     "name": "stderr",
     "output_type": "stream",
     "text": [
      "Loading data: 100%|██████████| 1/1 [00:05<00:00,  5.43s/it]\n"
     ]
    },
    {
     "name": "stdout",
     "output_type": "stream",
     "text": [
      "Processing data for 2021-10-23...\n"
     ]
    },
    {
     "name": "stderr",
     "output_type": "stream",
     "text": [
      "Loading data:   0%|          | 0/1 [00:00<?, ?it/s]"
     ]
    },
    {
     "name": "stdout",
     "output_type": "stream",
     "text": [
      "Using static data from 2021-10-22 instead of 2021-10-23\n"
     ]
    },
    {
     "name": "stderr",
     "output_type": "stream",
     "text": [
      "Loading data: 100%|██████████| 1/1 [00:03<00:00,  3.96s/it]\n"
     ]
    },
    {
     "name": "stdout",
     "output_type": "stream",
     "text": [
      "Processing data for 2021-10-24...\n"
     ]
    },
    {
     "name": "stderr",
     "output_type": "stream",
     "text": [
      "Loading data: 100%|██████████| 1/1 [00:04<00:00,  4.87s/it]\n"
     ]
    },
    {
     "name": "stdout",
     "output_type": "stream",
     "text": [
      "Processing data for 2021-10-25...\n"
     ]
    },
    {
     "name": "stderr",
     "output_type": "stream",
     "text": [
      "Loading data: 100%|██████████| 1/1 [00:04<00:00,  4.67s/it]\n"
     ]
    },
    {
     "name": "stdout",
     "output_type": "stream",
     "text": [
      "Processing data for 2021-10-26...\n"
     ]
    },
    {
     "name": "stderr",
     "output_type": "stream",
     "text": [
      "Loading data: 100%|██████████| 1/1 [00:04<00:00,  5.00s/it]\n"
     ]
    },
    {
     "name": "stdout",
     "output_type": "stream",
     "text": [
      "Processing data for 2021-10-27...\n"
     ]
    },
    {
     "name": "stderr",
     "output_type": "stream",
     "text": [
      "Loading data: 100%|██████████| 1/1 [00:05<00:00,  5.22s/it]\n"
     ]
    },
    {
     "name": "stdout",
     "output_type": "stream",
     "text": [
      "Processing data for 2021-10-28...\n"
     ]
    },
    {
     "name": "stderr",
     "output_type": "stream",
     "text": [
      "Loading data: 100%|██████████| 1/1 [00:05<00:00,  5.34s/it]\n"
     ]
    },
    {
     "name": "stdout",
     "output_type": "stream",
     "text": [
      "Processing data for 2021-10-29...\n"
     ]
    },
    {
     "name": "stderr",
     "output_type": "stream",
     "text": [
      "Loading data: 100%|██████████| 1/1 [00:06<00:00,  6.72s/it]\n"
     ]
    },
    {
     "name": "stdout",
     "output_type": "stream",
     "text": [
      "Processing data for 2021-10-30...\n"
     ]
    },
    {
     "name": "stderr",
     "output_type": "stream",
     "text": [
      "Loading data: 100%|██████████| 1/1 [00:04<00:00,  4.93s/it]\n"
     ]
    },
    {
     "name": "stdout",
     "output_type": "stream",
     "text": [
      "Processing data for 2021-10-31...\n"
     ]
    },
    {
     "name": "stderr",
     "output_type": "stream",
     "text": [
      "Loading data: 100%|██████████| 1/1 [00:04<00:00,  4.69s/it]\n"
     ]
    },
    {
     "name": "stdout",
     "output_type": "stream",
     "text": [
      "Processing data for 2021-11-01...\n"
     ]
    },
    {
     "name": "stderr",
     "output_type": "stream",
     "text": [
      "Loading data: 100%|██████████| 1/1 [00:06<00:00,  6.12s/it]\n"
     ]
    },
    {
     "name": "stdout",
     "output_type": "stream",
     "text": [
      "Processing data for 2021-11-02...\n"
     ]
    },
    {
     "name": "stderr",
     "output_type": "stream",
     "text": [
      "Loading data: 100%|██████████| 1/1 [00:05<00:00,  5.77s/it]\n"
     ]
    },
    {
     "name": "stdout",
     "output_type": "stream",
     "text": [
      "Processing data for 2021-11-03...\n"
     ]
    },
    {
     "name": "stderr",
     "output_type": "stream",
     "text": [
      "Loading data: 100%|██████████| 1/1 [00:05<00:00,  5.77s/it]\n"
     ]
    },
    {
     "name": "stdout",
     "output_type": "stream",
     "text": [
      "Processing data for 2021-11-04...\n"
     ]
    },
    {
     "name": "stderr",
     "output_type": "stream",
     "text": [
      "Loading data: 100%|██████████| 1/1 [00:06<00:00,  6.43s/it]\n"
     ]
    },
    {
     "name": "stdout",
     "output_type": "stream",
     "text": [
      "Processing data for 2021-11-05...\n"
     ]
    },
    {
     "name": "stderr",
     "output_type": "stream",
     "text": [
      "Loading data: 100%|██████████| 1/1 [00:06<00:00,  6.13s/it]\n"
     ]
    },
    {
     "name": "stdout",
     "output_type": "stream",
     "text": [
      "Processing data for 2021-11-06...\n"
     ]
    },
    {
     "name": "stderr",
     "output_type": "stream",
     "text": [
      "Loading data: 100%|██████████| 1/1 [00:05<00:00,  5.45s/it]\n"
     ]
    },
    {
     "name": "stdout",
     "output_type": "stream",
     "text": [
      "Processing data for 2021-11-07...\n"
     ]
    },
    {
     "name": "stderr",
     "output_type": "stream",
     "text": [
      "Loading data: 100%|██████████| 1/1 [00:05<00:00,  5.31s/it]\n"
     ]
    },
    {
     "name": "stdout",
     "output_type": "stream",
     "text": [
      "Processing data for 2021-11-08...\n"
     ]
    },
    {
     "name": "stderr",
     "output_type": "stream",
     "text": [
      "Loading data: 100%|██████████| 1/1 [00:07<00:00,  7.23s/it]\n"
     ]
    },
    {
     "name": "stdout",
     "output_type": "stream",
     "text": [
      "Processing data for 2021-11-09...\n"
     ]
    },
    {
     "name": "stderr",
     "output_type": "stream",
     "text": [
      "Loading data: 100%|██████████| 1/1 [00:06<00:00,  6.33s/it]\n"
     ]
    },
    {
     "name": "stdout",
     "output_type": "stream",
     "text": [
      "Processing data for 2021-11-10...\n"
     ]
    },
    {
     "name": "stderr",
     "output_type": "stream",
     "text": [
      "Loading data: 100%|██████████| 1/1 [00:06<00:00,  6.05s/it]\n"
     ]
    },
    {
     "name": "stdout",
     "output_type": "stream",
     "text": [
      "Processing data for 2021-11-11...\n"
     ]
    },
    {
     "name": "stderr",
     "output_type": "stream",
     "text": [
      "Loading data: 100%|██████████| 1/1 [00:05<00:00,  5.68s/it]\n"
     ]
    },
    {
     "name": "stdout",
     "output_type": "stream",
     "text": [
      "Processing data for 2021-11-12...\n"
     ]
    },
    {
     "name": "stderr",
     "output_type": "stream",
     "text": [
      "Loading data: 100%|██████████| 1/1 [00:05<00:00,  5.63s/it]\n"
     ]
    },
    {
     "name": "stdout",
     "output_type": "stream",
     "text": [
      "Processing data for 2021-11-13...\n"
     ]
    },
    {
     "name": "stderr",
     "output_type": "stream",
     "text": [
      "Loading data: 100%|██████████| 1/1 [00:05<00:00,  5.87s/it]\n"
     ]
    },
    {
     "name": "stdout",
     "output_type": "stream",
     "text": [
      "Processing data for 2021-11-14...\n"
     ]
    },
    {
     "name": "stderr",
     "output_type": "stream",
     "text": [
      "Loading data: 100%|██████████| 1/1 [00:04<00:00,  4.48s/it]\n"
     ]
    },
    {
     "name": "stdout",
     "output_type": "stream",
     "text": [
      "Processing data for 2021-11-15...\n"
     ]
    },
    {
     "name": "stderr",
     "output_type": "stream",
     "text": [
      "Loading data: 100%|██████████| 1/1 [00:05<00:00,  5.27s/it]\n"
     ]
    },
    {
     "name": "stdout",
     "output_type": "stream",
     "text": [
      "Processing data for 2021-11-16...\n"
     ]
    },
    {
     "name": "stderr",
     "output_type": "stream",
     "text": [
      "Loading data: 100%|██████████| 1/1 [00:05<00:00,  5.88s/it]\n"
     ]
    },
    {
     "name": "stdout",
     "output_type": "stream",
     "text": [
      "Processing data for 2021-11-17...\n"
     ]
    },
    {
     "name": "stderr",
     "output_type": "stream",
     "text": [
      "Loading data: 100%|██████████| 1/1 [00:06<00:00,  6.37s/it]\n"
     ]
    },
    {
     "name": "stdout",
     "output_type": "stream",
     "text": [
      "Processing data for 2021-11-18...\n"
     ]
    },
    {
     "name": "stderr",
     "output_type": "stream",
     "text": [
      "Loading data: 100%|██████████| 1/1 [00:06<00:00,  6.77s/it]\n"
     ]
    },
    {
     "name": "stdout",
     "output_type": "stream",
     "text": [
      "Processing data for 2021-11-19...\n"
     ]
    },
    {
     "name": "stderr",
     "output_type": "stream",
     "text": [
      "Loading data: 100%|██████████| 1/1 [00:06<00:00,  6.88s/it]\n"
     ]
    },
    {
     "name": "stdout",
     "output_type": "stream",
     "text": [
      "Processing data for 2021-11-20...\n"
     ]
    },
    {
     "name": "stderr",
     "output_type": "stream",
     "text": [
      "Loading data: 100%|██████████| 1/1 [00:06<00:00,  6.30s/it]\n"
     ]
    },
    {
     "name": "stdout",
     "output_type": "stream",
     "text": [
      "Processing data for 2021-11-21...\n"
     ]
    },
    {
     "name": "stderr",
     "output_type": "stream",
     "text": [
      "Loading data: 100%|██████████| 1/1 [00:05<00:00,  5.17s/it]\n"
     ]
    },
    {
     "name": "stdout",
     "output_type": "stream",
     "text": [
      "Processing data for 2021-11-22...\n"
     ]
    },
    {
     "name": "stderr",
     "output_type": "stream",
     "text": [
      "Loading data: 100%|██████████| 1/1 [00:07<00:00,  7.44s/it]\n"
     ]
    },
    {
     "name": "stdout",
     "output_type": "stream",
     "text": [
      "Processing data for 2021-11-23...\n"
     ]
    },
    {
     "name": "stderr",
     "output_type": "stream",
     "text": [
      "Loading data: 100%|██████████| 1/1 [00:06<00:00,  6.50s/it]\n"
     ]
    },
    {
     "name": "stdout",
     "output_type": "stream",
     "text": [
      "Processing data for 2021-11-24...\n"
     ]
    },
    {
     "name": "stderr",
     "output_type": "stream",
     "text": [
      "Loading data: 100%|██████████| 1/1 [00:05<00:00,  5.63s/it]\n"
     ]
    },
    {
     "name": "stdout",
     "output_type": "stream",
     "text": [
      "Processing data for 2021-11-25...\n"
     ]
    },
    {
     "name": "stderr",
     "output_type": "stream",
     "text": [
      "Loading data: 100%|██████████| 1/1 [00:06<00:00,  6.63s/it]\n"
     ]
    },
    {
     "name": "stdout",
     "output_type": "stream",
     "text": [
      "Processing data for 2021-11-26...\n"
     ]
    },
    {
     "name": "stderr",
     "output_type": "stream",
     "text": [
      "Loading data: 100%|██████████| 1/1 [00:06<00:00,  6.30s/it]\n"
     ]
    },
    {
     "name": "stdout",
     "output_type": "stream",
     "text": [
      "Processing data for 2021-11-27...\n"
     ]
    },
    {
     "name": "stderr",
     "output_type": "stream",
     "text": [
      "Loading data: 100%|██████████| 1/1 [00:05<00:00,  5.24s/it]\n"
     ]
    },
    {
     "name": "stdout",
     "output_type": "stream",
     "text": [
      "Processing data for 2021-11-28...\n"
     ]
    },
    {
     "name": "stderr",
     "output_type": "stream",
     "text": [
      "Loading data: 100%|██████████| 1/1 [00:05<00:00,  5.35s/it]\n"
     ]
    },
    {
     "name": "stdout",
     "output_type": "stream",
     "text": [
      "Processing data for 2021-11-29...\n"
     ]
    },
    {
     "name": "stderr",
     "output_type": "stream",
     "text": [
      "Loading data: 100%|██████████| 1/1 [00:05<00:00,  5.31s/it]\n"
     ]
    },
    {
     "name": "stdout",
     "output_type": "stream",
     "text": [
      "Processing data for 2021-11-30...\n"
     ]
    },
    {
     "name": "stderr",
     "output_type": "stream",
     "text": [
      "Loading data: 100%|██████████| 1/1 [00:06<00:00,  6.55s/it]\n"
     ]
    },
    {
     "name": "stdout",
     "output_type": "stream",
     "text": [
      "Processing data for 2021-12-01...\n"
     ]
    },
    {
     "name": "stderr",
     "output_type": "stream",
     "text": [
      "Loading data: 100%|██████████| 1/1 [00:06<00:00,  6.55s/it]\n"
     ]
    },
    {
     "name": "stdout",
     "output_type": "stream",
     "text": [
      "Processing data for 2021-12-02...\n"
     ]
    },
    {
     "name": "stderr",
     "output_type": "stream",
     "text": [
      "Loading data: 100%|██████████| 1/1 [00:06<00:00,  6.61s/it]\n"
     ]
    },
    {
     "name": "stdout",
     "output_type": "stream",
     "text": [
      "Processing data for 2021-12-03...\n"
     ]
    },
    {
     "name": "stderr",
     "output_type": "stream",
     "text": [
      "Loading data: 100%|██████████| 1/1 [00:06<00:00,  6.33s/it]\n"
     ]
    },
    {
     "name": "stdout",
     "output_type": "stream",
     "text": [
      "Processing data for 2021-12-04...\n"
     ]
    },
    {
     "name": "stderr",
     "output_type": "stream",
     "text": [
      "Loading data: 100%|██████████| 1/1 [00:05<00:00,  5.23s/it]\n"
     ]
    },
    {
     "name": "stdout",
     "output_type": "stream",
     "text": [
      "Processing data for 2021-12-05...\n"
     ]
    },
    {
     "name": "stderr",
     "output_type": "stream",
     "text": [
      "Loading data: 100%|██████████| 1/1 [00:04<00:00,  4.81s/it]\n"
     ]
    },
    {
     "name": "stdout",
     "output_type": "stream",
     "text": [
      "Processing data for 2021-12-06...\n"
     ]
    },
    {
     "name": "stderr",
     "output_type": "stream",
     "text": [
      "Loading data: 100%|██████████| 1/1 [00:06<00:00,  6.44s/it]\n"
     ]
    },
    {
     "name": "stdout",
     "output_type": "stream",
     "text": [
      "Processing data for 2021-12-07...\n"
     ]
    },
    {
     "name": "stderr",
     "output_type": "stream",
     "text": [
      "Loading data: 100%|██████████| 1/1 [00:06<00:00,  6.27s/it]\n"
     ]
    },
    {
     "name": "stdout",
     "output_type": "stream",
     "text": [
      "Processing data for 2021-12-08...\n"
     ]
    },
    {
     "name": "stderr",
     "output_type": "stream",
     "text": [
      "Loading data: 100%|██████████| 1/1 [00:06<00:00,  6.62s/it]\n"
     ]
    },
    {
     "name": "stdout",
     "output_type": "stream",
     "text": [
      "Processing data for 2021-12-09...\n"
     ]
    },
    {
     "name": "stderr",
     "output_type": "stream",
     "text": [
      "Loading data: 100%|██████████| 1/1 [00:05<00:00,  5.98s/it]\n"
     ]
    },
    {
     "name": "stdout",
     "output_type": "stream",
     "text": [
      "Processing data for 2021-12-10...\n"
     ]
    },
    {
     "name": "stderr",
     "output_type": "stream",
     "text": [
      "Loading data: 100%|██████████| 1/1 [00:06<00:00,  6.26s/it]\n"
     ]
    },
    {
     "name": "stdout",
     "output_type": "stream",
     "text": [
      "Processing data for 2021-12-11...\n"
     ]
    },
    {
     "name": "stderr",
     "output_type": "stream",
     "text": [
      "Loading data: 100%|██████████| 1/1 [00:05<00:00,  5.19s/it]\n"
     ]
    },
    {
     "name": "stdout",
     "output_type": "stream",
     "text": [
      "Processing data for 2021-12-12...\n"
     ]
    },
    {
     "name": "stderr",
     "output_type": "stream",
     "text": [
      "Loading data: 100%|██████████| 1/1 [00:04<00:00,  4.67s/it]\n"
     ]
    },
    {
     "name": "stdout",
     "output_type": "stream",
     "text": [
      "Processing data for 2021-12-13...\n"
     ]
    },
    {
     "name": "stderr",
     "output_type": "stream",
     "text": [
      "Loading data: 100%|██████████| 1/1 [00:06<00:00,  6.11s/it]\n"
     ]
    },
    {
     "name": "stdout",
     "output_type": "stream",
     "text": [
      "Processing data for 2021-12-14...\n"
     ]
    },
    {
     "name": "stderr",
     "output_type": "stream",
     "text": [
      "Loading data: 100%|██████████| 1/1 [00:06<00:00,  6.26s/it]\n"
     ]
    },
    {
     "name": "stdout",
     "output_type": "stream",
     "text": [
      "Processing data for 2021-12-15...\n"
     ]
    },
    {
     "name": "stderr",
     "output_type": "stream",
     "text": [
      "Loading data: 100%|██████████| 1/1 [00:05<00:00,  5.93s/it]\n"
     ]
    },
    {
     "name": "stdout",
     "output_type": "stream",
     "text": [
      "Processing data for 2021-12-16...\n"
     ]
    },
    {
     "name": "stderr",
     "output_type": "stream",
     "text": [
      "Loading data: 100%|██████████| 1/1 [00:05<00:00,  5.72s/it]\n"
     ]
    },
    {
     "name": "stdout",
     "output_type": "stream",
     "text": [
      "Processing data for 2021-12-17...\n"
     ]
    },
    {
     "name": "stderr",
     "output_type": "stream",
     "text": [
      "Loading data: 100%|██████████| 1/1 [00:05<00:00,  5.56s/it]\n"
     ]
    },
    {
     "name": "stdout",
     "output_type": "stream",
     "text": [
      "Processing data for 2021-12-18...\n"
     ]
    },
    {
     "name": "stderr",
     "output_type": "stream",
     "text": [
      "Loading data: 100%|██████████| 1/1 [00:04<00:00,  4.33s/it]\n"
     ]
    },
    {
     "name": "stdout",
     "output_type": "stream",
     "text": [
      "Processing data for 2021-12-19...\n"
     ]
    },
    {
     "name": "stderr",
     "output_type": "stream",
     "text": [
      "Loading data: 100%|██████████| 1/1 [00:04<00:00,  4.20s/it]\n"
     ]
    },
    {
     "name": "stdout",
     "output_type": "stream",
     "text": [
      "Processing data for 2021-12-20...\n"
     ]
    },
    {
     "name": "stderr",
     "output_type": "stream",
     "text": [
      "Loading data: 100%|██████████| 1/1 [00:05<00:00,  5.50s/it]\n"
     ]
    },
    {
     "name": "stdout",
     "output_type": "stream",
     "text": [
      "Processing data for 2021-12-21...\n"
     ]
    },
    {
     "name": "stderr",
     "output_type": "stream",
     "text": [
      "Loading data: 100%|██████████| 1/1 [00:05<00:00,  5.50s/it]\n"
     ]
    },
    {
     "name": "stdout",
     "output_type": "stream",
     "text": [
      "Processing data for 2021-12-22...\n"
     ]
    },
    {
     "name": "stderr",
     "output_type": "stream",
     "text": [
      "Loading data: 100%|██████████| 1/1 [00:05<00:00,  5.55s/it]\n"
     ]
    },
    {
     "name": "stdout",
     "output_type": "stream",
     "text": [
      "Processing data for 2021-12-23...\n"
     ]
    },
    {
     "name": "stderr",
     "output_type": "stream",
     "text": [
      "Loading data: 100%|██████████| 1/1 [00:05<00:00,  5.26s/it]\n"
     ]
    },
    {
     "name": "stdout",
     "output_type": "stream",
     "text": [
      "Processing data for 2021-12-24...\n"
     ]
    },
    {
     "name": "stderr",
     "output_type": "stream",
     "text": [
      "Loading data: 100%|██████████| 1/1 [00:02<00:00,  2.95s/it]\n"
     ]
    },
    {
     "name": "stdout",
     "output_type": "stream",
     "text": [
      "Total records collected: 10969764\n"
     ]
    }
   ],
   "source": [
    "import pandas as pd\n",
    "data_chunks = []\n",
    "for (start_date,end_date) in cont_trip_upd:\n",
    "    start_date_str = start_date.strftime('%Y-%m-%d')\n",
    "    end_date_str = end_date.strftime('%Y-%m-%d')\n",
    "    data_retriever = DataRetriever(start_date=start_date_str,end_date=end_date_str)\n",
    "    data_chunks.append(data_retriever.data)\n",
    "    break\n",
    "\n",
    "raw_data_all = pd.concat(data_chunks, ignore_index=True)"
   ]
  },
  {
   "cell_type": "code",
   "execution_count": 4,
   "metadata": {},
   "outputs": [
    {
     "name": "stdout",
     "output_type": "stream",
     "text": [
      "id                                                  55700500756574033\n",
      "trip_id                                             55700000060411146\n",
      "start_date                                                   20210901\n",
      "schedule_relationship                                       SCHEDULED\n",
      "vehicle_id                                           9031005920505743\n",
      "timestamp                                                  1630475645\n",
      "stop_sequence                                                    10.0\n",
      "stop_id                                              9022005001319002\n",
      "arrival_delay                                                     4.0\n",
      "observed_arrival_time                                      1630475520\n",
      "departure_delay                                                  24.0\n",
      "observed_departure_time                                    1630475540\n",
      "arrival_uncertainty                                               0.0\n",
      "departure_uncertainty                                             0.0\n",
      "tripUpdate_stopTimeUpdate_scheduleRelationship                   None\n",
      "scheduled_arrival_time                            2021-09-01 07:51:56\n",
      "scheduled_departure_time                          2021-09-01 07:51:56\n",
      "stop_headsign                                             Resecentrum\n",
      "pickup_type                                                         3\n",
      "drop_off_type                                                       3\n",
      "shape_dist_traveled                                           3322.53\n",
      "timepoint                                                           0\n",
      "stop_name                                             Drottningtorget\n",
      "stop_lat                                                    58.410157\n",
      "stop_lon                                                    15.634508\n",
      "location_type                                                       0\n",
      "parent_station                                       9021005001319000\n",
      "platform_code                                                       B\n",
      "route_id                                             9011005021100000\n",
      "direction_id                                                        0\n",
      "service_id                                                         10\n",
      "trip_headsign                                                     NaN\n",
      "shape_id                                                          162\n",
      "agency_id                                           55700000000001407\n",
      "route_short_name                                                   11\n",
      "route_long_name                                                   NaN\n",
      "route_type                                                        700\n",
      "route_desc                                                        NaN\n",
      "datetime                                          2021-09-01 05:54:05\n",
      "date                                                       2021-09-01\n",
      "Name: 20000, dtype: object\n"
     ]
    }
   ],
   "source": [
    "# Sätt pandas att visa alla kolumner och allt innehåll\n",
    "pd.set_option('display.max_columns', None)\n",
    "pd.set_option('display.max_colwidth', None)\n",
    "pd.set_option('display.width', None)\n",
    "\n",
    "# Visa första raden\n",
    "print(raw_data_all.iloc[20000])"
   ]
  },
  {
   "cell_type": "code",
   "execution_count": null,
   "metadata": {},
   "outputs": [],
   "source": []
  },
  {
   "cell_type": "code",
   "execution_count": 5,
   "metadata": {},
   "outputs": [],
   "source": [
    "import numpy as np"
   ]
  },
  {
   "cell_type": "code",
   "execution_count": 5,
   "metadata": {},
   "outputs": [],
   "source": [
    "# Create the replacement values first\n",
    "replacement_values = (\n",
    "    raw_data_all['route_id'].str[8:11]\n",
    ")\n",
    "\n",
    "# Fill only the NaN values\n",
    "raw_data_all['route_long_name'] = raw_data_all['route_long_name'].fillna(replacement_values)"
   ]
  },
  {
   "cell_type": "code",
   "execution_count": 7,
   "metadata": {},
   "outputs": [
    {
     "name": "stdout",
     "output_type": "stream",
     "text": [
      "['206' '202' '218' '213' '003' '002' 'Östgötapendeln' '201' '113' '110'\n",
      " '103' '204' '112' '211' '203' '482' '217' '111' '216' '416' '450' '661'\n",
      " '040' '205' '410' '030' '630' '459' '308' '432' '540' '440' '521' '433'\n",
      " '215' '613' '039' '058' '214' '522' '552' '655' '041' '520' '677' '539'\n",
      " '210' '631' '617' '616' '212' '620' '070' '413' '052' '623' '546' '429'\n",
      " '530' '046' '121' 'Kustpilen' '301' '615' '665' '566' '653' '612' '573'\n",
      " '045' '412' '417' '354' '303' '419' '484' '464' '535' '457' '513' '555'\n",
      " '074' '305' '486' '071' '681' '526' '545' '628' '572' '430' '355' '414'\n",
      " '302' '483' '221' '223' '574' '042' '059' '480' '444' '222' '571' '304'\n",
      " '629' '543' '120' '250' '075' '577' '471' '072' '065' '038' '670' '441'\n",
      " '232' '664' '663' '220' '249' '240' '243' '141' '241' '187' '452' '226'\n",
      " 'Servicelinje Kisa' '287' '356' '614' '538' '310' '309' '523'\n",
      " 'Anropsstyrd Stadstrafik Motala' 'Servicelinje Mjölby'\n",
      " 'Anropsstyrd Servicelinje']\n"
     ]
    }
   ],
   "source": [
    "print(raw_data_all['route_long_name'].unique())"
   ]
  },
  {
   "cell_type": "code",
   "execution_count": 6,
   "metadata": {},
   "outputs": [
    {
     "name": "stdout",
     "output_type": "stream",
     "text": [
      "Route 201: 419861 rows\n",
      "Route 202: 191492 rows\n",
      "Route 203: 257029 rows\n",
      "Route 204: 253045 rows\n",
      "Route 205: 517714 rows\n",
      "Route 206: 249737 rows\n",
      "Route 210: 277573 rows\n",
      "Route 211: 158018 rows\n",
      "Route 212: 133296 rows\n",
      "Route 213: 315235 rows\n",
      "Route 214: 265883 rows\n",
      "Route 215: 159674 rows\n",
      "Route 216: 266034 rows\n",
      "Route 217: 197685 rows\n",
      "Route 218: 110204 rows\n",
      "Route 220: 9569 rows\n",
      "Route 221: 10010 rows\n",
      "Route 222: 19610 rows\n",
      "Route 226: 48661 rows\n"
     ]
    }
   ],
   "source": [
    "num_list = [201, 202, 203, 204, 205, 206, 210, 211, 212, 213, 214, 215, 216, 217, 218, 220, 221, 222, 226]\n",
    "test_dataframes = {}\n",
    "\n",
    "for i in num_list:\n",
    "    test_df = raw_data_all[raw_data_all['route_long_name'] == f'{i}'].copy()  # Using f-string instead\n",
    "    test_dataframes[i] = test_df\n",
    "    print(f\"Route {i}: {len(test_df)} rows\")"
   ]
  },
  {
   "cell_type": "code",
   "execution_count": 9,
   "metadata": {},
   "outputs": [
    {
     "name": "stdout",
     "output_type": "stream",
     "text": [
      "<class 'type'>\n"
     ]
    }
   ],
   "source": [
    "import builtins\n",
    "str = builtins.str\n",
    "\n",
    "# Now test it\n",
    "print(type(str))  # Should show <class 'type'>"
   ]
  },
  {
   "cell_type": "code",
   "execution_count": 45,
   "metadata": {},
   "outputs": [],
   "source": [
    "def create_hierarchical_stop_mappings(df):\n",
    "    \"\"\"\n",
    "    Build hierarchical mappings: stop_name -> parent_station -> stop_ids\n",
    "    \"\"\"\n",
    "    # Three-layer forward mapping\n",
    "    stop_name_to_parent_stations = {}\n",
    "    parent_station_to_stop_ids = {}\n",
    "    stop_name_to_stop_ids = {}  # Keep this for backward compatibility\n",
    "    \n",
    "    # Reverse mappings\n",
    "    stop_id_to_parent_station = {}\n",
    "    stop_id_to_stop_name = {}\n",
    "    parent_station_to_stop_name = {}\n",
    "    \n",
    "    for _, row in df[['stop_name', 'parent_station', 'stop_id']].drop_duplicates().iterrows():\n",
    "        stop_name = row['stop_name']\n",
    "        parent_station = str(row['parent_station'])\n",
    "        stop_id = str(row['stop_id'])\n",
    "        \n",
    "        # Layer 1: stop_name -> parent_stations\n",
    "        if stop_name not in stop_name_to_parent_stations:\n",
    "            stop_name_to_parent_stations[stop_name] = []\n",
    "        if parent_station not in stop_name_to_parent_stations[stop_name]:\n",
    "            stop_name_to_parent_stations[stop_name].append(parent_station)\n",
    "        \n",
    "        # Layer 2: parent_station -> stop_ids\n",
    "        if parent_station not in parent_station_to_stop_ids:\n",
    "            parent_station_to_stop_ids[parent_station] = []\n",
    "        if stop_id not in parent_station_to_stop_ids[parent_station]:\n",
    "            parent_station_to_stop_ids[parent_station].append(stop_id)\n",
    "        \n",
    "        # Flattened: stop_name -> stop_ids (for compatibility)\n",
    "        if stop_name not in stop_name_to_stop_ids:\n",
    "            stop_name_to_stop_ids[stop_name] = []\n",
    "        if stop_id not in stop_name_to_stop_ids[stop_name]:\n",
    "            stop_name_to_stop_ids[stop_name].append(stop_id)\n",
    "        \n",
    "        # Reverse mappings\n",
    "        stop_id_to_parent_station[stop_id] = parent_station\n",
    "        stop_id_to_stop_name[stop_id] = stop_name\n",
    "        parent_station_to_stop_name[parent_station] = stop_name\n",
    "    \n",
    "    # Sort for consistency\n",
    "    for stop_name in stop_name_to_parent_stations:\n",
    "        stop_name_to_parent_stations[stop_name].sort()\n",
    "    \n",
    "    for parent_station in parent_station_to_stop_ids:\n",
    "        parent_station_to_stop_ids[parent_station].sort()\n",
    "    \n",
    "    for stop_name in stop_name_to_stop_ids:\n",
    "        stop_name_to_stop_ids[stop_name].sort()\n",
    "    \n",
    "    return {\n",
    "        'hierarchical': {\n",
    "            'stop_name_to_parent_stations': stop_name_to_parent_stations,\n",
    "            'parent_station_to_stop_ids': parent_station_to_stop_ids,\n",
    "        },\n",
    "        'flattened': {\n",
    "            'stop_name_to_stop_ids': stop_name_to_stop_ids,\n",
    "        },\n",
    "        'reverse': {\n",
    "            'stop_id_to_parent_station': stop_id_to_parent_station,\n",
    "            'stop_id_to_stop_name': stop_id_to_stop_name,\n",
    "            'parent_station_to_stop_name': parent_station_to_stop_name,\n",
    "        }\n",
    "    }"
   ]
  },
  {
   "cell_type": "code",
   "execution_count": 53,
   "metadata": {},
   "outputs": [
    {
     "name": "stdout",
     "output_type": "stream",
     "text": [
      "1094\n",
      "1590\n",
      "974\n",
      "1589\n",
      "1254\n",
      "960\n",
      "494\n",
      "661\n",
      "236\n",
      "1152\n",
      "550\n",
      "476\n",
      "719\n",
      "492\n",
      "627\n",
      "40\n",
      "36\n",
      "18\n",
      "57\n"
     ]
    }
   ],
   "source": [
    "for i in num_list:\n",
    "    print(test_dataframes[i]['trip_id'].nunique())"
   ]
  },
  {
   "cell_type": "code",
   "execution_count": 60,
   "metadata": {},
   "outputs": [
    {
     "name": "stdout",
     "output_type": "stream",
     "text": [
      "Trip 55700000060405474: [0]\n",
      "Trip 55700000060395937: [1]\n",
      "Trip 55700000060405509: [0]\n",
      "Trip 55700000060405544: [0]\n",
      "Trip 55700000060395971: [1]\n",
      "Trip 55700000060405579: [0]\n",
      "Trip 55700000060396005: [1]\n",
      "Trip 55700000060405614: [0]\n",
      "Trip 55700000060405649: [0]\n",
      "Trip 55700000060396039: [1]\n",
      "Trip 55700000060404624: [0]\n",
      "Trip 55700000060396073: [1]\n",
      "Trip 55700000060404659: [0]\n",
      "Trip 55700000060396107: [1]\n",
      "Trip 55700000060404694: [0]\n",
      "Trip 55700000060396141: [1]\n",
      "Trip 55700000060396175: [1]\n",
      "Trip 55700000060404729: [0]\n",
      "Trip 55700000060396209: [1]\n",
      "Trip 55700000060404764: [0]\n",
      "Trip 55700000060396243: [1]\n",
      "Trip 55700000060404799: [0]\n",
      "Trip 55700000060396277: [1]\n",
      "Trip 55700000060404834: [0]\n",
      "Trip 55700000060396311: [1]\n",
      "Trip 55700000060400493: [0]\n",
      "Trip 55700000060397597: [1]\n",
      "Trip 55700000060400528: [0]\n",
      "Trip 55700000060397631: [1]\n",
      "Trip 55700000060400563: [0]\n",
      "Trip 55700000060397665: [1]\n",
      "Trip 55700000060400598: [0]\n",
      "Trip 55700000060397699: [1]\n",
      "Trip 55700000060400633: [0]\n",
      "Trip 55700000060397733: [1]\n",
      "Trip 55700000060404869: [0]\n",
      "Trip 55700000060397767: [1]\n",
      "Trip 55700000060404904: [0]\n",
      "Trip 55700000060397801: [1]\n",
      "Trip 55700000060404939: [0]\n",
      "Trip 55700000060404974: [0]\n",
      "Trip 55700000060397835: [1]\n",
      "Trip 55700000060405009: [0]\n",
      "Trip 55700000060397869: [1]\n",
      "Trip 55700000060405044: [0]\n",
      "Trip 55700000060397903: [1]\n",
      "Trip 55700000060405079: [0]\n",
      "Trip 55700000060397937: [1]\n",
      "Trip 55700000060405114: [0]\n",
      "Trip 55700000060397971: [1]\n",
      "Trip 55700000060405149: [0]\n",
      "Trip 55700000060398005: [1]\n",
      "Trip 55700000060405184: [0]\n",
      "Trip 55700000060398039: [1]\n",
      "Trip 55700000060405219: [0]\n",
      "Trip 55700000060398073: [1]\n",
      "Trip 55700000060405254: [0]\n",
      "Trip 55700000060398107: [1]\n",
      "Trip 55700000060401193: [0]\n",
      "Trip 55700000060398141: [1]\n",
      "Trip 55700000060401228: [0]\n",
      "Trip 55700000060398311: [1]\n",
      "Trip 55700000060401263: [0]\n",
      "Trip 55700000060398345: [1]\n",
      "Trip 55700000060401298: [0]\n",
      "Trip 55700000060398379: [1]\n",
      "Trip 55700000060401333: [0]\n",
      "Trip 55700000060398413: [1]\n",
      "Trip 55700000060401368: [0]\n",
      "Trip 55700000060398447: [1]\n",
      "Trip 55700000060401403: [0]\n",
      "Trip 55700000060398481: [1]\n",
      "Trip 55700000060401438: [0]\n",
      "Trip 55700000060398515: [1]\n",
      "Trip 55700000060401473: [0]\n",
      "Trip 55700000060398549: [1]\n",
      "Trip 55700000060401508: [0]\n",
      "Trip 55700000060398583: [1]\n",
      "Trip 55700000060401543: [0]\n",
      "Trip 55700000060398617: [1]\n",
      "Trip 55700000060401578: [0]\n",
      "Trip 55700000060398651: [1]\n",
      "Trip 55700000060401613: [0]\n",
      "Trip 55700000060398685: [1]\n",
      "Trip 55700000060401648: [0]\n",
      "Trip 55700000060398719: [1]\n",
      "Trip 55700000060400668: [0]\n",
      "Trip 55700000060398753: [1]\n",
      "Trip 55700000060400703: [0]\n",
      "Trip 55700000060398787: [1]\n",
      "Trip 55700000060400738: [0]\n",
      "Trip 55700000060398821: [1]\n",
      "Trip 55700000060398855: [1]\n",
      "Trip 55700000060400773: [0]\n",
      "Trip 55700000060400808: [0]\n",
      "Trip 55700000060398889: [1]\n",
      "Trip 55700000060400843: [0]\n",
      "Trip 55700000060398923: [1]\n",
      "Trip 55700000060400878: [0]\n",
      "Trip 55700000060398957: [1]\n",
      "Trip 55700000060400913: [0]\n",
      "Trip 55700000060398991: [1]\n",
      "Trip 55700000060400948: [0]\n",
      "Trip 55700000060399025: [1]\n",
      "Trip 55700000060400983: [0]\n",
      "Trip 55700000060399059: [1]\n",
      "Trip 55700000060401018: [0]\n",
      "Trip 55700000060399093: [1]\n",
      "Trip 55700000060401053: [0]\n",
      "Trip 55700000060399127: [1]\n",
      "Trip 55700000060401088: [0]\n",
      "Trip 55700000060399161: [1]\n",
      "Trip 55700000060401123: [0]\n",
      "Trip 55700000060399195: [1]\n",
      "Trip 55700000060401158: [0]\n",
      "Trip 55700000060399229: [1]\n",
      "Trip 55700000060402068: [0]\n",
      "Trip 55700000060399263: [1]\n",
      "Trip 55700000060399297: [1]\n",
      "Trip 55700000060402103: [0]\n",
      "Trip 55700000060399331: [1]\n",
      "Trip 55700000060402138: [0]\n",
      "Trip 55700000060399399: [1]\n",
      "Trip 55700000060402173: [0]\n",
      "Trip 55700000060402208: [0]\n",
      "Trip 55700000060399433: [1]\n",
      "Trip 55700000060399467: [1]\n",
      "Trip 55700000060402243: [0]\n",
      "Trip 55700000060399501: [1]\n",
      "Trip 55700000060402278: [0]\n",
      "Trip 55700000060399535: [1]\n",
      "Trip 55700000060402313: [0]\n",
      "Trip 55700000060399569: [1]\n",
      "Trip 55700000060402348: [0]\n",
      "Trip 55700000060399603: [1]\n",
      "Trip 55700000060402383: [0]\n",
      "Trip 55700000060399637: [1]\n",
      "Trip 55700000060402418: [0]\n",
      "Trip 55700000060399671: [1]\n",
      "Trip 55700000060402453: [0]\n",
      "Trip 55700000060399705: [1]\n",
      "Trip 55700000060400458: [0]\n",
      "Trip 55700000060399365: [1]\n",
      "Trip 55700000060400388: [0]\n",
      "Trip 55700000060399739: [1]\n",
      "Trip 55700000060400423: [0]\n",
      "Trip 55700000060399773: [1]\n",
      "Trip 55700000060401683: [0]\n",
      "Trip 55700000060399807: [1]\n",
      "Trip 55700000060401718: [0]\n",
      "Trip 55700000060399841: [1]\n",
      "Trip 55700000060401753: [0]\n",
      "Trip 55700000060399875: [1]\n",
      "Trip 55700000060401788: [0]\n",
      "Trip 55700000060399909: [1]\n",
      "Trip 55700000060401823: [0]\n",
      "Trip 55700000060399943: [1]\n",
      "Trip 55700000060401858: [0]\n",
      "Trip 55700000060399977: [1]\n",
      "Trip 55700000060401893: [0]\n",
      "Trip 55700000060400011: [1]\n",
      "Trip 55700000060401928: [0]\n",
      "Trip 55700000060400045: [1]\n",
      "Trip 55700000060401963: [0]\n",
      "Trip 55700000060400079: [1]\n",
      "Trip 55700000060401998: [0]\n",
      "Trip 55700000060400113: [1]\n",
      "Trip 55700000060402033: [0]\n",
      "Trip 55700000060402488: [0]\n",
      "Trip 55700000060400147: [1]\n",
      "Trip 55700000060404051: [0]\n",
      "Trip 55700000060398175: [1]\n",
      "Trip 55700000060404086: [0]\n",
      "Trip 55700000060398209: [1]\n",
      "Trip 55700000060404121: [0]\n",
      "Trip 55700000060398243: [1]\n",
      "Trip 55700000060404156: [0]\n",
      "Trip 55700000060398277: [1]\n",
      "Trip 55700000060404191: [0]\n",
      "Trip 55700000060400181: [1]\n",
      "Trip 55700000060404226: [0]\n",
      "Trip 55700000060400215: [1]\n",
      "Trip 55700000060404261: [0]\n",
      "Trip 55700000060400249: [1]\n",
      "Trip 55700000060404296: [0]\n",
      "Trip 55700000060400283: [1]\n",
      "Trip 55700000060404331: [0]\n",
      "Trip 55700000060400317: [1]\n",
      "Trip 55700000060394913: [1]\n",
      "Trip 55700000060404366: [0]\n",
      "Trip 55700000060404401: [0]\n",
      "Trip 55700000060394947: [1]\n",
      "Trip 55700000060404436: [0]\n",
      "Trip 55700000060394981: [1]\n",
      "Trip 55700000060404471: [0]\n",
      "Trip 55700000060395015: [1]\n",
      "Trip 55700000060395049: [1]\n",
      "Trip 55700000060400351: [1]\n",
      "Trip 55700000060402560: [0]\n",
      "Trip 55700000060402595: [0]\n",
      "Trip 55700000060395083: [1]\n",
      "Trip 55700000060402630: [0]\n",
      "Trip 55700000060395117: [1]\n",
      "Trip 55700000060402671: [0]\n",
      "Trip 55700000060395151: [1]\n",
      "Trip 55700000060402523: [0]\n",
      "Trip 55700000060395185: [1]\n",
      "Trip 55700000060405684: [0]\n",
      "Trip 55700000060394879: [1]\n",
      "Trip 55700000060396345: [1]\n",
      "Trip 55700000060405719: [0]\n",
      "Trip 55700000060396379: [1]\n",
      "Trip 55700000060405754: [0]\n",
      "Trip 55700000060396413: [1]\n",
      "Trip 55700000060402708: [0]\n",
      "Trip 55700000060396447: [1]\n",
      "Trip 55700000060402778: [0]\n",
      "Trip 55700000060396481: [1]\n",
      "Trip 55700000060402848: [0]\n",
      "Trip 55700000060396515: [1]\n",
      "Trip 55700000060402883: [0]\n",
      "Trip 55700000060396549: [1]\n",
      "Trip 55700000060402918: [0]\n",
      "Trip 55700000060396583: [1]\n",
      "Trip 55700000060402953: [0]\n",
      "Trip 55700000060396617: [1]\n",
      "Trip 55700000060402988: [0]\n",
      "Trip 55700000060396651: [1]\n",
      "Trip 55700000060403023: [0]\n",
      "Trip 55700000060396685: [1]\n",
      "Trip 55700000060403058: [0]\n",
      "Trip 55700000060396719: [1]\n",
      "Trip 55700000060403093: [0]\n",
      "Trip 55700000060396753: [1]\n",
      "Trip 55700000060403128: [0]\n",
      "Trip 55700000060396787: [1]\n",
      "Trip 55700000060403163: [0]\n",
      "Trip 55700000060396821: [1]\n",
      "Trip 55700000060403198: [0]\n",
      "Trip 55700000060396855: [1]\n",
      "Trip 55700000060403233: [0]\n",
      "Trip 55700000060396889: [1]\n",
      "Trip 55700000060403268: [0]\n",
      "Trip 55700000060396923: [1]\n",
      "Trip 55700000060403303: [0]\n",
      "Trip 55700000060396957: [1]\n",
      "Trip 55700000060403338: [0]\n",
      "Trip 55700000060396991: [1]\n",
      "Trip 55700000060403373: [0]\n",
      "Trip 55700000060397025: [1]\n",
      "Trip 55700000060403408: [0]\n",
      "Trip 55700000060397059: [1]\n",
      "Trip 55700000060403443: [0]\n",
      "Trip 55700000060397093: [1]\n",
      "Trip 55700000060403478: [0]\n",
      "Trip 55700000060397127: [1]\n",
      "Trip 55700000060403513: [0]\n",
      "Trip 55700000060397161: [1]\n",
      "Trip 55700000060403548: [0]\n",
      "Trip 55700000060397195: [1]\n",
      "Trip 55700000060403583: [0]\n",
      "Trip 55700000060397229: [1]\n",
      "Trip 55700000060403618: [0]\n",
      "Trip 55700000060397263: [1]\n",
      "Trip 55700000060403691: [0]\n",
      "Trip 55700000060397297: [1]\n",
      "Trip 55700000060403726: [0]\n",
      "Trip 55700000060397331: [1]\n",
      "Trip 55700000060403761: [0]\n",
      "Trip 55700000060397365: [1]\n",
      "Trip 55700000060403796: [0]\n",
      "Trip 55700000060397399: [1]\n",
      "Trip 55700000060403831: [0]\n",
      "Trip 55700000060397433: [1]\n",
      "Trip 55700000060403866: [0]\n",
      "Trip 55700000060397467: [1]\n",
      "Trip 55700000060403901: [0]\n",
      "Trip 55700000060397501: [1]\n",
      "Trip 55700000060404014: [0]\n",
      "Trip 55700000060395901: [1]\n",
      "Trip 55700000060405289: [0]\n",
      "Trip 55700000060395219: [1]\n",
      "Trip 55700000060405324: [0]\n",
      "Trip 55700000060395253: [1]\n",
      "Trip 55700000060405359: [0]\n",
      "Trip 55700000060395287: [1]\n",
      "Trip 55700000060405394: [0]\n",
      "Trip 55700000060395321: [1]\n",
      "Trip 55700000060405429: [0]\n",
      "Trip 55700000060395355: [1]\n",
      "Trip 55700000060405929: [0]\n",
      "Trip 55700000060395389: [1]\n",
      "Trip 55700000060395423: [1]\n",
      "Trip 55700000060395457: [1]\n",
      "Trip 55700000060404510: [0]\n",
      "Trip 55700000060395491: [1]\n",
      "Trip 55700000060395525: [1]\n",
      "Trip 55700000060395559: [1]\n",
      "Trip 55700000060395593: [1]\n",
      "Trip 55700000060395627: [1]\n",
      "Trip 55700000060395661: [1]\n",
      "Trip 55700000060405789: [0]\n",
      "Trip 55700000060395713: [1]\n",
      "Trip 55700000060405824: [0]\n",
      "Trip 55700000060395747: [1]\n",
      "Trip 55700000060405859: [0]\n",
      "Trip 55700000060405894: [0]\n",
      "Trip 55700000060402743: [0]\n",
      "Trip 55700000060402813: [0]\n",
      "Trip 55700000060403940: [0]\n",
      "Trip 55700000060403975: [0]\n",
      "Trip 55700000060405964: [0]\n",
      "Trip 55700000060395791: [1]\n",
      "Trip 55700000062796802: [0]\n",
      "Trip 55700000062791543: [1]\n",
      "Trip 55700000062796836: [0]\n",
      "Trip 55700000062796870: [0]\n",
      "Trip 55700000062791576: [1]\n",
      "Trip 55700000062796904: [0]\n",
      "Trip 55700000062791609: [1]\n",
      "Trip 55700000062796938: [0]\n",
      "Trip 55700000062796972: [0]\n",
      "Trip 55700000062791642: [1]\n",
      "Trip 55700000062791675: [1]\n",
      "Trip 55700000062797244: [0]\n",
      "Trip 55700000062797278: [0]\n",
      "Trip 55700000062791708: [1]\n",
      "Trip 55700000062797312: [0]\n",
      "Trip 55700000062791741: [1]\n",
      "Trip 55700000062791774: [1]\n",
      "Trip 55700000062797346: [0]\n",
      "Trip 55700000062791807: [1]\n",
      "Trip 55700000062797380: [0]\n",
      "Trip 55700000062791840: [1]\n",
      "Trip 55700000062797414: [0]\n",
      "Trip 55700000062791873: [1]\n",
      "Trip 55700000062797448: [0]\n",
      "Trip 55700000062791906: [1]\n",
      "Trip 55700000062797890: [0]\n",
      "Trip 55700000062793156: [1]\n",
      "Trip 55700000062797924: [0]\n",
      "Trip 55700000062793189: [1]\n",
      "Trip 55700000062797958: [0]\n",
      "Trip 55700000062793222: [1]\n",
      "Trip 55700000062797992: [0]\n",
      "Trip 55700000062793255: [1]\n",
      "Trip 55700000062798026: [0]\n",
      "Trip 55700000062793618: [1]\n",
      "Trip 55700000062797482: [0]\n",
      "Trip 55700000062793651: [1]\n",
      "Trip 55700000062797516: [0]\n",
      "Trip 55700000062793684: [1]\n",
      "Trip 55700000062797550: [0]\n",
      "Trip 55700000062796339: [1]\n",
      "Trip 55700000062797584: [0]\n",
      "Trip 55700000062797618: [0]\n",
      "Trip 55700000062796372: [1]\n",
      "Trip 55700000062797652: [0]\n",
      "Trip 55700000062796405: [1]\n",
      "Trip 55700000062797686: [0]\n",
      "Trip 55700000062796438: [1]\n",
      "Trip 55700000062797720: [0]\n",
      "Trip 55700000062796471: [1]\n",
      "Trip 55700000062797754: [0]\n",
      "Trip 55700000062796504: [1]\n",
      "Trip 55700000062797788: [0]\n",
      "Trip 55700000062796537: [1]\n",
      "Trip 55700000062797822: [0]\n",
      "Trip 55700000062796570: [1]\n",
      "Trip 55700000062797856: [0]\n",
      "Trip 55700000062796603: [1]\n",
      "Trip 55700000062798060: [0]\n",
      "Trip 55700000062796636: [1]\n",
      "Trip 55700000062798094: [0]\n",
      "Trip 55700000062795844: [1]\n",
      "Trip 55700000062798128: [0]\n",
      "Trip 55700000062795877: [1]\n",
      "Trip 55700000062798162: [0]\n",
      "Trip 55700000062795910: [1]\n",
      "Trip 55700000062798196: [0]\n",
      "Trip 55700000062795943: [1]\n",
      "Trip 55700000062798230: [0]\n",
      "Trip 55700000062795976: [1]\n",
      "Trip 55700000062798264: [0]\n",
      "Trip 55700000062796009: [1]\n",
      "Trip 55700000062798298: [0]\n",
      "Trip 55700000062796042: [1]\n",
      "Trip 55700000062798332: [0]\n",
      "Trip 55700000062796075: [1]\n",
      "Trip 55700000062798366: [0]\n",
      "Trip 55700000062796108: [1]\n",
      "Trip 55700000062798400: [0]\n",
      "Trip 55700000062796141: [1]\n",
      "Trip 55700000062798434: [0]\n",
      "Trip 55700000062796174: [1]\n",
      "Trip 55700000062798468: [0]\n",
      "Trip 55700000062796207: [1]\n",
      "Trip 55700000062798502: [0]\n",
      "Trip 55700000062796240: [1]\n",
      "Trip 55700000062798536: [0]\n",
      "Trip 55700000062796273: [1]\n",
      "Trip 55700000062798570: [0]\n",
      "Trip 55700000062796306: [1]\n",
      "Trip 55700000062798604: [0]\n",
      "Trip 55700000062791510: [1]\n",
      "Trip 55700000062793288: [1]\n",
      "Trip 55700000062798638: [0]\n",
      "Trip 55700000062798672: [0]\n",
      "Trip 55700000062793321: [1]\n",
      "Trip 55700000062798706: [0]\n",
      "Trip 55700000062793354: [1]\n",
      "Trip 55700000062798740: [0]\n",
      "Trip 55700000062793387: [1]\n",
      "Trip 55700000062798774: [0]\n",
      "Trip 55700000062793420: [1]\n",
      "Trip 55700000062798808: [0]\n",
      "Trip 55700000062793453: [1]\n",
      "Trip 55700000062793486: [1]\n",
      "Trip 55700000062798842: [0]\n",
      "Trip 55700000062793519: [1]\n",
      "Trip 55700000062798876: [0]\n",
      "Trip 55700000062798910: [0]\n",
      "Trip 55700000062793552: [1]\n",
      "Trip 55700000062798944: [0]\n",
      "Trip 55700000062793585: [1]\n",
      "Trip 55700000062798978: [0]\n",
      "Trip 55700000062793717: [1]\n",
      "Trip 55700000062799012: [0]\n",
      "Trip 55700000062793750: [1]\n",
      "Trip 55700000062799046: [0]\n",
      "Trip 55700000062793783: [1]\n",
      "Trip 55700000062793816: [1]\n",
      "Trip 55700000062799080: [0]\n",
      "Trip 55700000062793849: [1]\n",
      "Trip 55700000062799114: [0]\n",
      "Trip 55700000062793915: [1]\n",
      "Trip 55700000062799148: [0]\n",
      "Trip 55700000062793948: [1]\n",
      "Trip 55700000062799182: [0]\n",
      "Trip 55700000062793981: [1]\n",
      "Trip 55700000062799216: [0]\n",
      "Trip 55700000062794014: [1]\n",
      "Trip 55700000062799250: [0]\n",
      "Trip 55700000062794047: [1]\n",
      "Trip 55700000062799284: [0]\n",
      "Trip 55700000062794080: [1]\n",
      "Trip 55700000062799318: [0]\n",
      "Trip 55700000062794113: [1]\n",
      "Trip 55700000062799352: [0]\n",
      "Trip 55700000062794146: [1]\n",
      "Trip 55700000062799386: [0]\n",
      "Trip 55700000062794179: [1]\n",
      "Trip 55700000062799420: [0]\n",
      "Trip 55700000062794212: [1]\n",
      "Trip 55700000062799454: [0]\n",
      "Trip 55700000062802108: [0]\n",
      "Trip 55700000062793882: [1]\n",
      "Trip 55700000062794245: [1]\n",
      "Trip 55700000062802142: [0]\n",
      "Trip 55700000062794278: [1]\n",
      "Trip 55700000062801734: [0]\n",
      "Trip 55700000062794311: [1]\n",
      "Trip 55700000062801768: [0]\n",
      "Trip 55700000062794344: [1]\n",
      "Trip 55700000062801802: [0]\n",
      "Trip 55700000062794377: [1]\n",
      "Trip 55700000062801836: [0]\n",
      "Trip 55700000062794410: [1]\n",
      "Trip 55700000062801870: [0]\n",
      "Trip 55700000062794443: [1]\n",
      "Trip 55700000062801904: [0]\n",
      "Trip 55700000062794476: [1]\n",
      "Trip 55700000062801938: [0]\n",
      "Trip 55700000062794509: [1]\n",
      "Trip 55700000062801972: [0]\n",
      "Trip 55700000062794542: [1]\n",
      "Trip 55700000062802006: [0]\n",
      "Trip 55700000062794575: [1]\n",
      "Trip 55700000062802040: [0]\n",
      "Trip 55700000062794608: [1]\n",
      "Trip 55700000062802074: [0]\n",
      "Trip 55700000062801700: [0]\n",
      "Trip 55700000062794641: [1]\n",
      "Trip 55700000062801186: [0]\n",
      "Trip 55700000062796669: [1]\n",
      "Trip 55700000062801220: [0]\n",
      "Trip 55700000062796702: [1]\n",
      "Trip 55700000062801254: [0]\n",
      "Trip 55700000062796735: [1]\n",
      "Trip 55700000062801288: [0]\n",
      "Trip 55700000062796768: [1]\n",
      "Trip 55700000062801322: [0]\n",
      "Trip 55700000062794674: [1]\n",
      "Trip 55700000062801356: [0]\n",
      "Trip 55700000062794707: [1]\n",
      "Trip 55700000062801390: [0]\n",
      "Trip 55700000062794740: [1]\n",
      "Trip 55700000062801424: [0]\n",
      "Trip 55700000062794773: [1]\n",
      "Trip 55700000062801458: [0]\n",
      "Trip 55700000062794806: [1]\n",
      "Trip 55700000062801492: [0]\n",
      "Trip 55700000062794839: [1]\n",
      "Trip 55700000062801526: [0]\n",
      "Trip 55700000062794872: [1]\n",
      "Trip 55700000062801560: [0]\n",
      "Trip 55700000062794905: [1]\n",
      "Trip 55700000062801594: [0]\n",
      "Trip 55700000062794938: [1]\n",
      "Trip 55700000062794971: [1]\n",
      "Trip 55700000062795741: [1]\n",
      "Trip 55700000062801078: [0]\n",
      "Trip 55700000062801112: [0]\n",
      "Trip 55700000062795004: [1]\n",
      "Trip 55700000062801146: [0]\n",
      "Trip 55700000062795037: [1]\n",
      "Trip 55700000062801042: [0]\n",
      "Trip 55700000062795070: [1]\n",
      "Trip 55700000062802176: [0]\n",
      "Trip 55700000062795103: [1]\n",
      "Trip 55700000062797006: [0]\n",
      "Trip 55700000062795776: [1]\n",
      "Trip 55700000062791939: [1]\n",
      "Trip 55700000062797040: [0]\n",
      "Trip 55700000062791972: [1]\n",
      "Trip 55700000062797074: [0]\n",
      "Trip 55700000062792005: [1]\n",
      "Trip 55700000062800974: [0]\n",
      "Trip 55700000062792038: [1]\n",
      "Trip 55700000062800906: [0]\n",
      "Trip 55700000062792071: [1]\n",
      "Trip 55700000062800086: [0]\n",
      "Trip 55700000062792104: [1]\n",
      "Trip 55700000062800120: [0]\n",
      "Trip 55700000062792137: [1]\n",
      "Trip 55700000062800154: [0]\n",
      "Trip 55700000062792170: [1]\n",
      "Trip 55700000062800188: [0]\n",
      "Trip 55700000062792203: [1]\n",
      "Trip 55700000062800222: [0]\n",
      "Trip 55700000062792236: [1]\n",
      "Trip 55700000062800256: [0]\n",
      "Trip 55700000062792269: [1]\n",
      "Trip 55700000062800290: [0]\n",
      "Trip 55700000062792302: [1]\n",
      "Trip 55700000062800324: [0]\n",
      "Trip 55700000062792335: [1]\n",
      "Trip 55700000062800358: [0]\n",
      "Trip 55700000062792368: [1]\n",
      "Trip 55700000062800392: [0]\n",
      "Trip 55700000062792401: [1]\n",
      "Trip 55700000062800426: [0]\n",
      "Trip 55700000062792434: [1]\n",
      "Trip 55700000062800460: [0]\n",
      "Trip 55700000062792467: [1]\n",
      "Trip 55700000062800494: [0]\n",
      "Trip 55700000062792500: [1]\n",
      "Trip 55700000062800528: [0]\n",
      "Trip 55700000062792533: [1]\n",
      "Trip 55700000062800562: [0]\n",
      "Trip 55700000062792566: [1]\n",
      "Trip 55700000062800596: [0]\n",
      "Trip 55700000062792599: [1]\n",
      "Trip 55700000062800630: [0]\n",
      "Trip 55700000062792632: [1]\n",
      "Trip 55700000062800664: [0]\n",
      "Trip 55700000062792665: [1]\n",
      "Trip 55700000062800698: [0]\n",
      "Trip 55700000062792698: [1]\n",
      "Trip 55700000062800732: [0]\n",
      "Trip 55700000062792731: [1]\n",
      "Trip 55700000062800766: [0]\n",
      "Trip 55700000062792764: [1]\n",
      "Trip 55700000062800800: [0]\n",
      "Trip 55700000062792797: [1]\n",
      "Trip 55700000062800834: [0]\n",
      "Trip 55700000062792830: [1]\n",
      "Trip 55700000062799772: [0]\n",
      "Trip 55700000062792863: [1]\n",
      "Trip 55700000062799806: [0]\n",
      "Trip 55700000062792896: [1]\n",
      "Trip 55700000062799840: [0]\n",
      "Trip 55700000062792929: [1]\n",
      "Trip 55700000062799874: [0]\n",
      "Trip 55700000062792962: [1]\n",
      "Trip 55700000062799908: [0]\n",
      "Trip 55700000062792995: [1]\n",
      "Trip 55700000062799942: [0]\n",
      "Trip 55700000062793028: [1]\n",
      "Trip 55700000062799976: [0]\n",
      "Trip 55700000062793061: [1]\n",
      "Trip 55700000062799736: [0]\n",
      "Trip 55700000062795809: [1]\n",
      "Trip 55700000062799556: [0]\n",
      "Trip 55700000062795136: [1]\n",
      "Trip 55700000062799590: [0]\n",
      "Trip 55700000062795169: [1]\n",
      "Trip 55700000062799624: [0]\n",
      "Trip 55700000062795202: [1]\n",
      "Trip 55700000062799658: [0]\n",
      "Trip 55700000062795235: [1]\n",
      "Trip 55700000062795268: [1]\n",
      "Trip 55700000062799692: [0]\n",
      "Trip 55700000062795301: [1]\n",
      "Trip 55700000062799488: [0]\n",
      "Trip 55700000062795334: [1]\n",
      "Trip 55700000062795367: [1]\n",
      "Trip 55700000062801632: [0]\n",
      "Trip 55700000062795400: [1]\n",
      "Trip 55700000062795433: [1]\n",
      "Trip 55700000062795466: [1]\n",
      "Trip 55700000062795499: [1]\n",
      "Trip 55700000062795532: [1]\n",
      "Trip 55700000062795565: [1]\n",
      "Trip 55700000062797108: [0]\n",
      "Trip 55700000062795616: [1]\n",
      "Trip 55700000062797142: [0]\n",
      "Trip 55700000062795649: [1]\n",
      "Trip 55700000062797176: [0]\n",
      "Trip 55700000062797210: [0]\n",
      "Trip 55700000062801008: [0]\n",
      "Trip 55700000062800940: [0]\n",
      "Trip 55700000062800014: [0]\n",
      "Trip 55700000062800048: [0]\n",
      "Trip 55700000062799522: [0]\n",
      "Trip 55700000062795692: [1]\n",
      "Trip 55700000063324817: [0]\n",
      "Trip 55700000063319212: [1]\n",
      "Trip 55700000063324852: [0]\n",
      "Trip 55700000063324887: [0]\n",
      "Trip 55700000063319246: [1]\n",
      "Trip 55700000063324922: [0]\n",
      "Trip 55700000063319280: [1]\n",
      "Trip 55700000063324957: [0]\n",
      "Trip 55700000063324992: [0]\n",
      "Trip 55700000063319314: [1]\n",
      "Trip 55700000063329426: [0]\n",
      "Trip 55700000063319348: [1]\n",
      "Trip 55700000063329461: [0]\n",
      "Trip 55700000063319382: [1]\n",
      "Trip 55700000063329496: [0]\n",
      "Trip 55700000063319416: [1]\n",
      "Trip 55700000063319450: [1]\n",
      "Trip 55700000063329531: [0]\n",
      "Trip 55700000063319484: [1]\n",
      "Trip 55700000063329566: [0]\n",
      "Trip 55700000063323170: [1]\n",
      "Trip 55700000063329601: [0]\n",
      "Trip 55700000063323204: [1]\n",
      "Trip 55700000063329636: [0]\n",
      "Trip 55700000063323238: [1]\n",
      "Trip 55700000063325272: [0]\n",
      "Trip 55700000063319076: [1]\n",
      "Trip 55700000063325307: [0]\n",
      "Trip 55700000063319110: [1]\n",
      "Trip 55700000063325342: [0]\n",
      "Trip 55700000063319144: [1]\n",
      "Trip 55700000063325377: [0]\n",
      "Trip 55700000063319178: [1]\n",
      "Trip 55700000063325412: [0]\n",
      "Trip 55700000063322728: [1]\n",
      "Trip 55700000063329671: [0]\n",
      "Trip 55700000063322762: [1]\n",
      "Trip 55700000063329706: [0]\n",
      "Trip 55700000063322796: [1]\n",
      "Trip 55700000063329741: [0]\n",
      "Trip 55700000063329776: [0]\n",
      "Trip 55700000063322252: [1]\n",
      "Trip 55700000063329811: [0]\n",
      "Trip 55700000063322286: [1]\n",
      "Trip 55700000063329846: [0]\n",
      "Trip 55700000063322320: [1]\n",
      "Trip 55700000063329881: [0]\n",
      "Trip 55700000063322354: [1]\n",
      "Trip 55700000063329916: [0]\n",
      "Trip 55700000063322388: [1]\n",
      "Trip 55700000063329951: [0]\n",
      "Trip 55700000063322422: [1]\n",
      "Trip 55700000063329986: [0]\n",
      "Trip 55700000063322456: [1]\n",
      "Trip 55700000063330021: [0]\n",
      "Trip 55700000063322490: [1]\n",
      "Trip 55700000063330056: [0]\n",
      "Trip 55700000063322524: [1]\n",
      "Trip 55700000063328936: [0]\n",
      "Trip 55700000063322558: [1]\n",
      "Trip 55700000063328971: [0]\n",
      "Trip 55700000063321742: [1]\n",
      "Trip 55700000063329006: [0]\n",
      "Trip 55700000063321776: [1]\n",
      "Trip 55700000063329041: [0]\n",
      "Trip 55700000063321810: [1]\n",
      "Trip 55700000063329076: [0]\n",
      "Trip 55700000063321844: [1]\n",
      "Trip 55700000063329111: [0]\n",
      "Trip 55700000063321878: [1]\n",
      "Trip 55700000063329146: [0]\n",
      "Trip 55700000063321912: [1]\n",
      "Trip 55700000063329181: [0]\n",
      "Trip 55700000063321946: [1]\n",
      "Trip 55700000063329216: [0]\n",
      "Trip 55700000063321980: [1]\n",
      "Trip 55700000063329251: [0]\n",
      "Trip 55700000063322014: [1]\n",
      "Trip 55700000063329286: [0]\n",
      "Trip 55700000063322048: [1]\n",
      "Trip 55700000063329321: [0]\n",
      "Trip 55700000063322082: [1]\n",
      "Trip 55700000063329356: [0]\n",
      "Trip 55700000063322116: [1]\n",
      "Trip 55700000063329391: [0]\n",
      "Trip 55700000063322150: [1]\n",
      "Trip 55700000063328411: [0]\n",
      "Trip 55700000063322184: [1]\n",
      "Trip 55700000063328446: [0]\n",
      "Trip 55700000063322218: [1]\n",
      "Trip 55700000063328481: [0]\n",
      "Trip 55700000063321708: [1]\n",
      "Trip 55700000063321368: [1]\n",
      "Trip 55700000063328516: [0]\n",
      "Trip 55700000063328551: [0]\n",
      "Trip 55700000063321402: [1]\n",
      "Trip 55700000063328586: [0]\n",
      "Trip 55700000063321436: [1]\n",
      "Trip 55700000063328621: [0]\n",
      "Trip 55700000063321470: [1]\n",
      "Trip 55700000063328656: [0]\n",
      "Trip 55700000063321504: [1]\n",
      "Trip 55700000063328691: [0]\n",
      "Trip 55700000063321538: [1]\n",
      "Trip 55700000063328726: [0]\n",
      "Trip 55700000063321572: [1]\n",
      "Trip 55700000063321606: [1]\n",
      "Trip 55700000063328761: [0]\n",
      "Trip 55700000063328796: [0]\n",
      "Trip 55700000063321640: [1]\n",
      "Trip 55700000063328831: [0]\n",
      "Trip 55700000063321674: [1]\n",
      "Trip 55700000063328866: [0]\n",
      "Trip 55700000063321164: [1]\n",
      "Trip 55700000063328901: [0]\n",
      "Trip 55700000063321198: [1]\n",
      "Trip 55700000063327991: [0]\n",
      "Trip 55700000063321232: [1]\n",
      "Trip 55700000063321266: [1]\n",
      "Trip 55700000063328026: [0]\n",
      "Trip 55700000063321300: [1]\n",
      "Trip 55700000063328061: [0]\n",
      "Trip 55700000063322830: [1]\n",
      "Trip 55700000063328096: [0]\n",
      "Trip 55700000063322864: [1]\n",
      "Trip 55700000063328131: [0]\n",
      "Trip 55700000063322898: [1]\n",
      "Trip 55700000063328166: [0]\n",
      "Trip 55700000063328201: [0]\n",
      "Trip 55700000063322932: [1]\n",
      "Trip 55700000063322966: [1]\n",
      "Trip 55700000063328236: [0]\n",
      "Trip 55700000063328271: [0]\n",
      "Trip 55700000063323000: [1]\n",
      "Trip 55700000063323034: [1]\n",
      "Trip 55700000063328306: [0]\n",
      "Trip 55700000063328341: [0]\n",
      "Trip 55700000063323068: [1]\n",
      "Trip 55700000063323102: [1]\n",
      "Trip 55700000063328376: [0]\n",
      "Trip 55700000063323136: [1]\n",
      "Trip 55700000063327956: [0]\n",
      "Trip 55700000063321334: [1]\n",
      "Trip 55700000063327886: [0]\n",
      "Trip 55700000063321130: [1]\n",
      "Trip 55700000063327921: [0]\n",
      "Trip 55700000063320720: [1]\n",
      "Trip 55700000063327501: [0]\n",
      "Trip 55700000063320754: [1]\n",
      "Trip 55700000063327536: [0]\n",
      "Trip 55700000063320788: [1]\n",
      "Trip 55700000063327571: [0]\n",
      "Trip 55700000063320822: [1]\n",
      "Trip 55700000063327606: [0]\n",
      "Trip 55700000063327641: [0]\n",
      "Trip 55700000063320856: [1]\n",
      "Trip 55700000063320890: [1]\n",
      "Trip 55700000063327676: [0]\n",
      "Trip 55700000063320924: [1]\n",
      "Trip 55700000063327711: [0]\n",
      "Trip 55700000063320958: [1]\n",
      "Trip 55700000063327746: [0]\n",
      "Trip 55700000063320992: [1]\n",
      "Trip 55700000063327781: [0]\n",
      "Trip 55700000063321026: [1]\n",
      "Trip 55700000063327816: [0]\n",
      "Trip 55700000063321060: [1]\n",
      "Trip 55700000063327851: [0]\n",
      "Trip 55700000063327466: [0]\n",
      "Trip 55700000063320686: [1]\n",
      "Trip 55700000063326938: [0]\n",
      "Trip 55700000063322592: [1]\n",
      "Trip 55700000063326973: [0]\n",
      "Trip 55700000063322626: [1]\n",
      "Trip 55700000063327008: [0]\n",
      "Trip 55700000063322660: [1]\n",
      "Trip 55700000063327043: [0]\n",
      "Trip 55700000063322694: [1]\n",
      "Trip 55700000063327078: [0]\n",
      "Trip 55700000063320516: [1]\n",
      "Trip 55700000063327113: [0]\n",
      "Trip 55700000063320550: [1]\n",
      "Trip 55700000063327148: [0]\n",
      "Trip 55700000063320584: [1]\n",
      "Trip 55700000063327183: [0]\n",
      "Trip 55700000063320618: [1]\n",
      "Trip 55700000063327218: [0]\n",
      "Trip 55700000063320652: [1]\n",
      "Trip 55700000063327253: [0]\n",
      "Trip 55700000063319588: [1]\n",
      "Trip 55700000063327288: [0]\n",
      "Trip 55700000063319622: [1]\n",
      "Trip 55700000063327323: [0]\n",
      "Trip 55700000063319656: [1]\n",
      "Trip 55700000063327358: [0]\n",
      "Trip 55700000063319690: [1]\n",
      "Trip 55700000063319724: [1]\n",
      "Trip 55700000063319552: [1]\n",
      "Trip 55700000063326827: [0]\n",
      "Trip 55700000063326862: [0]\n",
      "Trip 55700000063319758: [1]\n",
      "Trip 55700000063326897: [0]\n",
      "Trip 55700000063319792: [1]\n",
      "Trip 55700000063326790: [0]\n",
      "Trip 55700000063319826: [1]\n",
      "Trip 55700000063319860: [1]\n",
      "Trip 55700000063326753: [0]\n",
      "Trip 55700000063325027: [0]\n",
      "Trip 55700000063319518: [1]\n",
      "Trip 55700000063323272: [1]\n",
      "Trip 55700000063325062: [0]\n",
      "Trip 55700000063323306: [1]\n",
      "Trip 55700000063325097: [0]\n",
      "Trip 55700000063323340: [1]\n",
      "Trip 55700000063326683: [0]\n",
      "Trip 55700000063323374: [1]\n",
      "Trip 55700000063326613: [0]\n",
      "Trip 55700000063323408: [1]\n",
      "Trip 55700000063325770: [0]\n",
      "Trip 55700000063323442: [1]\n",
      "Trip 55700000063325805: [0]\n",
      "Trip 55700000063323476: [1]\n",
      "Trip 55700000063325840: [0]\n",
      "Trip 55700000063323510: [1]\n",
      "Trip 55700000063325875: [0]\n",
      "Trip 55700000063323544: [1]\n",
      "Trip 55700000063325910: [0]\n",
      "Trip 55700000063323578: [1]\n",
      "Trip 55700000063325945: [0]\n",
      "Trip 55700000063323612: [1]\n",
      "Trip 55700000063325980: [0]\n",
      "Trip 55700000063323646: [1]\n",
      "Trip 55700000063326015: [0]\n",
      "Trip 55700000063323680: [1]\n",
      "Trip 55700000063326050: [0]\n",
      "Trip 55700000063323714: [1]\n",
      "Trip 55700000063326085: [0]\n",
      "Trip 55700000063323748: [1]\n",
      "Trip 55700000063326120: [0]\n",
      "Trip 55700000063323782: [1]\n",
      "Trip 55700000063326155: [0]\n",
      "Trip 55700000063323816: [1]\n",
      "Trip 55700000063326190: [0]\n",
      "Trip 55700000063323850: [1]\n",
      "Trip 55700000063326225: [0]\n",
      "Trip 55700000063323884: [1]\n",
      "Trip 55700000063326260: [0]\n",
      "Trip 55700000063323918: [1]\n",
      "Trip 55700000063326295: [0]\n",
      "Trip 55700000063323952: [1]\n",
      "Trip 55700000063326330: [0]\n",
      "Trip 55700000063323986: [1]\n",
      "Trip 55700000063326365: [0]\n",
      "Trip 55700000063324020: [1]\n",
      "Trip 55700000063326400: [0]\n",
      "Trip 55700000063324054: [1]\n",
      "Trip 55700000063326435: [0]\n",
      "Trip 55700000063324088: [1]\n",
      "Trip 55700000063326470: [0]\n",
      "Trip 55700000063324122: [1]\n",
      "Trip 55700000063326505: [0]\n",
      "Trip 55700000063324156: [1]\n",
      "Trip 55700000063326540: [0]\n",
      "Trip 55700000063324190: [1]\n",
      "Trip 55700000063325447: [0]\n",
      "Trip 55700000063324224: [1]\n",
      "Trip 55700000063325482: [0]\n",
      "Trip 55700000063324258: [1]\n",
      "Trip 55700000063325517: [0]\n",
      "Trip 55700000063324292: [1]\n",
      "Trip 55700000063325552: [0]\n",
      "Trip 55700000063324326: [1]\n",
      "Trip 55700000063325587: [0]\n",
      "Trip 55700000063324360: [1]\n",
      "Trip 55700000063325622: [0]\n",
      "Trip 55700000063324394: [1]\n",
      "Trip 55700000063325657: [0]\n",
      "Trip 55700000063324428: [1]\n",
      "Trip 55700000063324780: [0]\n",
      "Trip 55700000063321094: [1]\n",
      "Trip 55700000063324595: [0]\n",
      "Trip 55700000063319894: [1]\n",
      "Trip 55700000063324630: [0]\n",
      "Trip 55700000063319928: [1]\n",
      "Trip 55700000063324665: [0]\n",
      "Trip 55700000063319962: [1]\n",
      "Trip 55700000063324700: [0]\n",
      "Trip 55700000063319996: [1]\n",
      "Trip 55700000063324735: [0]\n",
      "Trip 55700000063320030: [1]\n",
      "Trip 55700000063324525: [0]\n",
      "Trip 55700000063320064: [1]\n",
      "Trip 55700000063320098: [1]\n",
      "Trip 55700000063320132: [1]\n",
      "Trip 55700000063327397: [0]\n",
      "Trip 55700000063320166: [1]\n",
      "Trip 55700000063320200: [1]\n",
      "Trip 55700000063320234: [1]\n",
      "Trip 55700000063320268: [1]\n",
      "Trip 55700000063320302: [1]\n",
      "Trip 55700000063320336: [1]\n",
      "Trip 55700000063325132: [0]\n",
      "Trip 55700000063320388: [1]\n",
      "Trip 55700000063325167: [0]\n",
      "Trip 55700000063320422: [1]\n",
      "Trip 55700000063325202: [0]\n",
      "Trip 55700000063325237: [0]\n",
      "Trip 55700000063326718: [0]\n",
      "Trip 55700000063326648: [0]\n",
      "Trip 55700000063325696: [0]\n",
      "Trip 55700000063325731: [0]\n",
      "Trip 55700000063324560: [0]\n",
      "Trip 55700000063320466: [1]\n",
      "Trip 55700000063669975: [1]\n",
      "Trip 55700000064411540: [0]\n",
      "Trip 55700000064401541: [1]\n",
      "Trip 55700000064411575: [0]\n",
      "Trip 55700000064411610: [0]\n",
      "Trip 55700000064401575: [1]\n",
      "Trip 55700000064411645: [0]\n",
      "Trip 55700000064401609: [1]\n",
      "Trip 55700000064411680: [0]\n",
      "Trip 55700000064401643: [1]\n",
      "Trip 55700000064411715: [0]\n",
      "Trip 55700000064410805: [0]\n",
      "Trip 55700000064401677: [1]\n",
      "Trip 55700000064410840: [0]\n",
      "Trip 55700000064401711: [1]\n",
      "Trip 55700000064410875: [0]\n",
      "Trip 55700000064401745: [1]\n",
      "Trip 55700000064401779: [1]\n",
      "Trip 55700000064410910: [0]\n",
      "Trip 55700000064401813: [1]\n",
      "Trip 55700000064410945: [0]\n",
      "Trip 55700000064404731: [1]\n",
      "Trip 55700000064410980: [0]\n",
      "Trip 55700000064404765: [1]\n",
      "Trip 55700000064411015: [0]\n",
      "Trip 55700000064401847: [1]\n",
      "Trip 55700000064410630: [0]\n",
      "Trip 55700000064403133: [1]\n",
      "Trip 55700000064410665: [0]\n",
      "Trip 55700000064403167: [1]\n",
      "Trip 55700000064410700: [0]\n",
      "Trip 55700000064403201: [1]\n",
      "Trip 55700000064410735: [0]\n",
      "Trip 55700000064403235: [1]\n",
      "Trip 55700000064410770: [0]\n",
      "Trip 55700000064403269: [1]\n",
      "Trip 55700000064411050: [0]\n",
      "Trip 55700000064403303: [1]\n",
      "Trip 55700000064411085: [0]\n",
      "Trip 55700000064403337: [1]\n",
      "Trip 55700000064411120: [0]\n",
      "Trip 55700000064411155: [0]\n",
      "Trip 55700000064403371: [1]\n",
      "Trip 55700000064411190: [0]\n",
      "Trip 55700000064403405: [1]\n",
      "Trip 55700000064411225: [0]\n",
      "Trip 55700000064403439: [1]\n",
      "Trip 55700000064411260: [0]\n",
      "Trip 55700000064403473: [1]\n",
      "Trip 55700000064411295: [0]\n",
      "Trip 55700000064403507: [1]\n",
      "Trip 55700000064411330: [0]\n",
      "Trip 55700000064403541: [1]\n",
      "Trip 55700000064411365: [0]\n",
      "Trip 55700000064403575: [1]\n",
      "Trip 55700000064411400: [0]\n",
      "Trip 55700000064403609: [1]\n",
      "Trip 55700000064411435: [0]\n",
      "Trip 55700000064403643: [1]\n",
      "Trip 55700000064406954: [0]\n",
      "Trip 55700000064403677: [1]\n",
      "Trip 55700000064406989: [0]\n",
      "Trip 55700000064403847: [1]\n",
      "Trip 55700000064407024: [0]\n",
      "Trip 55700000064403881: [1]\n",
      "Trip 55700000064407059: [0]\n",
      "Trip 55700000064403915: [1]\n",
      "Trip 55700000064407094: [0]\n",
      "Trip 55700000064403949: [1]\n",
      "Trip 55700000064407129: [0]\n",
      "Trip 55700000064403983: [1]\n",
      "Trip 55700000064407164: [0]\n",
      "Trip 55700000064404017: [1]\n",
      "Trip 55700000064404051: [1]\n",
      "Trip 55700000064407199: [0]\n",
      "Trip 55700000064407234: [0]\n",
      "Trip 55700000064404085: [1]\n",
      "Trip 55700000064407269: [0]\n",
      "Trip 55700000064404119: [1]\n",
      "Trip 55700000064407304: [0]\n",
      "Trip 55700000064404153: [1]\n",
      "Trip 55700000064407339: [0]\n",
      "Trip 55700000064404187: [1]\n",
      "Trip 55700000064407374: [0]\n",
      "Trip 55700000064404221: [1]\n",
      "Trip 55700000064407409: [0]\n",
      "Trip 55700000064404255: [1]\n",
      "Trip 55700000064411995: [0]\n",
      "Trip 55700000064404289: [1]\n",
      "Trip 55700000064412030: [0]\n",
      "Trip 55700000064404323: [1]\n",
      "Trip 55700000064412065: [0]\n",
      "Trip 55700000064404357: [1]\n",
      "Trip 55700000064404391: [1]\n",
      "Trip 55700000064412100: [0]\n",
      "Trip 55700000064412135: [0]\n",
      "Trip 55700000064404425: [1]\n",
      "Trip 55700000064412170: [0]\n",
      "Trip 55700000064404459: [1]\n",
      "Trip 55700000064412205: [0]\n",
      "Trip 55700000064404493: [1]\n",
      "Trip 55700000064412240: [0]\n",
      "Trip 55700000064404527: [1]\n",
      "Trip 55700000064412275: [0]\n",
      "Trip 55700000064404561: [1]\n",
      "Trip 55700000064412310: [0]\n",
      "Trip 55700000064404595: [1]\n",
      "Trip 55700000064412345: [0]\n",
      "Trip 55700000064404629: [1]\n",
      "Trip 55700000064412380: [0]\n",
      "Trip 55700000064404663: [1]\n",
      "Trip 55700000064404697: [1]\n",
      "Trip 55700000064412415: [0]\n",
      "Trip 55700000064412450: [0]\n",
      "Trip 55700000064405139: [1]\n",
      "Trip 55700000064412485: [0]\n",
      "Trip 55700000064405173: [1]\n",
      "Trip 55700000064407444: [0]\n",
      "Trip 55700000064405207: [1]\n",
      "Trip 55700000064407479: [0]\n",
      "Trip 55700000064405241: [1]\n",
      "Trip 55700000064405275: [1]\n",
      "Trip 55700000064407514: [0]\n",
      "Trip 55700000064404799: [1]\n",
      "Trip 55700000064407549: [0]\n",
      "Trip 55700000064407584: [0]\n",
      "Trip 55700000064404833: [1]\n",
      "Trip 55700000064404867: [1]\n",
      "Trip 55700000064407619: [0]\n",
      "Trip 55700000064407654: [0]\n",
      "Trip 55700000064404901: [1]\n",
      "Trip 55700000064404935: [1]\n",
      "Trip 55700000064407689: [0]\n",
      "Trip 55700000064404969: [1]\n",
      "Trip 55700000064407724: [0]\n",
      "Trip 55700000064405003: [1]\n",
      "Trip 55700000064407759: [0]\n",
      "Trip 55700000064405037: [1]\n",
      "Trip 55700000064407794: [0]\n",
      "Trip 55700000064405071: [1]\n",
      "Trip 55700000064407829: [0]\n",
      "Trip 55700000064405105: [1]\n",
      "Trip 55700000064407864: [0]\n",
      "Trip 55700000064405309: [1]\n",
      "Trip 55700000064411470: [0]\n",
      "Trip 55700000064411505: [0]\n",
      "Trip 55700000064406749: [1]\n",
      "Trip 55700000064406375: [1]\n",
      "Trip 55700000064407899: [0]\n",
      "Trip 55700000064407934: [0]\n",
      "Trip 55700000064406409: [1]\n",
      "Trip 55700000064407969: [0]\n",
      "Trip 55700000064406443: [1]\n",
      "Trip 55700000064406477: [1]\n",
      "Trip 55700000064408004: [0]\n",
      "Trip 55700000064406511: [1]\n",
      "Trip 55700000064408039: [0]\n",
      "Trip 55700000064406545: [1]\n",
      "Trip 55700000064408074: [0]\n",
      "Trip 55700000064406579: [1]\n",
      "Trip 55700000064408109: [0]\n",
      "Trip 55700000064406613: [1]\n",
      "Trip 55700000064408144: [0]\n",
      "Trip 55700000064406647: [1]\n",
      "Trip 55700000064408179: [0]\n",
      "Trip 55700000064406681: [1]\n",
      "Trip 55700000064408214: [0]\n",
      "Trip 55700000064406715: [1]\n",
      "Trip 55700000064408249: [0]\n",
      "Trip 55700000064408284: [0]\n",
      "Trip 55700000064406341: [1]\n",
      "Trip 55700000064408319: [0]\n",
      "Trip 55700000064403711: [1]\n",
      "Trip 55700000064408354: [0]\n",
      "Trip 55700000064403745: [1]\n",
      "Trip 55700000064408389: [0]\n",
      "Trip 55700000064403779: [1]\n",
      "Trip 55700000064408424: [0]\n",
      "Trip 55700000064403813: [1]\n",
      "Trip 55700000064408459: [0]\n",
      "Trip 55700000064406783: [1]\n",
      "Trip 55700000064408494: [0]\n",
      "Trip 55700000064406817: [1]\n",
      "Trip 55700000064408529: [0]\n",
      "Trip 55700000064406851: [1]\n",
      "Trip 55700000064408564: [0]\n",
      "Trip 55700000064406885: [1]\n",
      "Trip 55700000064408599: [0]\n",
      "Trip 55700000064406919: [1]\n",
      "Trip 55700000064405413: [1]\n",
      "Trip 55700000064408634: [0]\n",
      "Trip 55700000064408669: [0]\n",
      "Trip 55700000064405447: [1]\n",
      "Trip 55700000064408704: [0]\n",
      "Trip 55700000064405481: [1]\n",
      "Trip 55700000064408739: [0]\n",
      "Trip 55700000064405515: [1]\n",
      "Trip 55700000064405549: [1]\n",
      "Trip 55700000064405377: [1]\n",
      "Trip 55700000064408847: [0]\n",
      "Trip 55700000064408882: [0]\n",
      "Trip 55700000064405583: [1]\n",
      "Trip 55700000064408917: [0]\n",
      "Trip 55700000064405617: [1]\n",
      "Trip 55700000064408958: [0]\n",
      "Trip 55700000064405651: [1]\n",
      "Trip 55700000064408995: [0]\n",
      "Trip 55700000064405685: [1]\n",
      "Trip 55700000064411750: [0]\n",
      "Trip 55700000064405343: [1]\n",
      "Trip 55700000064401881: [1]\n",
      "Trip 55700000064411785: [0]\n",
      "Trip 55700000064401915: [1]\n",
      "Trip 55700000064411820: [0]\n",
      "Trip 55700000064401949: [1]\n",
      "Trip 55700000064409032: [0]\n",
      "Trip 55700000064401983: [1]\n",
      "Trip 55700000064409102: [0]\n",
      "Trip 55700000064402017: [1]\n",
      "Trip 55700000064409172: [0]\n",
      "Trip 55700000064402051: [1]\n",
      "Trip 55700000064409207: [0]\n",
      "Trip 55700000064402085: [1]\n",
      "Trip 55700000064409242: [0]\n",
      "Trip 55700000064402119: [1]\n",
      "Trip 55700000064409277: [0]\n",
      "Trip 55700000064402153: [1]\n",
      "Trip 55700000064409312: [0]\n",
      "Trip 55700000064402187: [1]\n",
      "Trip 55700000064409347: [0]\n",
      "Trip 55700000064402221: [1]\n",
      "Trip 55700000064409382: [0]\n",
      "Trip 55700000064402255: [1]\n",
      "Trip 55700000064409417: [0]\n",
      "Trip 55700000064402289: [1]\n",
      "Trip 55700000064409452: [0]\n",
      "Trip 55700000064402323: [1]\n",
      "Trip 55700000064409487: [0]\n",
      "Trip 55700000064402357: [1]\n",
      "Trip 55700000064409522: [0]\n",
      "Trip 55700000064402391: [1]\n",
      "Trip 55700000064409557: [0]\n",
      "Trip 55700000064402425: [1]\n",
      "Trip 55700000064409592: [0]\n",
      "Trip 55700000064402459: [1]\n",
      "Trip 55700000064409627: [0]\n",
      "Trip 55700000064402493: [1]\n",
      "Trip 55700000064409662: [0]\n",
      "Trip 55700000064402527: [1]\n",
      "Trip 55700000064409697: [0]\n",
      "Trip 55700000064402561: [1]\n",
      "Trip 55700000064409732: [0]\n",
      "Trip 55700000064402595: [1]\n",
      "Trip 55700000064409767: [0]\n",
      "Trip 55700000064402629: [1]\n",
      "Trip 55700000064409802: [0]\n",
      "Trip 55700000064402663: [1]\n",
      "Trip 55700000064409837: [0]\n",
      "Trip 55700000064402697: [1]\n",
      "Trip 55700000064409872: [0]\n",
      "Trip 55700000064402731: [1]\n",
      "Trip 55700000064409907: [0]\n",
      "Trip 55700000064402765: [1]\n",
      "Trip 55700000064409942: [0]\n",
      "Trip 55700000064402799: [1]\n",
      "Trip 55700000064410015: [0]\n",
      "Trip 55700000064402833: [1]\n",
      "Trip 55700000064410050: [0]\n",
      "Trip 55700000064402867: [1]\n",
      "Trip 55700000064410085: [0]\n",
      "Trip 55700000064402901: [1]\n",
      "Trip 55700000064410120: [0]\n",
      "Trip 55700000064402935: [1]\n",
      "Trip 55700000064410155: [0]\n",
      "Trip 55700000064402969: [1]\n",
      "Trip 55700000064410190: [0]\n",
      "Trip 55700000064403003: [1]\n",
      "Trip 55700000064410225: [0]\n",
      "Trip 55700000064403037: [1]\n",
      "Trip 55700000064410338: [0]\n",
      "Trip 55700000064401505: [1]\n",
      "Trip 55700000064410375: [0]\n",
      "Trip 55700000064405719: [1]\n",
      "Trip 55700000064410410: [0]\n",
      "Trip 55700000064405753: [1]\n",
      "Trip 55700000064410445: [0]\n",
      "Trip 55700000064405787: [1]\n",
      "Trip 55700000064410480: [0]\n",
      "Trip 55700000064405821: [1]\n",
      "Trip 55700000064410515: [0]\n",
      "Trip 55700000064405855: [1]\n",
      "Trip 55700000064410560: [0]\n",
      "Trip 55700000064405889: [1]\n",
      "Trip 55700000064405923: [1]\n",
      "Trip 55700000064405957: [1]\n",
      "Trip 55700000064408778: [0]\n",
      "Trip 55700000064405991: [1]\n",
      "Trip 55700000064406025: [1]\n",
      "Trip 55700000064406059: [1]\n",
      "Trip 55700000064406093: [1]\n",
      "Trip 55700000064406127: [1]\n",
      "Trip 55700000064406161: [1]\n",
      "Trip 55700000064411855: [0]\n",
      "Trip 55700000064406213: [1]\n",
      "Trip 55700000064411890: [0]\n",
      "Trip 55700000064406247: [1]\n",
      "Trip 55700000064411925: [0]\n",
      "Trip 55700000064411960: [0]\n",
      "Trip 55700000064409067: [0]\n",
      "Trip 55700000064409137: [0]\n",
      "Trip 55700000064410264: [0]\n",
      "Trip 55700000064410299: [0]\n",
      "Trip 55700000064406291: [1]\n",
      "Trip 55700000064410595: [0]\n",
      "Trip 55700000064686402: [1]\n"
     ]
    }
   ],
   "source": [
    "def print_trip_directions(df):\n",
    "    \"\"\"Print all directions found for each unique trip_id\"\"\"\n",
    "    \n",
    "    trip_directions = {}\n",
    "    \n",
    "    # Go through each record and track directions for each trip_id\n",
    "    for _, row in df.iterrows():\n",
    "        trip_id = row['trip_id']\n",
    "        direction_id = row['direction_id']\n",
    "        \n",
    "        # Initialize set if first time seeing this trip_id\n",
    "        if trip_id not in trip_directions:\n",
    "            trip_directions[trip_id] = set()\n",
    "        \n",
    "        # Add this direction to the set\n",
    "        trip_directions[trip_id].add(direction_id)\n",
    "    \n",
    "    # Print what directions were found for each trip_id\n",
    "    for trip_id, directions in trip_directions.items():\n",
    "        directions_list = sorted(list(directions))\n",
    "        print(f\"Trip {trip_id}: {directions_list}\")\n",
    "\n",
    "# Usage\n",
    "print_trip_directions(test_dataframes[205])"
   ]
  },
  {
   "cell_type": "code",
   "execution_count": 63,
   "metadata": {},
   "outputs": [
    {
     "name": "stdout",
     "output_type": "stream",
     "text": [
      "Failed merges: 0/48661 (0.0%)\n",
      "Empty DataFrame\n",
      "Columns: [trip_id, stop_id, stop_sequence, stop_name]\n",
      "Index: []\n",
      "Failed merges: 0/48661 (0.0%)\n",
      "Empty DataFrame\n",
      "Columns: [trip_id, stop_id, stop_sequence, stop_name]\n",
      "Index: []\n",
      "Failed merges: 0/48661 (0.0%)\n",
      "Empty DataFrame\n",
      "Columns: [trip_id, stop_id, stop_sequence, stop_name]\n",
      "Index: []\n",
      "Failed merges: 0/48661 (0.0%)\n",
      "Empty DataFrame\n",
      "Columns: [trip_id, stop_id, stop_sequence, stop_name]\n",
      "Index: []\n",
      "Failed merges: 0/48661 (0.0%)\n",
      "Empty DataFrame\n",
      "Columns: [trip_id, stop_id, stop_sequence, stop_name]\n",
      "Index: []\n",
      "Failed merges: 0/48661 (0.0%)\n",
      "Empty DataFrame\n",
      "Columns: [trip_id, stop_id, stop_sequence, stop_name]\n",
      "Index: []\n",
      "Failed merges: 0/48661 (0.0%)\n",
      "Empty DataFrame\n",
      "Columns: [trip_id, stop_id, stop_sequence, stop_name]\n",
      "Index: []\n",
      "Failed merges: 0/48661 (0.0%)\n",
      "Empty DataFrame\n",
      "Columns: [trip_id, stop_id, stop_sequence, stop_name]\n",
      "Index: []\n",
      "Failed merges: 0/48661 (0.0%)\n",
      "Empty DataFrame\n",
      "Columns: [trip_id, stop_id, stop_sequence, stop_name]\n",
      "Index: []\n",
      "Failed merges: 0/48661 (0.0%)\n",
      "Empty DataFrame\n",
      "Columns: [trip_id, stop_id, stop_sequence, stop_name]\n",
      "Index: []\n",
      "Failed merges: 0/48661 (0.0%)\n",
      "Empty DataFrame\n",
      "Columns: [trip_id, stop_id, stop_sequence, stop_name]\n",
      "Index: []\n",
      "Failed merges: 0/48661 (0.0%)\n",
      "Empty DataFrame\n",
      "Columns: [trip_id, stop_id, stop_sequence, stop_name]\n",
      "Index: []\n",
      "Failed merges: 0/48661 (0.0%)\n",
      "Empty DataFrame\n",
      "Columns: [trip_id, stop_id, stop_sequence, stop_name]\n",
      "Index: []\n",
      "Failed merges: 0/48661 (0.0%)\n",
      "Empty DataFrame\n",
      "Columns: [trip_id, stop_id, stop_sequence, stop_name]\n",
      "Index: []\n",
      "Failed merges: 0/48661 (0.0%)\n",
      "Empty DataFrame\n",
      "Columns: [trip_id, stop_id, stop_sequence, stop_name]\n",
      "Index: []\n",
      "Failed merges: 0/48661 (0.0%)\n",
      "Empty DataFrame\n",
      "Columns: [trip_id, stop_id, stop_sequence, stop_name]\n",
      "Index: []\n",
      "Failed merges: 0/48661 (0.0%)\n",
      "Empty DataFrame\n",
      "Columns: [trip_id, stop_id, stop_sequence, stop_name]\n",
      "Index: []\n",
      "Failed merges: 0/48661 (0.0%)\n",
      "Empty DataFrame\n",
      "Columns: [trip_id, stop_id, stop_sequence, stop_name]\n",
      "Index: []\n",
      "Failed merges: 0/48661 (0.0%)\n",
      "Empty DataFrame\n",
      "Columns: [trip_id, stop_id, stop_sequence, stop_name]\n",
      "Index: []\n"
     ]
    }
   ],
   "source": [
    "# Show rows where sequence merge failed\n",
    "for i in num_list:\n",
    "    failed = test_dataframes[i][test_dataframes[i]['scheduled_departure_time'].isna()]\n",
    "    print(f\"Failed merges: {len(failed)}/{len(df)} ({len(failed)/len(df)*100:.1f}%)\")\n",
    "    print(failed[['trip_id', 'stop_id', 'stop_sequence', 'stop_name']].head(10))"
   ]
  },
  {
   "cell_type": "code",
   "execution_count": 26,
   "metadata": {},
   "outputs": [
    {
     "name": "stdout",
     "output_type": "stream",
     "text": [
      "{'platforms': array(['9022005001394002', '9022005000226002', '9022005000416001',\n",
      "       '9022005000437002', '9022005001396001', '9022005001433001',\n",
      "       '9022005000422001', '9022005001435001', '9022005001445001',\n",
      "       '9022005001437002', '9022005001421002', '9022005001418001',\n",
      "       '9022005001419001', '9022005001323001', '9022005001426001',\n",
      "       '9022005000421001', '9022005001424001', '9022005001422001',\n",
      "       '9022005000198002', '9022005004186002', '9022005000412002',\n",
      "       '9022005001249002', '9022005001431002', '9022005001430002',\n",
      "       '9022005000042002', '9022005000050019', '9022005001243001',\n",
      "       '9022005000046003', '9022005000046006', '9022005001431001',\n",
      "       '9022005000412001', '9022005001430001', '9022005004186001',\n",
      "       '9022005000042001', '9022005000198001', '9022005001249001',\n",
      "       '9022005001243002', '9022005000050018', '9022005001422002',\n",
      "       '9022005001424002', '9022005000421002', '9022005001426002',\n",
      "       '9022005001323002', '9022005001418002', '9022005001419002',\n",
      "       '9022005000437001', '9022005000422002', '9022005001445002',\n",
      "       '9022005001435002', '9022005001421001', '9022005001396002',\n",
      "       '9022005001433002', '9022005001394001', '9022005001437001',\n",
      "       '9022005000226001'], dtype=object), 'parent_stations': array(['9021005001394000', '9021005000226000', '9021005000416000',\n",
      "       '9021005000437000', '9021005001396000', '9021005001433000',\n",
      "       '9021005000422000', '9021005001435000', '9021005001445000',\n",
      "       '9021005001437000', '9021005001421000', '9021005001418000',\n",
      "       '9021005001419000', '9021005001323000', '9021005001426000',\n",
      "       '9021005000421000', '9021005001424000', '9021005001422000',\n",
      "       '9021005000198000', '9021005004186000', '9021005000412000',\n",
      "       '9021005001249000', '9021005001431000', '9021005001430000',\n",
      "       '9021005000042000', '9021005000050000', '9021005001243000',\n",
      "       '9021005000046000'], dtype=object), 'standalone_stops': []}\n"
     ]
    }
   ],
   "source": [
    "def classify_stop_types(df):\n",
    "    \"\"\"\n",
    "    Classify stop_ids as either platforms of parent stations or parent stations themselves.\n",
    "    \n",
    "    Returns:\n",
    "    - platforms: stop_ids that are platforms (have a parent_station)\n",
    "    - parent_stations: stop_ids that are parent stations (appear in parent_station column)\n",
    "    - standalone_stops: stop_ids that are neither (standalone stops)\n",
    "    \"\"\"\n",
    "    \n",
    "    # Get unique stop information\n",
    "    stops_info = df[['stop_id', 'parent_station', 'location_type']].drop_duplicates()\n",
    "    \n",
    "    # Platforms: stop_ids that have a non-null parent_station\n",
    "    platforms = stops_info[stops_info['parent_station'].notna()]['stop_id'].unique()\n",
    "    \n",
    "    # Parent stations: stop_ids that appear in the parent_station column\n",
    "    parent_stations = stops_info['parent_station'].dropna().unique()\n",
    "    \n",
    "    # Standalone stops: stop_ids that are neither platforms nor parent stations\n",
    "    all_stop_ids = set(stops_info['stop_id'].unique())\n",
    "    platforms_set = set(platforms)\n",
    "    parent_stations_set = set(parent_stations)\n",
    "    \n",
    "    standalone_stops = all_stop_ids - platforms_set - parent_stations_set\n",
    "    \n",
    "    return {\n",
    "        'platforms': platforms,\n",
    "        'parent_stations': parent_stations, \n",
    "        'standalone_stops': list(standalone_stops)\n",
    "    }\n",
    "\n",
    "# Usage\n",
    "stop_classification = classify_stop_types(test_dataframes[216])\n",
    "print(stop_classification)\n"
   ]
  },
  {
   "cell_type": "code",
   "execution_count": 36,
   "metadata": {},
   "outputs": [
    {
     "name": "stdout",
     "output_type": "stream",
     "text": [
      "Total counts for each stop_id + direction_id combination:\n",
      "            stop_id  direction_id  count\n",
      "0  9022005001437001             0    557\n",
      "1  9022005001437001             1   4783\n",
      "2  9022005001437002             0   4182\n"
     ]
    }
   ],
   "source": [
    "# Total counts for every stop_id + direction_id combination\n",
    "stop_direction_counts = test_dataframes[216].query(\"stop_name == 'Hackefors'\").groupby(['stop_id', 'direction_id']).size().reset_index(name='count')\n",
    "stop_direction_counts = stop_direction_counts.sort_values(['stop_id', 'direction_id'])\n",
    "print(\"Total counts for each stop_id + direction_id combination:\")\n",
    "print(stop_direction_counts)"
   ]
  },
  {
   "cell_type": "code",
   "execution_count": 34,
   "metadata": {},
   "outputs": [
    {
     "name": "stdout",
     "output_type": "stream",
     "text": [
      "Wrong combo 1 - scheduled times:\n",
      "4783 out of 4783\n",
      "Wrong combo 2 - scheduled times:\n",
      "4182 out of 4182\n"
     ]
    }
   ],
   "source": [
    "wrong_combo_1 = test_dataframes[216].query(\"stop_name == 'Hackefors' and stop_id == '9022005001437001' and direction_id == 1\")\n",
    "wrong_combo_2 = test_dataframes[216].query(\"stop_name == 'Hackefors' and stop_id == '9022005001437002' and direction_id == 0\")\n",
    "\n",
    "print(\"Wrong combo 1 - scheduled times:\")\n",
    "print(wrong_combo_1['scheduled_departure_time'].notna().sum(), \"out of\", len(wrong_combo_1))\n",
    "\n",
    "print(\"Wrong combo 2 - scheduled times:\")  \n",
    "print(wrong_combo_2['scheduled_departure_time'].notna().sum(), \"out of\", len(wrong_combo_2))"
   ]
  },
  {
   "cell_type": "code",
   "execution_count": 26,
   "metadata": {},
   "outputs": [
    {
     "name": "stdout",
     "output_type": "stream",
     "text": [
      "processing raw data for route 201\n",
      "  Direction 0:\n",
      "    Most common start: Hässlegatan (9459 trips)\n",
      "    Most common end: Skäggetorp centrum (9477 trips)\n",
      "  Direction 1:\n",
      "    Most common start: Skäggetorp centrum (9762 trips)\n",
      "    Most common end: Hässlegatan (9697 trips)\n",
      "processing raw data for route 202\n",
      "  Direction 0:\n",
      "    Most common start: Tegskiftesgatan (7494 trips)\n",
      "    Most common end: Linköpings resecentrum (7502 trips)\n",
      "  Direction 1:\n",
      "    Most common start: Linköpings resecentrum (7363 trips)\n",
      "    Most common end: Tegskiftesgatan (7366 trips)\n",
      "processing raw data for route 203\n",
      "  Direction 0:\n",
      "    Most common start: Rydsvägens ändhållplats (9435 trips)\n",
      "    Most common end: Linköpings resecentrum (9445 trips)\n",
      "  Direction 1:\n",
      "    Most common start: Linköpings resecentrum (9004 trips)\n",
      "    Most common end: Rydsvägens ändhållplats (9011 trips)\n",
      "processing raw data for route 204\n",
      "  Direction 0:\n",
      "    Most common start: Landbogatan (7576 trips)\n",
      "    Most common end: Linköpings resecentrum (7579 trips)\n",
      "  Direction 1:\n",
      "    Most common start: Linköpings resecentrum (7405 trips)\n",
      "    Most common end: Landbogatan (7412 trips)\n",
      "processing raw data for route 205\n",
      "  Direction 0:\n",
      "    Most common start: Räknestickan (9467 trips)\n",
      "    Most common end: Skäggetorp centrum (9492 trips)\n",
      "  Direction 1:\n",
      "    Most common start: Skäggetorp centrum (9367 trips)\n",
      "    Most common end: Räknestickan (9394 trips)\n",
      "processing raw data for route 206\n",
      "  Direction 0:\n",
      "    Most common start: Fårullsvägen (7561 trips)\n",
      "    Most common end: Linköpings resecentrum (7571 trips)\n",
      "  Direction 1:\n",
      "    Most common start: Linköpings resecentrum (7327 trips)\n",
      "    Most common end: Fårullsvägen (7333 trips)\n",
      "processing raw data for route 210\n",
      "  Direction 1:\n",
      "    Most common start: Kråkbärsvägen (4949 trips)\n",
      "    Most common end: Roxtuna (4728 trips)\n",
      "  Direction 0:\n",
      "    Most common start: Roxtuna (4761 trips)\n",
      "    Most common end: Kråkbärsvägen (4694 trips)\n",
      "processing raw data for route 211\n",
      "  Direction 0:\n",
      "    Most common start: Övre Johannelund (6224 trips)\n",
      "    Most common end: Linköpings resecentrum (6226 trips)\n",
      "  Direction 1:\n",
      "    Most common start: Linköpings resecentrum (6040 trips)\n",
      "    Most common end: Övre Johannelund (6042 trips)\n",
      "processing raw data for route 212\n",
      "  Direction 1:\n",
      "    Most common start: Linköpings resecentrum (3996 trips)\n",
      "    Most common end: Änggårdsskolan (4001 trips)\n",
      "  Direction 0:\n",
      "    Most common start: Änggårdsskolan (3839 trips)\n",
      "    Most common end: Linköpings resecentrum (3842 trips)\n",
      "processing raw data for route 213\n",
      "  Direction 0:\n",
      "    Most common start: Nedre Johannelund (6256 trips)\n",
      "    Most common end: Fönvindsvägen östra (6275 trips)\n",
      "  Direction 1:\n",
      "    Most common start: Fönvindsvägen östra (6171 trips)\n",
      "    Most common end: Nedre Johannelund (6182 trips)\n",
      "processing raw data for route 214\n",
      "  Direction 0:\n",
      "    Most common start: Aspnäset (4831 trips)\n",
      "    Most common end: Gamla Linköping (4764 trips)\n",
      "  Direction 1:\n",
      "    Most common start: Gamla Linköping (4688 trips)\n",
      "    Most common end: Aspnäset (4699 trips)\n",
      "processing raw data for route 215\n",
      "  Direction 0:\n",
      "    Most common start: Klarinettgatan (4762 trips)\n",
      "    Most common end: Linköpings resecentrum (4765 trips)\n",
      "  Direction 1:\n",
      "    Most common start: Linköpings resecentrum (4689 trips)\n",
      "    Most common end: Klarinettgatan (4691 trips)\n",
      "processing raw data for route 216\n",
      "  Direction 0:\n",
      "    Most common start: Aspnäset (4729 trips)\n",
      "    Most common end: Berga centrum (4816 trips)\n",
      "  Direction 1:\n",
      "    Most common start: Berga centrum (4735 trips)\n",
      "    Most common end: Aspnäset (4743 trips)\n",
      "processing raw data for route 217\n",
      "  Direction 0:\n",
      "    Most common start: Aspnäset (4702 trips)\n",
      "    Most common end: Linköpings resecentrum (4709 trips)\n",
      "  Direction 1:\n",
      "    Most common start: Linköpings resecentrum (4537 trips)\n",
      "    Most common end: Aspnäset (4542 trips)\n",
      "processing raw data for route 218\n",
      "  Direction 0:\n",
      "    Most common start: Gamla Linköping (4718 trips)\n",
      "    Most common end: Linköpings resecentrum (4725 trips)\n",
      "  Direction 1:\n",
      "    Most common start: Linköpings resecentrum (4625 trips)\n",
      "    Most common end: Gamla Linköping (4628 trips)\n",
      "processing raw data for route 220\n",
      "  Direction 1:\n",
      "    Most common start: Linköpings resecentrum (705 trips)\n",
      "    Most common end: Mjärdevi (706 trips)\n",
      "  Direction 0:\n",
      "    Most common start: Mjärdevi (889 trips)\n",
      "    Most common end: Linköpings resecentrum (889 trips)\n",
      "processing raw data for route 221\n",
      "  Direction 1:\n",
      "    Most common start: Linköpings resecentrum (703 trips)\n",
      "    Most common end: Landerydsvägen (704 trips)\n",
      "  Direction 0:\n",
      "    Most common start: Landerydsvägen (725 trips)\n",
      "    Most common end: Linköpings resecentrum (727 trips)\n",
      "processing raw data for route 222\n",
      "  Direction 1:\n",
      "    Most common start: Ekhaga (391 trips)\n",
      "    Most common end: Mjärdevi (392 trips)\n",
      "  Direction 0:\n",
      "    Most common start: Mjärdevi (323 trips)\n",
      "    Most common end: Ekhaga (323 trips)\n",
      "processing raw data for route 226\n",
      "  Direction 1:\n",
      "    Most common start: MAXI (1028 trips)\n",
      "    Most common end: Landbogatan (1029 trips)\n",
      "  Direction 0:\n",
      "    Most common start: Landbogatan (916 trips)\n",
      "    Most common end: MAXI (919 trips)\n",
      "\n",
      "Route terminals data saved to route_terminals.json\n",
      "Processed 19 routes\n"
     ]
    }
   ],
   "source": [
    "import json\n",
    "\n",
    "route_terminals = {}\n",
    "\n",
    "for i in num_list:\n",
    "    print(f'processing raw data for route {i}')\n",
    "    test_df = test_dataframes[i]\n",
    "    \n",
    "    # Get route name for the key\n",
    "    route_name = f'{i}'\n",
    "    route_terminals[route_name] = {}\n",
    "    \n",
    "    # Get most common start and end points for each direction\n",
    "    for direction in test_df['direction_id'].unique():\n",
    "        dir_data = test_df[test_df['direction_id'] == direction]\n",
    "        \n",
    "        # Get start points (first stop of each trip) - using transform to avoid grouping column issues\n",
    "        start_points = dir_data.loc[dir_data.groupby(['trip_id', 'start_date'])['stop_sequence'].idxmin(), 'stop_name'].value_counts()\n",
    "        \n",
    "        # Get end points (last stop of each trip) - using transform to avoid grouping column issues  \n",
    "        end_points = dir_data.loc[dir_data.groupby(['trip_id', 'start_date'])['stop_sequence'].idxmax(), 'stop_name'].value_counts()\n",
    "        \n",
    "        most_common_start = start_points.index[0] if len(start_points) > 0 else \"No data\"\n",
    "        most_common_end = end_points.index[0] if len(end_points) > 0 else \"No data\"\n",
    "        \n",
    "        # Store in the dictionary - convert direction to string\n",
    "        route_terminals[route_name][str(direction)] = {\n",
    "            'start': most_common_start,\n",
    "            'end': most_common_end\n",
    "        }\n",
    "        \n",
    "        print(f\"  Direction {direction}:\")\n",
    "        print(f\"    Most common start: {most_common_start} ({start_points.iloc[0] if len(start_points) > 0 else 0} trips)\")\n",
    "        print(f\"    Most common end: {most_common_end} ({end_points.iloc[0] if len(end_points) > 0 else 0} trips)\")\n",
    "\n",
    "# Dump to JSON\n",
    "with open('route_terminals.json', 'w', encoding='utf-8') as f:\n",
    "    json.dump(route_terminals, f, indent=2, ensure_ascii=False)\n",
    "\n",
    "print(f\"\\nRoute terminals data saved to route_terminals.json\")\n",
    "print(f\"Processed {len(route_terminals)} routes\")"
   ]
  },
  {
   "cell_type": "code",
   "execution_count": null,
   "metadata": {},
   "outputs": [],
   "source": [
    "'''okay so this information should be converted to a regulation json on the finest granularity format. regulation[composite_key]={'route_name': , 'stop_name': 'regulations':{}, regulation[composite_key]['regulations'][sub_key]={'direction_id': , 'time_type': , 'regulation stop': True if composite key is a regulatory stop in that direction else False , 'multiple_stop_sequences': True'''"
   ]
  },
  {
   "cell_type": "code",
   "execution_count": 116,
   "metadata": {},
   "outputs": [
    {
     "name": "stdout",
     "output_type": "stream",
     "text": [
      "processing raw data for route 201\n",
      "Removing 0 duplicates.\n",
      "STEP 1: Stop topology validation...\n",
      "\n",
      "=== COMPLETE STOP VALIDATION WORKFLOW ===\n",
      "Validating parent station topology...\n",
      "✅ Parent station 9021005000044000 [Shared]: Valid topology\n",
      "✅ Parent station 9021005001232000 [Bidirectional]: Valid topology\n",
      "✅ Parent station 9021005001233000 [Bidirectional]: Valid topology\n",
      "✅ Parent station 9021005000045000 [Bidirectional]: Valid topology\n",
      "✅ Parent station 9021005000043000 [Bidirectional]: Valid topology\n",
      "✅ Parent station 9021005001231000 [Bidirectional]: Valid topology\n",
      "✅ Parent station 9021005001230000 [Bidirectional]: Valid topology\n",
      "✅ Parent station 9021005001229000 [Bidirectional]: Valid topology\n",
      "✅ Parent station 9021005001227000 [Bidirectional]: Valid topology\n",
      "✅ Parent station 9021005001236000 [Bidirectional]: Valid topology\n",
      "✅ Parent station 9021005001411000 [Bidirectional]: Valid topology\n",
      "✅ Parent station 9021005000048000 [Shared]: Valid topology\n",
      "✅ Parent station 9021005001235000 [Bidirectional]: Valid topology\n",
      "✅ Parent station 9021005001221000 [Unidirectional]: Valid topology\n",
      "✅ Parent station 9021005001223000 [Bidirectional]: Valid topology\n",
      "✅ Parent station 9021005001234000 [Bidirectional]: Valid topology\n",
      "✅ Parent station 9021005001219000 [Bidirectional]: Valid topology\n",
      "✅ Parent station 9021005000417000 [Bidirectional]: Valid topology\n",
      "✅ Parent station 9021005000042000 [Bidirectional]: Valid topology\n",
      "✅ Parent station 9021005000046000 [Bidirectional]: Valid topology\n",
      "✅ Parent station 9021005001243000 [Bidirectional]: Valid topology\n",
      "✅ Parent station 9021005000050000 [Bidirectional]: Valid topology\n",
      "✅ Parent station 9021005001222000 [Unidirectional]: Valid topology\n",
      "Parent station validation complete: 0 violations found\n",
      "Validating individual stop ID directions...\n",
      "Stop ID validation complete: 0 violations found\n",
      "Found 0 parent station + 0 stop ID violations\n",
      "✅ Topology validation complete with 0 total violations\n",
      "STEP 2: Direction topology validation...\n",
      "\n",
      "=== COMPLETE DIRECTION VALIDATION WORKFLOW ===\n",
      "Found 2 direction + 2 stop violations\n",
      "✅ Direction topology validation complete with 4 total violations\n",
      "✅ DataFormer initialization complete!\n",
      "📤 Exported full logs and navigation for route 9011005020100000 -> 201\n",
      "📦 Classification export complete: 65 stop topology labels, 2 direction labels, 44 direction-stop labels.\n",
      "processing raw data for route 202\n",
      "Removing 0 duplicates.\n",
      "STEP 1: Stop topology validation...\n",
      "\n",
      "=== COMPLETE STOP VALIDATION WORKFLOW ===\n",
      "Validating parent station topology...\n",
      "✅ Parent station 9021005000469000 [Bidirectional]: Valid topology\n",
      "✅ Parent station 9021005004084000 [Bidirectional]: Valid topology\n",
      "✅ Parent station 9021005004076000 [Bidirectional]: Valid topology\n",
      "✅ Parent station 9021005004250000 [Bidirectional]: Valid topology\n",
      "✅ Parent station 9021005004251000 [Bidirectional]: Valid topology\n",
      "✅ Parent station 9021005000404000 [Bidirectional]: Valid topology\n",
      "✅ Parent station 9021005001249000 [Bidirectional]: Valid topology\n",
      "✅ Parent station 9021005000198000 [Bidirectional]: Valid topology\n",
      "✅ Parent station 9021005000042000 [Bidirectional]: Valid topology\n",
      "✅ Parent station 9021005004236000 [Bidirectional]: Valid topology\n",
      "✅ Parent station 9021005000046000 [Bidirectional]: Valid topology\n",
      "✅ Parent station 9021005001243000 [Bidirectional]: Valid topology\n",
      "✅ Parent station 9021005000050000 [Shared]: Valid topology\n",
      "✅ Parent station 9021005004230000 [Bidirectional]: Valid topology\n",
      "Parent station validation complete: 0 violations found\n",
      "Validating individual stop ID directions...\n",
      "Stop ID validation complete: 0 violations found\n",
      "Found 0 parent station + 0 stop ID violations\n",
      "✅ Topology validation complete with 0 total violations\n",
      "STEP 2: Direction topology validation...\n",
      "\n",
      "=== COMPLETE DIRECTION VALIDATION WORKFLOW ===\n",
      "Found 2 direction + 6 stop violations\n",
      "✅ Direction topology validation complete with 8 total violations\n",
      "✅ DataFormer initialization complete!\n",
      "📤 Exported full logs and navigation for route 9011005020200000 -> 202\n",
      "📦 Classification export complete: 41 stop topology labels, 2 direction labels, 28 direction-stop labels.\n",
      "processing raw data for route 203\n",
      "Removing 0 duplicates.\n",
      "STEP 1: Stop topology validation...\n",
      "\n",
      "=== COMPLETE STOP VALIDATION WORKFLOW ===\n",
      "Validating parent station topology...\n",
      "✅ Parent station 9021005000219000 [Shared]: Valid topology\n",
      "✅ Parent station 9021005001339000 [Bidirectional]: Valid topology\n",
      "✅ Parent station 9021005001338000 [Bidirectional]: Valid topology\n",
      "✅ Parent station 9021005001341000 [Bidirectional]: Valid topology\n",
      "✅ Parent station 9021005001343000 [Bidirectional]: Valid topology\n",
      "✅ Parent station 9021005000050000 [Shared]: Valid topology\n",
      "✅ Parent station 9021005000214000 [Bidirectional]: Valid topology\n",
      "✅ Parent station 9021005001243000 [Bidirectional]: Valid topology\n",
      "✅ Parent station 9021005001268000 [Bidirectional]: Valid topology\n",
      "✅ Parent station 9021005001315000 [Bidirectional]: Valid topology\n",
      "✅ Parent station 9021005001259000 [Bidirectional]: Valid topology\n",
      "✅ Parent station 9021005001253000 [Bidirectional]: Valid topology\n",
      "✅ Parent station 9021005000215000 [Bidirectional]: Valid topology\n",
      "✅ Parent station 9021005001254000 [Bidirectional]: Valid topology\n",
      "Parent station validation complete: 0 violations found\n",
      "Validating individual stop ID directions...\n",
      "Stop ID validation complete: 0 violations found\n",
      "Found 0 parent station + 0 stop ID violations\n",
      "✅ Topology validation complete with 0 total violations\n",
      "STEP 2: Direction topology validation...\n",
      "\n",
      "=== COMPLETE DIRECTION VALIDATION WORKFLOW ===\n",
      "Found 2 direction + 2 stop violations\n",
      "✅ Direction topology validation complete with 4 total violations\n",
      "✅ DataFormer initialization complete!\n",
      "📤 Exported full logs and navigation for route 9011005020300000 -> 203\n",
      "📦 Classification export complete: 40 stop topology labels, 2 direction labels, 28 direction-stop labels.\n",
      "processing raw data for route 204\n",
      "Removing 0 duplicates.\n",
      "STEP 1: Stop topology validation...\n",
      "\n",
      "=== COMPLETE STOP VALIDATION WORKFLOW ===\n",
      "Validating parent station topology...\n",
      "✅ Parent station 9021005000223000 [Bidirectional]: Valid topology\n",
      "✅ Parent station 9021005000418000 [Bidirectional]: Valid topology\n",
      "✅ Parent station 9021005001275000 [Bidirectional]: Valid topology\n",
      "✅ Parent station 9021005001274000 [Bidirectional]: Valid topology\n",
      "✅ Parent station 9021005001273000 [Bidirectional]: Valid topology\n",
      "✅ Parent station 9021005000213000 [Bidirectional]: Valid topology\n",
      "✅ Parent station 9021005000234000 [Bidirectional]: Valid topology\n",
      "✅ Parent station 9021005080182000 [Bidirectional]: Valid topology\n",
      "✅ Parent station 9021005000050000 [Shared]: Valid topology\n",
      "✅ Parent station 9021005001243000 [Bidirectional]: Valid topology\n",
      "✅ Parent station 9021005004236000 [Bidirectional]: Valid topology\n",
      "✅ Parent station 9021005000198000 [Bidirectional]: Valid topology\n",
      "✅ Parent station 9021005001249000 [Bidirectional]: Valid topology\n",
      "✅ Parent station 9021005000046000 [Bidirectional]: Valid topology\n",
      "✅ Parent station 9021005000042000 [Bidirectional]: Valid topology\n",
      "✅ Parent station 9021005000404000 [Bidirectional]: Valid topology\n",
      "✅ Parent station 9021005080004000 [Bidirectional]: Valid topology\n",
      "✅ Parent station 9021005004230000 [Bidirectional]: Valid topology\n",
      "Parent station validation complete: 0 violations found\n",
      "Validating individual stop ID directions...\n",
      "Stop ID validation complete: 0 violations found\n",
      "Found 0 parent station + 0 stop ID violations\n",
      "✅ Topology validation complete with 0 total violations\n",
      "STEP 2: Direction topology validation...\n",
      "\n",
      "=== COMPLETE DIRECTION VALIDATION WORKFLOW ===\n",
      "Found 2 direction + 6 stop violations\n",
      "✅ Direction topology validation complete with 8 total violations\n",
      "✅ DataFormer initialization complete!\n",
      "📤 Exported full logs and navigation for route 9011005020400000 -> 204\n",
      "📦 Classification export complete: 53 stop topology labels, 2 direction labels, 36 direction-stop labels.\n",
      "processing raw data for route 205\n",
      "Removing 0 duplicates.\n",
      "STEP 1: Stop topology validation...\n",
      "\n",
      "=== COMPLETE STOP VALIDATION WORKFLOW ===\n",
      "Validating parent station topology...\n",
      "✅ Parent station 9021005000419000 [Bidirectional]: Valid topology\n",
      "✅ Parent station 9021005001325000 [Bidirectional]: Valid topology\n",
      "✅ Parent station 9021005001324000 [Bidirectional]: Valid topology\n",
      "✅ Parent station 9021005000054000 [Bidirectional]: Valid topology\n",
      "✅ Parent station 9021005003559000 [Bidirectional]: Valid topology\n",
      "✅ Parent station 9021005001252000 [Bidirectional]: Valid topology\n",
      "✅ Parent station 9021005001221000 [Unidirectional]: Valid topology\n",
      "✅ Parent station 9021005001318000 [Bidirectional]: Valid topology\n",
      "✅ Parent station 9021005001447000 [Unidirectional]: Valid topology\n",
      "✅ Parent station 9021005001332000 [Bidirectional]: Valid topology\n",
      "✅ Parent station 9021005001392000 [Bidirectional]: Valid topology\n",
      "✅ Parent station 9021005000048000 [Shared]: Valid topology\n",
      "✅ Parent station 9021005001411000 [Bidirectional]: Valid topology\n",
      "✅ Parent station 9021005001236000 [Bidirectional]: Valid topology\n",
      "✅ Parent station 9021005000042000 [Bidirectional]: Valid topology\n",
      "✅ Parent station 9021005001241000 [Bidirectional]: Valid topology\n",
      "✅ Parent station 9021005000046000 [Bidirectional]: Valid topology\n",
      "✅ Parent station 9021005000049000 [Bidirectional]: Valid topology\n",
      "✅ Parent station 9021005001243000 [Bidirectional]: Valid topology\n",
      "✅ Parent station 9021005001240000 [Bidirectional]: Valid topology\n",
      "✅ Parent station 9021005001239000 [Bidirectional]: Valid topology\n",
      "✅ Parent station 9021005001238000 [Bidirectional]: Valid topology\n",
      "✅ Parent station 9021005000050000 [Bidirectional]: Valid topology\n",
      "✅ Parent station 9021005000429000 [Bidirectional]: Valid topology\n",
      "✅ Parent station 9021005004171000 [Bidirectional]: Valid topology\n",
      "✅ Parent station 9021005000444000 [Bidirectional]: Valid topology\n",
      "✅ Parent station 9021005003974000 [Bidirectional]: Valid topology\n",
      "✅ Parent station 9021005000329000 [Bidirectional]: Valid topology\n",
      "✅ Parent station 9021005001222000 [Unidirectional]: Valid topology\n",
      "Parent station validation complete: 0 violations found\n",
      "Validating individual stop ID directions...\n",
      "Stop ID validation complete: 0 violations found\n",
      "Found 0 parent station + 0 stop ID violations\n",
      "✅ Topology validation complete with 0 total violations\n",
      "STEP 2: Direction topology validation...\n",
      "\n",
      "=== COMPLETE DIRECTION VALIDATION WORKFLOW ===\n",
      "Found 2 direction + 2 stop violations\n",
      "✅ Direction topology validation complete with 4 total violations\n",
      "✅ DataFormer initialization complete!\n",
      "📤 Exported full logs and navigation for route 9011005020500000 -> 205\n",
      "📦 Classification export complete: 83 stop topology labels, 2 direction labels, 55 direction-stop labels.\n",
      "processing raw data for route 206\n",
      "Removing 0 duplicates.\n",
      "STEP 1: Stop topology validation...\n",
      "\n",
      "=== COMPLETE STOP VALIDATION WORKFLOW ===\n",
      "Validating parent station topology...\n",
      "✅ Parent station 9021005001443000 [Bidirectional]: Valid topology\n",
      "✅ Parent station 9021005001444000 [Bidirectional]: Valid topology\n",
      "✅ Parent station 9021005000221000 [Bidirectional]: Valid topology\n",
      "✅ Parent station 9021005001446000 [Bidirectional]: Valid topology\n",
      "✅ Parent station 9021005001450000 [Bidirectional]: Valid topology\n",
      "✅ Parent station 9021005001452000 [Bidirectional]: Valid topology\n",
      "✅ Parent station 9021005001453000 [Bidirectional]: Valid topology\n",
      "✅ Parent station 9021005000222000 [Bidirectional]: Valid topology\n",
      "✅ Parent station 9021005001551000 [Bidirectional]: Valid topology\n",
      "✅ Parent station 9021005004138000 [Bidirectional]: Valid topology\n",
      "✅ Parent station 9021005000050000 [Shared]: Valid topology\n",
      "✅ Parent station 9021005001268000 [Bidirectional]: Valid topology\n",
      "✅ Parent station 9021005001253000 [Bidirectional]: Valid topology\n",
      "✅ Parent station 9021005001254000 [Bidirectional]: Valid topology\n",
      "✅ Parent station 9021005000215000 [Bidirectional]: Valid topology\n",
      "✅ Parent station 9021005001243000 [Bidirectional]: Valid topology\n",
      "✅ Parent station 9021005001259000 [Bidirectional]: Valid topology\n",
      "Parent station validation complete: 0 violations found\n",
      "Validating individual stop ID directions...\n",
      "Stop ID validation complete: 0 violations found\n",
      "Found 0 parent station + 0 stop ID violations\n",
      "✅ Topology validation complete with 0 total violations\n",
      "STEP 2: Direction topology validation...\n",
      "\n",
      "=== COMPLETE DIRECTION VALIDATION WORKFLOW ===\n",
      "Found 2 direction + 4 stop violations\n",
      "✅ Direction topology validation complete with 6 total violations\n",
      "✅ DataFormer initialization complete!\n",
      "📤 Exported full logs and navigation for route 9011005020600000 -> 206\n",
      "📦 Classification export complete: 50 stop topology labels, 2 direction labels, 34 direction-stop labels.\n",
      "processing raw data for route 210\n",
      "Removing 0 duplicates.\n",
      "STEP 1: Stop topology validation...\n",
      "\n",
      "=== COMPLETE STOP VALIDATION WORKFLOW ===\n",
      "Validating parent station topology...\n",
      "✅ Parent station 9021005002954000 [Bidirectional]: Valid topology\n",
      "✅ Parent station 9021005002953000 [Bidirectional]: Valid topology\n",
      "✅ Parent station 9021005080005000 [Bidirectional]: Valid topology\n",
      "✅ Parent station 9021005002949000 [Bidirectional]: Valid topology\n",
      "✅ Parent station 9021005000320000 [Bidirectional]: Valid topology\n",
      "✅ Parent station 9021005000153000 [Shared]: Valid topology\n",
      "✅ Parent station 9021005002946000 [Bidirectional]: Valid topology\n",
      "✅ Parent station 9021005002024000 [Bidirectional]: Valid topology\n",
      "✅ Parent station 9021005000439000 [Bidirectional]: Valid topology\n",
      "✅ Parent station 9021005002025000 [Bidirectional]: Valid topology\n",
      "✅ Parent station 9021005001243000 [Bidirectional]: Valid topology\n",
      "✅ Parent station 9021005002026000 [Bidirectional]: Valid topology\n",
      "✅ Parent station 9021005000448000 [Bidirectional]: Valid topology\n",
      "✅ Parent station 9021005001332000 [Bidirectional]: Valid topology\n",
      "✅ Parent station 9021005000042000 [Bidirectional]: Valid topology\n",
      "✅ Parent station 9021005000046000 [Bidirectional]: Valid topology\n",
      "✅ Parent station 9021005001447000 [Unidirectional]: Valid topology\n",
      "✅ Parent station 9021005001221000 [Unidirectional]: Valid topology\n",
      "✅ Parent station 9021005001392000 [Bidirectional]: Valid topology\n",
      "✅ Parent station 9021005001252000 [Bidirectional]: Valid topology\n",
      "✅ Parent station 9021005003595000 [Bidirectional]: Valid topology\n",
      "✅ Parent station 9021005002028000 [Bidirectional]: Valid topology\n",
      "✅ Parent station 9021005002030000 [Bidirectional]: Valid topology\n",
      "✅ Parent station 9021005000155000 [Bidirectional]: Valid topology\n",
      "✅ Parent station 9021005002014000 [Bidirectional]: Valid topology\n",
      "✅ Parent station 9021005000440000 [Bidirectional]: Valid topology\n",
      "✅ Parent station 9021005002015000 [Bidirectional]: Valid topology\n",
      "✅ Parent station 9021005001458000 [Bidirectional]: Valid topology\n",
      "✅ Parent station 9021005000423000 [Unidirectional]: Valid topology\n",
      "✅ Parent station 9021005000050000 [Bidirectional]: Valid topology\n",
      "✅ Parent station 9021005001222000 [Unidirectional]: Valid topology\n",
      "Parent station validation complete: 0 violations found\n",
      "Validating individual stop ID directions...\n",
      "Stop ID validation complete: 0 violations found\n",
      "Found 0 parent station + 0 stop ID violations\n",
      "✅ Topology validation complete with 0 total violations\n",
      "STEP 2: Direction topology validation...\n",
      "\n",
      "=== COMPLETE DIRECTION VALIDATION WORKFLOW ===\n",
      "Found 2 direction + 14 stop violations\n",
      "✅ Direction topology validation complete with 16 total violations\n",
      "✅ DataFormer initialization complete!\n",
      "📤 Exported full logs and navigation for route 9011005021000000 -> 210\n",
      "📦 Classification export complete: 88 stop topology labels, 2 direction labels, 58 direction-stop labels.\n",
      "processing raw data for route 211\n",
      "Removing 0 duplicates.\n",
      "STEP 1: Stop topology validation...\n",
      "\n",
      "=== COMPLETE STOP VALIDATION WORKFLOW ===\n",
      "Validating parent station topology...\n",
      "✅ Parent station 9021005000050000 [Shared]: Valid topology\n",
      "✅ Parent station 9021005001243000 [Bidirectional]: Valid topology\n",
      "✅ Parent station 9021005001261000 [Bidirectional]: Valid topology\n",
      "✅ Parent station 9021005000231000 [Shared]: Valid topology\n",
      "✅ Parent station 9021005003854000 [Bidirectional]: Valid topology\n",
      "✅ Parent station 9021005001319000 [Bidirectional]: Valid topology\n",
      "✅ Parent station 9021005001320000 [Bidirectional]: Valid topology\n",
      "✅ Parent station 9021005001321000 [Bidirectional]: Valid topology\n",
      "✅ Parent station 9021005000230000 [Bidirectional]: Valid topology\n",
      "✅ Parent station 9021005001262000 [Bidirectional]: Valid topology\n",
      "✅ Parent station 9021005000216000 [Bidirectional]: Valid topology\n",
      "✅ Parent station 9021005001323000 [Bidirectional]: Valid topology\n",
      "✅ Parent station 9021005000046000 [Bidirectional]: Valid topology\n",
      "Parent station validation complete: 0 violations found\n",
      "Validating individual stop ID directions...\n",
      "Stop ID validation complete: 0 violations found\n",
      "Found 0 parent station + 0 stop ID violations\n",
      "✅ Topology validation complete with 0 total violations\n",
      "STEP 2: Direction topology validation...\n",
      "\n",
      "=== COMPLETE DIRECTION VALIDATION WORKFLOW ===\n",
      "Found 2 direction + 2 stop violations\n",
      "✅ Direction topology validation complete with 4 total violations\n",
      "✅ DataFormer initialization complete!\n",
      "📤 Exported full logs and navigation for route 9011005021100000 -> 211\n",
      "📦 Classification export complete: 37 stop topology labels, 2 direction labels, 26 direction-stop labels.\n",
      "processing raw data for route 212\n",
      "Removing 0 duplicates.\n",
      "STEP 1: Stop topology validation...\n",
      "\n",
      "=== COMPLETE STOP VALIDATION WORKFLOW ===\n",
      "Validating parent station topology...\n",
      "✅ Parent station 9021005000050000 [Shared]: Valid topology\n",
      "✅ Parent station 9021005001223000 [Bidirectional]: Valid topology\n",
      "✅ Parent station 9021005000417000 [Bidirectional]: Valid topology\n",
      "✅ Parent station 9021005003848000 [Bidirectional]: Valid topology\n",
      "✅ Parent station 9021005001253000 [Bidirectional]: Valid topology\n",
      "✅ Parent station 9021005001254000 [Bidirectional]: Valid topology\n",
      "✅ Parent station 9021005000215000 [Bidirectional]: Valid topology\n",
      "✅ Parent station 9021005001274000 [Bidirectional]: Valid topology\n",
      "✅ Parent station 9021005001273000 [Bidirectional]: Valid topology\n",
      "✅ Parent station 9021005001275000 [Bidirectional]: Valid topology\n",
      "✅ Parent station 9021005003870000 [Bidirectional]: Valid topology\n",
      "✅ Parent station 9021005004232000 [Bidirectional]: Valid topology\n",
      "✅ Parent station 9021005003847000 [Bidirectional]: Valid topology\n",
      "✅ Parent station 9021005000213000 [Bidirectional]: Valid topology\n",
      "✅ Parent station 9021005001256000 [Bidirectional]: Valid topology\n",
      "✅ Parent station 9021005001257000 [Bidirectional]: Valid topology\n",
      "✅ Parent station 9021005000418000 [Shared]: Valid topology\n",
      "Parent station validation complete: 0 violations found\n",
      "Validating individual stop ID directions...\n",
      "Stop ID validation complete: 0 violations found\n",
      "Found 0 parent station + 0 stop ID violations\n",
      "✅ Topology validation complete with 0 total violations\n",
      "STEP 2: Direction topology validation...\n",
      "\n",
      "=== COMPLETE DIRECTION VALIDATION WORKFLOW ===\n",
      "Found 2 direction + 0 stop violations\n",
      "✅ Direction topology validation complete with 2 total violations\n",
      "✅ DataFormer initialization complete!\n",
      "📤 Exported full logs and navigation for route 9011005021200000 -> 212\n",
      "📦 Classification export complete: 49 stop topology labels, 2 direction labels, 34 direction-stop labels.\n",
      "processing raw data for route 213\n",
      "Removing 0 duplicates.\n",
      "STEP 1: Stop topology validation...\n",
      "\n",
      "=== COMPLETE STOP VALIDATION WORKFLOW ===\n",
      "Validating parent station topology...\n",
      "✅ Parent station 9021005001346000 [Bidirectional]: Valid topology\n",
      "✅ Parent station 9021005001252000 [Bidirectional]: Valid topology\n",
      "✅ Parent station 9021005001447000 [Unidirectional]: Valid topology\n",
      "✅ Parent station 9021005001348000 [Bidirectional]: Valid topology\n",
      "✅ Parent station 9021005001262000 [Bidirectional]: Valid topology\n",
      "✅ Parent station 9021005000042000 [Bidirectional]: Valid topology\n",
      "✅ Parent station 9021005000216000 [Bidirectional]: Valid topology\n",
      "✅ Parent station 9021005000217000 [Shared]: Valid topology\n",
      "✅ Parent station 9021005001261000 [Bidirectional]: Valid topology\n",
      "✅ Parent station 9021005001221000 [Unidirectional]: Valid topology\n",
      "✅ Parent station 9021005000046000 [Bidirectional]: Valid topology\n",
      "✅ Parent station 9021005001243000 [Bidirectional]: Valid topology\n",
      "✅ Parent station 9021005000050000 [Bidirectional]: Valid topology\n",
      "✅ Parent station 9021005000423000 [Bidirectional]: Valid topology\n",
      "✅ Parent station 9021005000351000 [Bidirectional]: Valid topology\n",
      "✅ Parent station 9021005001460000 [Bidirectional]: Valid topology\n",
      "✅ Parent station 9021005001609000 [Bidirectional]: Valid topology\n",
      "✅ Parent station 9021005000095000 [Bidirectional]: Valid topology\n",
      "✅ Parent station 9021005001605000 [Bidirectional]: Valid topology\n",
      "✅ Parent station 9021005001604000 [Bidirectional]: Valid topology\n",
      "✅ Parent station 9021005001610000 [Bidirectional]: Valid topology\n",
      "✅ Parent station 9021005001607000 [Bidirectional]: Valid topology\n",
      "✅ Parent station 9021005004078000 [Bidirectional]: Valid topology\n",
      "✅ Parent station 9021005001327000 [Bidirectional]: Valid topology\n",
      "✅ Parent station 9021005000096000 [Bidirectional]: Valid topology\n",
      "✅ Parent station 9021005001322000 [Bidirectional]: Valid topology\n",
      "✅ Parent station 9021005001222000 [Unidirectional]: Valid topology\n",
      "✅ Parent station 9021005080007000 [Bidirectional]: Valid topology\n",
      "Parent station validation complete: 0 violations found\n",
      "Validating individual stop ID directions...\n",
      "Stop ID validation complete: 0 violations found\n",
      "Found 0 parent station + 0 stop ID violations\n",
      "✅ Topology validation complete with 0 total violations\n",
      "STEP 2: Direction topology validation...\n",
      "\n",
      "=== COMPLETE DIRECTION VALIDATION WORKFLOW ===\n",
      "Found 2 direction + 10 stop violations\n",
      "✅ Direction topology validation complete with 12 total violations\n",
      "✅ DataFormer initialization complete!\n",
      "📤 Exported full logs and navigation for route 9011005021300000 -> 213\n",
      "📦 Classification export complete: 82 stop topology labels, 2 direction labels, 55 direction-stop labels.\n",
      "processing raw data for route 214\n",
      "Removing 0 duplicates.\n",
      "STEP 1: Stop topology validation...\n",
      "\n",
      "=== COMPLETE STOP VALIDATION WORKFLOW ===\n",
      "Validating parent station topology...\n",
      "✅ Parent station 9021005000416000 [Shared]: Valid topology\n",
      "✅ Parent station 9021005000226000 [Bidirectional]: Valid topology\n",
      "✅ Parent station 9021005001394000 [Bidirectional]: Valid topology\n",
      "✅ Parent station 9021005000437000 [Bidirectional]: Valid topology\n",
      "✅ Parent station 9021005001398000 [Bidirectional]: Valid topology\n",
      "✅ Parent station 9021005001400000 [Bidirectional]: Valid topology\n",
      "✅ Parent station 9021005001401000 [Bidirectional]: Valid topology\n",
      "✅ Parent station 9021005003850000 [Bidirectional]: Valid topology\n",
      "✅ Parent station 9021005000054000 [Bidirectional]: Valid topology\n",
      "✅ Parent station 9021005003559000 [Bidirectional]: Valid topology\n",
      "✅ Parent station 9021005001318000 [Bidirectional]: Valid topology\n",
      "✅ Parent station 9021005001227000 [Bidirectional]: Valid topology\n",
      "✅ Parent station 9021005001329000 [Bidirectional]: Valid topology\n",
      "✅ Parent station 9021005001231000 [Bidirectional]: Valid topology\n",
      "✅ Parent station 9021005000045000 [Unidirectional]: Valid topology\n",
      "✅ Parent station 9021005000043000 [Bidirectional]: Valid topology\n",
      "✅ Parent station 9021005001330000 [Bidirectional]: Valid topology\n",
      "✅ Parent station 9021005001221000 [Unidirectional]: Valid topology\n",
      "✅ Parent station 9021005001309000 [Bidirectional]: Valid topology\n",
      "✅ Parent station 9021005000215000 [Bidirectional]: Valid topology\n",
      "✅ Parent station 9021005000042000 [Bidirectional]: Valid topology\n",
      "✅ Parent station 9021005003908000 [Bidirectional]: Valid topology\n",
      "✅ Parent station 9021005000046000 [Bidirectional]: Valid topology\n",
      "✅ Parent station 9021005003849000 [Bidirectional]: Valid topology\n",
      "✅ Parent station 9021005001405000 [Bidirectional]: Valid topology\n",
      "✅ Parent station 9021005003748000 [Bidirectional]: Valid topology\n",
      "✅ Parent station 9021005001243000 [Bidirectional]: Valid topology\n",
      "✅ Parent station 9021005000050000 [Bidirectional]: Valid topology\n",
      "✅ Parent station 9021005001222000 [Unidirectional]: Valid topology\n",
      "✅ Parent station 9021005001224000 [Unidirectional]: Valid topology\n",
      "Parent station validation complete: 0 violations found\n",
      "Validating individual stop ID directions...\n",
      "Stop ID validation complete: 0 violations found\n",
      "Found 0 parent station + 0 stop ID violations\n",
      "✅ Topology validation complete with 0 total violations\n",
      "STEP 2: Direction topology validation...\n",
      "\n",
      "=== COMPLETE DIRECTION VALIDATION WORKFLOW ===\n",
      "Found 2 direction + 2 stop violations\n",
      "✅ Direction topology validation complete with 4 total violations\n",
      "✅ DataFormer initialization complete!\n",
      "📤 Exported full logs and navigation for route 9011005021400000 -> 214\n",
      "📦 Classification export complete: 85 stop topology labels, 2 direction labels, 56 direction-stop labels.\n",
      "processing raw data for route 215\n",
      "Removing 0 duplicates.\n",
      "STEP 1: Stop topology validation...\n",
      "\n",
      "=== COMPLETE STOP VALIDATION WORKFLOW ===\n",
      "Validating parent station topology...\n",
      "✅ Parent station 9021005000508000 [Bidirectional]: Valid topology\n",
      "✅ Parent station 9021005000507000 [Bidirectional]: Valid topology\n",
      "✅ Parent station 9021005004088000 [Bidirectional]: Valid topology\n",
      "✅ Parent station 9021005004087000 [Bidirectional]: Valid topology\n",
      "✅ Parent station 9021005001598000 [Bidirectional]: Valid topology\n",
      "✅ Parent station 9021005003838000 [Bidirectional]: Valid topology\n",
      "✅ Parent station 9021005000046000 [Bidirectional]: Valid topology\n",
      "✅ Parent station 9021005001227000 [Bidirectional]: Valid topology\n",
      "✅ Parent station 9021005001221000 [Unidirectional]: Valid topology\n",
      "✅ Parent station 9021005000042000 [Bidirectional]: Valid topology\n",
      "✅ Parent station 9021005001232000 [Bidirectional]: Valid topology\n",
      "✅ Parent station 9021005001233000 [Bidirectional]: Valid topology\n",
      "✅ Parent station 9021005001243000 [Bidirectional]: Valid topology\n",
      "✅ Parent station 9021005000050000 [Shared]: Valid topology\n",
      "✅ Parent station 9021005000043000 [Bidirectional]: Valid topology\n",
      "✅ Parent station 9021005000045000 [Bidirectional]: Valid topology\n",
      "✅ Parent station 9021005001231000 [Bidirectional]: Valid topology\n",
      "✅ Parent station 9021005001222000 [Unidirectional]: Valid topology\n",
      "Parent station validation complete: 0 violations found\n",
      "Validating individual stop ID directions...\n",
      "Stop ID validation complete: 0 violations found\n",
      "Found 0 parent station + 0 stop ID violations\n",
      "✅ Topology validation complete with 0 total violations\n",
      "STEP 2: Direction topology validation...\n",
      "\n",
      "=== COMPLETE DIRECTION VALIDATION WORKFLOW ===\n",
      "Found 2 direction + 2 stop violations\n",
      "✅ Direction topology validation complete with 4 total violations\n",
      "✅ DataFormer initialization complete!\n",
      "📤 Exported full logs and navigation for route 9011005021500000 -> 215\n",
      "📦 Classification export complete: 51 stop topology labels, 2 direction labels, 34 direction-stop labels.\n",
      "processing raw data for route 216\n",
      "Removing 0 duplicates.\n",
      "STEP 1: Stop topology validation...\n",
      "\n",
      "=== COMPLETE STOP VALIDATION WORKFLOW ===\n",
      "Validating parent station topology...\n",
      "✅ Parent station 9021005001394000 [Bidirectional]: Valid topology\n",
      "✅ Parent station 9021005000226000 [Bidirectional]: Valid topology\n",
      "✅ Parent station 9021005000416000 [Shared]: Valid topology\n",
      "✅ Parent station 9021005000437000 [Bidirectional]: Valid topology\n",
      "✅ Parent station 9021005001396000 [Bidirectional]: Valid topology\n",
      "✅ Parent station 9021005001433000 [Bidirectional]: Valid topology\n",
      "✅ Parent station 9021005000422000 [Bidirectional]: Valid topology\n",
      "✅ Parent station 9021005001435000 [Bidirectional]: Valid topology\n",
      "✅ Parent station 9021005001445000 [Bidirectional]: Valid topology\n",
      "🚩 Parent station 9021005001437000 [Undefined]: 2-stop station with wrong configuration: 1 single + 1 multi (expected: 2 single + 0 multi)\n",
      "✅ Parent station 9021005001421000 [Bidirectional]: Valid topology\n",
      "✅ Parent station 9021005001418000 [Bidirectional]: Valid topology\n",
      "✅ Parent station 9021005001419000 [Bidirectional]: Valid topology\n",
      "✅ Parent station 9021005001323000 [Bidirectional]: Valid topology\n",
      "✅ Parent station 9021005001426000 [Bidirectional]: Valid topology\n",
      "✅ Parent station 9021005000421000 [Bidirectional]: Valid topology\n",
      "✅ Parent station 9021005001424000 [Bidirectional]: Valid topology\n",
      "✅ Parent station 9021005001422000 [Bidirectional]: Valid topology\n",
      "✅ Parent station 9021005000198000 [Bidirectional]: Valid topology\n",
      "✅ Parent station 9021005004186000 [Bidirectional]: Valid topology\n",
      "✅ Parent station 9021005000412000 [Bidirectional]: Valid topology\n",
      "✅ Parent station 9021005001249000 [Bidirectional]: Valid topology\n",
      "✅ Parent station 9021005001431000 [Bidirectional]: Valid topology\n",
      "✅ Parent station 9021005001430000 [Bidirectional]: Valid topology\n",
      "✅ Parent station 9021005000042000 [Bidirectional]: Valid topology\n",
      "✅ Parent station 9021005000050000 [Bidirectional]: Valid topology\n",
      "✅ Parent station 9021005001243000 [Bidirectional]: Valid topology\n",
      "✅ Parent station 9021005000046000 [Bidirectional]: Valid topology\n",
      "Parent station validation complete: 1 violations found\n",
      "Validating individual stop ID directions...\n",
      "Stop ID validation complete: 0 violations found\n",
      "Found 1 parent station + 0 stop ID violations\n",
      "✅ Topology validation complete with 1 total violations\n",
      "STEP 2: Direction topology validation...\n",
      "\n",
      "=== COMPLETE DIRECTION VALIDATION WORKFLOW ===\n",
      "Found 2 direction + 4 stop violations\n",
      "✅ Direction topology validation complete with 6 total violations\n",
      "✅ DataFormer initialization complete!\n",
      "📤 Exported full logs and navigation for route 9011005021600000 -> 216\n",
      "📦 Classification export complete: 83 stop topology labels, 2 direction labels, 57 direction-stop labels.\n",
      "processing raw data for route 217\n",
      "Removing 0 duplicates.\n",
      "STEP 1: Stop topology validation...\n",
      "\n",
      "=== COMPLETE STOP VALIDATION WORKFLOW ===\n",
      "Validating parent station topology...\n",
      "✅ Parent station 9021005000416000 [Shared]: Valid topology\n",
      "✅ Parent station 9021005001598000 [Bidirectional]: Valid topology\n",
      "✅ Parent station 9021005003838000 [Bidirectional]: Valid topology\n",
      "✅ Parent station 9021005001230000 [Bidirectional]: Valid topology\n",
      "✅ Parent station 9021005001229000 [Bidirectional]: Valid topology\n",
      "✅ Parent station 9021005000044000 [Bidirectional]: Valid topology\n",
      "✅ Parent station 9021005001596000 [Bidirectional]: Valid topology\n",
      "✅ Parent station 9021005001303000 [Bidirectional]: Valid topology\n",
      "✅ Parent station 9021005001302000 [Bidirectional]: Valid topology\n",
      "✅ Parent station 9021005001301000 [Bidirectional]: Valid topology\n",
      "✅ Parent station 9021005001300000 [Bidirectional]: Valid topology\n",
      "✅ Parent station 9021005001430000 [Bidirectional]: Valid topology\n",
      "✅ Parent station 9021005000412000 [Bidirectional]: Valid topology\n",
      "✅ Parent station 9021005001431000 [Bidirectional]: Valid topology\n",
      "✅ Parent station 9021005001243000 [Bidirectional]: Valid topology\n",
      "✅ Parent station 9021005000050000 [Shared]: Valid topology\n",
      "✅ Parent station 9021005000042000 [Bidirectional]: Valid topology\n",
      "✅ Parent station 9021005000046000 [Bidirectional]: Valid topology\n",
      "✅ Parent station 9021005000198000 [Bidirectional]: Valid topology\n",
      "✅ Parent station 9021005004186000 [Bidirectional]: Valid topology\n",
      "✅ Parent station 9021005001249000 [Bidirectional]: Valid topology\n",
      "✅ Parent station 9021005000043000 [Unidirectional]: Valid topology\n",
      "Parent station validation complete: 0 violations found\n",
      "Validating individual stop ID directions...\n",
      "Stop ID validation complete: 0 violations found\n",
      "Found 0 parent station + 0 stop ID violations\n",
      "✅ Topology validation complete with 0 total violations\n",
      "STEP 2: Direction topology validation...\n",
      "\n",
      "=== COMPLETE DIRECTION VALIDATION WORKFLOW ===\n",
      "Found 2 direction + 2 stop violations\n",
      "✅ Direction topology validation complete with 4 total violations\n",
      "✅ DataFormer initialization complete!\n",
      "📤 Exported full logs and navigation for route 9011005021700000 -> 217\n",
      "📦 Classification export complete: 63 stop topology labels, 2 direction labels, 43 direction-stop labels.\n",
      "processing raw data for route 218\n",
      "Removing 0 duplicates.\n",
      "STEP 1: Stop topology validation...\n",
      "\n",
      "=== COMPLETE STOP VALIDATION WORKFLOW ===\n",
      "Validating parent station topology...\n",
      "✅ Parent station 9021005000215000 [Bidirectional]: Valid topology\n",
      "✅ Parent station 9021005001307000 [Bidirectional]: Valid topology\n",
      "✅ Parent station 9021005000050000 [Shared]: Valid topology\n",
      "✅ Parent station 9021005001243000 [Bidirectional]: Valid topology\n",
      "✅ Parent station 9021005000430000 [Bidirectional]: Valid topology\n",
      "✅ Parent station 9021005004091000 [Bidirectional]: Valid topology\n",
      "✅ Parent station 9021005003580000 [Bidirectional]: Valid topology\n",
      "✅ Parent station 9021005001249000 [Bidirectional]: Valid topology\n",
      "✅ Parent station 9021005000198000 [Bidirectional]: Valid topology\n",
      "✅ Parent station 9021005001248000 [Bidirectional]: Valid topology\n",
      "✅ Parent station 9021005000229000 [Bidirectional]: Valid topology\n",
      "✅ Parent station 9021005004067000 [Bidirectional]: Valid topology\n",
      "✅ Parent station 9021005000042000 [Bidirectional]: Valid topology\n",
      "✅ Parent station 9021005000046000 [Bidirectional]: Valid topology\n",
      "Parent station validation complete: 0 violations found\n",
      "Validating individual stop ID directions...\n",
      "Stop ID validation complete: 0 violations found\n",
      "Found 0 parent station + 0 stop ID violations\n",
      "✅ Topology validation complete with 0 total violations\n",
      "STEP 2: Direction topology validation...\n",
      "\n",
      "=== COMPLETE DIRECTION VALIDATION WORKFLOW ===\n",
      "Found 2 direction + 8 stop violations\n",
      "✅ Direction topology validation complete with 10 total violations\n",
      "✅ DataFormer initialization complete!\n",
      "📤 Exported full logs and navigation for route 9011005021800000 -> 218\n",
      "📦 Classification export complete: 41 stop topology labels, 2 direction labels, 28 direction-stop labels.\n",
      "processing raw data for route 220\n",
      "Removing 0 duplicates.\n",
      "STEP 1: Stop topology validation...\n",
      "\n",
      "=== COMPLETE STOP VALIDATION WORKFLOW ===\n",
      "Validating parent station topology...\n",
      "✅ Parent station 9021005004139000 [Bidirectional]: Valid topology\n",
      "✅ Parent station 9021005003847000 [Bidirectional]: Valid topology\n",
      "✅ Parent station 9021005001257000 [Bidirectional]: Valid topology\n",
      "✅ Parent station 9021005001256000 [Bidirectional]: Valid topology\n",
      "✅ Parent station 9021005000050000 [Shared]: Valid topology\n",
      "✅ Parent station 9021005004232000 [Bidirectional]: Valid topology\n",
      "Parent station validation complete: 0 violations found\n",
      "Validating individual stop ID directions...\n",
      "Stop ID validation complete: 0 violations found\n",
      "Found 0 parent station + 0 stop ID violations\n",
      "✅ Topology validation complete with 0 total violations\n",
      "STEP 2: Direction topology validation...\n",
      "\n",
      "=== COMPLETE DIRECTION VALIDATION WORKFLOW ===\n",
      "Found 2 direction + 0 stop violations\n",
      "✅ Direction topology validation complete with 2 total violations\n",
      "✅ DataFormer initialization complete!\n",
      "📤 Exported full logs and navigation for route 9011005022000000 -> 220\n",
      "📦 Classification export complete: 17 stop topology labels, 2 direction labels, 12 direction-stop labels.\n",
      "processing raw data for route 221\n",
      "Removing 0 duplicates.\n",
      "STEP 1: Stop topology validation...\n",
      "\n",
      "=== COMPLETE STOP VALIDATION WORKFLOW ===\n",
      "Validating parent station topology...\n",
      "✅ Parent station 9021005001419000 [Bidirectional]: Valid topology\n",
      "✅ Parent station 9021005001418000 [Bidirectional]: Valid topology\n",
      "✅ Parent station 9021005000435000 [Bidirectional]: Valid topology\n",
      "✅ Parent station 9021005001424000 [Bidirectional]: Valid topology\n",
      "✅ Parent station 9021005001422000 [Bidirectional]: Valid topology\n",
      "✅ Parent station 9021005000050000 [Shared]: Valid topology\n",
      "✅ Parent station 9021005001421000 [Bidirectional]: Valid topology\n",
      "Parent station validation complete: 0 violations found\n",
      "Validating individual stop ID directions...\n",
      "Stop ID validation complete: 0 violations found\n",
      "Found 0 parent station + 0 stop ID violations\n",
      "✅ Topology validation complete with 0 total violations\n",
      "STEP 2: Direction topology validation...\n",
      "\n",
      "=== COMPLETE DIRECTION VALIDATION WORKFLOW ===\n",
      "Found 2 direction + 0 stop violations\n",
      "✅ Direction topology validation complete with 2 total violations\n",
      "✅ DataFormer initialization complete!\n",
      "📤 Exported full logs and navigation for route 9011005022100000 -> 221\n",
      "📦 Classification export complete: 20 stop topology labels, 2 direction labels, 14 direction-stop labels.\n",
      "processing raw data for route 222\n",
      "Removing 0 duplicates.\n",
      "STEP 1: Stop topology validation...\n",
      "\n",
      "=== COMPLETE STOP VALIDATION WORKFLOW ===\n",
      "Validating parent station topology...\n",
      "✅ Parent station 9021005001318000 [Bidirectional]: Valid topology\n",
      "✅ Parent station 9021005003559000 [Bidirectional]: Valid topology\n",
      "✅ Parent station 9021005000054000 [Bidirectional]: Valid topology\n",
      "✅ Parent station 9021005003850000 [Bidirectional]: Valid topology\n",
      "✅ Parent station 9021005001401000 [Bidirectional]: Valid topology\n",
      "✅ Parent station 9021005001400000 [Bidirectional]: Valid topology\n",
      "✅ Parent station 9021005001398000 [Bidirectional]: Valid topology\n",
      "✅ Parent station 9021005000437000 [Bidirectional]: Valid topology\n",
      "✅ Parent station 9021005001394000 [Bidirectional]: Valid topology\n",
      "✅ Parent station 9021005000226000 [Bidirectional]: Valid topology\n",
      "✅ Parent station 9021005000416000 [Bidirectional]: Valid topology\n",
      "✅ Parent station 9021005001598000 [Bidirectional]: Valid topology\n",
      "✅ Parent station 9021005003838000 [Bidirectional]: Valid topology\n",
      "✅ Parent station 9021005001233000 [Bidirectional]: Valid topology\n",
      "✅ Parent station 9021005001232000 [Bidirectional]: Valid topology\n",
      "✅ Parent station 9021005000045000 [Bidirectional]: Valid topology\n",
      "✅ Parent station 9021005001231000 [Bidirectional]: Valid topology\n",
      "✅ Parent station 9021005001430000 [Bidirectional]: Valid topology\n",
      "✅ Parent station 9021005001431000 [Bidirectional]: Valid topology\n",
      "✅ Parent station 9021005080182000 [Bidirectional]: Valid topology\n",
      "✅ Parent station 9021005003847000 [Bidirectional]: Valid topology\n",
      "✅ Parent station 9021005004232000 [Bidirectional]: Valid topology\n",
      "✅ Parent station 9021005000412000 [Bidirectional]: Valid topology\n",
      "✅ Parent station 9021005004139000 [Bidirectional]: Valid topology\n",
      "✅ Parent station 9021005004236000 [Bidirectional]: Valid topology\n",
      "✅ Parent station 9021005004253000 [Bidirectional]: Valid topology\n",
      "✅ Parent station 9021005080004000 [Bidirectional]: Valid topology\n",
      "✅ Parent station 9021005000043000 [Unidirectional]: Valid topology\n",
      "Parent station validation complete: 0 violations found\n",
      "Validating individual stop ID directions...\n",
      "Stop ID validation complete: 0 violations found\n",
      "Found 0 parent station + 0 stop ID violations\n",
      "✅ Topology validation complete with 0 total violations\n",
      "STEP 2: Direction topology validation...\n",
      "\n",
      "=== COMPLETE DIRECTION VALIDATION WORKFLOW ===\n",
      "Found 2 direction + 0 stop violations\n",
      "✅ Direction topology validation complete with 2 total violations\n",
      "✅ DataFormer initialization complete!\n",
      "📤 Exported full logs and navigation for route 9011005022200000 -> 222\n",
      "📦 Classification export complete: 83 stop topology labels, 2 direction labels, 55 direction-stop labels.\n",
      "processing raw data for route 226\n",
      "Removing 0 duplicates.\n",
      "STEP 1: Stop topology validation...\n",
      "\n",
      "=== COMPLETE STOP VALIDATION WORKFLOW ===\n",
      "Validating parent station topology...\n",
      "✅ Parent station 9021005004189000 [Shared]: Valid topology\n",
      "✅ Parent station 9021005004171000 [Bidirectional]: Valid topology\n",
      "✅ Parent station 9021005000429000 [Bidirectional]: Valid topology\n",
      "✅ Parent station 9021005001237000 [Bidirectional]: Valid topology\n",
      "✅ Parent station 9021005000048000 [Shared]: Valid topology\n",
      "✅ Parent station 9021005001411000 [Bidirectional]: Valid topology\n",
      "✅ Parent station 9021005001236000 [Bidirectional]: Valid topology\n",
      "✅ Parent station 9021005001315000 [Bidirectional]: Valid topology\n",
      "✅ Parent station 9021005000214000 [Bidirectional]: Valid topology\n",
      "✅ Parent station 9021005001343000 [Bidirectional]: Valid topology\n",
      "🚩 Parent station 9021005003840000 [Undefined]: 2-stop station with wrong configuration: 0 single + 2 multi (expected: 2 single + 0 multi)\n",
      "🚩 Parent station 9021005003839000 [Undefined]: 2-stop station with wrong configuration: 0 single + 2 multi (expected: 2 single + 0 multi)\n",
      "✅ Parent station 9021005000228000 [Shared]: Valid topology\n",
      "✅ Parent station 9021005004139000 [Bidirectional]: Valid topology\n",
      "✅ Parent station 9021005004232000 [Bidirectional]: Valid topology\n",
      "✅ Parent station 9021005003847000 [Bidirectional]: Valid topology\n",
      "✅ Parent station 9021005080182000 [Bidirectional]: Valid topology\n",
      "✅ Parent station 9021005001275000 [Bidirectional]: Valid topology\n",
      "✅ Parent station 9021005001274000 [Bidirectional]: Valid topology\n",
      "✅ Parent station 9021005000223000 [Bidirectional]: Valid topology\n",
      "✅ Parent station 9021005000418000 [Bidirectional]: Valid topology\n",
      "✅ Parent station 9021005000213000 [Bidirectional]: Valid topology\n",
      "✅ Parent station 9021005001273000 [Bidirectional]: Valid topology\n",
      "Parent station validation complete: 2 violations found\n",
      "Validating individual stop ID directions...\n",
      "Stop ID validation complete: 0 violations found\n",
      "Found 2 parent station + 0 stop ID violations\n",
      "✅ Topology validation complete with 2 total violations\n",
      "STEP 2: Direction topology validation...\n",
      "\n",
      "=== COMPLETE DIRECTION VALIDATION WORKFLOW ===\n",
      "Found 2 direction + 0 stop violations\n",
      "✅ Direction topology validation complete with 2 total violations\n",
      "✅ DataFormer initialization complete!\n",
      "📤 Exported full logs and navigation for route 9011005022600000 -> 226\n",
      "📦 Classification export complete: 66 stop topology labels, 2 direction labels, 50 direction-stop labels.\n"
     ]
    }
   ],
   "source": [
    "for i in num_list:\n",
    "    print(f'processing raw data for route {i}')\n",
    "    test_df = test_dataframes[i]\n",
    "    test_form = DataFormer(test_df)"
   ]
  },
  {
   "cell_type": "code",
   "execution_count": 95,
   "metadata": {},
   "outputs": [
    {
     "name": "stdout",
     "output_type": "stream",
     "text": [
      "✅ Exported: validation_logs.json\n",
      "✅ Exported: navigation_structures.json\n",
      "✅ Exported: enhanced_trip_navigation.json\n",
      "\n",
      "🌍 EXPORT COMPLETE: 3 files in route_analysis_201_9011005020100000\n"
     ]
    },
    {
     "data": {
      "text/plain": [
       "{'output_folder': 'route_analysis_201_9011005020100000',\n",
       " 'exported_files': ['route_analysis_201_9011005020100000\\\\validation_logs.json',\n",
       "  'route_analysis_201_9011005020100000\\\\navigation_structures.json',\n",
       "  'route_analysis_201_9011005020100000\\\\enhanced_trip_navigation.json']}"
      ]
     },
     "execution_count": 95,
     "metadata": {},
     "output_type": "execute_result"
    }
   ],
   "source": [
    "test_form.export_analysis()"
   ]
  },
  {
   "cell_type": "code",
   "execution_count": null,
   "metadata": {},
   "outputs": [],
   "source": []
  },
  {
   "cell_type": "code",
   "execution_count": null,
   "metadata": {},
   "outputs": [],
   "source": []
  },
  {
   "cell_type": "code",
   "execution_count": null,
   "metadata": {},
   "outputs": [],
   "source": []
  },
  {
   "cell_type": "code",
   "execution_count": 75,
   "metadata": {},
   "outputs": [
    {
     "name": "stdout",
     "output_type": "stream",
     "text": [
      "City distribution:\n",
      "city\n",
      "Linköping    266034\n",
      "Name: count, dtype: int64\n",
      "Linköping stations: ['Ekdalsvägen' 'Lövsbergsvägen' 'Aspnäset' 'Vårdsbergsvägen'\n",
      " 'Hjulsbro skola' 'Roshagsvägen' 'Ljunghagsvägen' 'Vårgård'\n",
      " 'Hackefors södra' 'Hackefors' 'Landerydsvägen' 'Saab Södra' 'Saab Civila'\n",
      " 'Stationsgatan' 'Vetegatan' 'Tannefors center' 'Korngatan' 'Humlegatan'\n",
      " 'US Norra entrén' 'Tinnerbäcksgränd' 'Rotegatan' 'US Södra entrén'\n",
      " 'Pionjärgatan' 'Berga centrum' 'Tinnerbäcksbadet'\n",
      " 'Linköpings resecentrum' 'Kungsgatan' 'Trädgårdstorget']\n",
      "Removing 0 duplicates.\n",
      "\n",
      "Found 27 potential stop pairs to process\n",
      "\n",
      "Fixes for stop pair 'Hackefors':\n",
      "  Direction mapping: {'9022005001437002': np.int64(0), '9022005001437001': np.int64(1)}\n",
      "  - Fixed 555 records for stop ID 9022005001437001 -> 9022005001437002 (dir 0): 555\n",
      "\n",
      "Made a total of 555 corrections for stop pairs\n",
      "\n",
      "Verifying potentially problematic stops after corrections:\n",
      "  No remaining direction problems found in stop pairs.\n",
      "\n",
      "Direction distribution per stop (route order):\n",
      "direction_id                                0     1\n",
      "stop_name              stop_id                     \n",
      "Aspnäset               9022005000416001  4729  4743\n",
      "Lövsbergsvägen         9022005000226002  4730     0\n",
      "Ekdalsvägen            9022005001394002  4730     0\n",
      "Vårdsbergsvägen        9022005000437002  4730     0\n",
      "Hjulsbro skola         9022005001396001  4730     0\n",
      "Roshagsvägen           9022005001433001  4730     0\n",
      "Ljunghagsvägen         9022005000422001  4730     0\n",
      "Vårgård                9022005001435001  4730     0\n",
      "Hackefors södra        9022005001445001  4730     0\n",
      "Hackefors              9022005001437002  4730     0\n",
      "Landerydsvägen         9022005001421002  4731     0\n",
      "Saab Civila            9022005001419001  4733     0\n",
      "Saab Södra             9022005001418001  4733     0\n",
      "Stationsgatan          9022005001323001  4733     0\n",
      "Vetegatan              9022005001426001  4735     0\n",
      "Tannefors center       9022005000421001  4735     0\n",
      "Korngatan              9022005001424001  4735     0\n",
      "Humlegatan             9022005001422001  4736     0\n",
      "Linköpings resecentrum 9022005000050019  4814     0\n",
      "Kungsgatan             9022005001243001  4169     0\n",
      "Trädgårdstorget        9022005000046003  4816     0\n",
      "Tinnerbäcksbadet       9022005000042001  4816     0\n",
      "US Norra entrén        9022005000198001  4816     0\n",
      "US Södra entrén        9022005001249001  4816     0\n",
      "Tinnerbäcksgränd       9022005004186001  4816     0\n",
      "Rotegatan              9022005000412001  4816     0\n",
      "Pionjärgatan           9022005001431001  4816     0\n",
      "Berga centrum          9022005001430001  4816     0\n",
      "                       9022005001430002     0  4735\n",
      "Pionjärgatan           9022005001431002     0  4735\n",
      "Rotegatan              9022005000412002     0  4736\n",
      "Tinnerbäcksgränd       9022005004186002     0  4737\n",
      "US Södra entrén        9022005001249002     0  4737\n",
      "US Norra entrén        9022005000198002     0  4739\n",
      "Tinnerbäcksbadet       9022005000042002     0  4740\n",
      "Trädgårdstorget        9022005000046006     0  4740\n",
      "Kungsgatan             9022005001243002     0  4105\n",
      "Linköpings resecentrum 9022005000050018     0  4741\n",
      "Humlegatan             9022005001422002     0  4742\n",
      "Korngatan              9022005001424002     0  4742\n",
      "Tannefors center       9022005000421002     0  4743\n",
      "Vetegatan              9022005001426002     0  4743\n",
      "Stationsgatan          9022005001323002     0  4743\n",
      "Saab Södra             9022005001418002     0  4743\n",
      "Saab Civila            9022005001419002     0  4743\n",
      "Landerydsvägen         9022005001421001     0  4743\n",
      "Hackefors              9022005001437001     0  4743\n",
      "Hackefors södra        9022005001445002     0  4743\n",
      "Vårgård                9022005001435002     0  4743\n",
      "Ljunghagsvägen         9022005000422002     0  4743\n",
      "Roshagsvägen           9022005001433002     0  4743\n",
      "Hjulsbro skola         9022005001396002     0  4743\n",
      "Vårdsbergsvägen        9022005000437001     0  4743\n",
      "Ekdalsvägen            9022005001394001     0  4743\n",
      "Lövsbergsvägen         9022005000226001     0  4743\n",
      "Memory optimization: 341.55 MB → 34.61 MB (89.9% reduction)\n"
     ]
    }
   ],
   "source": [
    "former_16 = DataFormer(test_16)"
   ]
  },
  {
   "cell_type": "code",
   "execution_count": null,
   "metadata": {},
   "outputs": [
    {
     "name": "stdout",
     "output_type": "stream",
     "text": [
      "Removing 1236 duplicates.\n",
      "\n",
      "Found 27 potential stop pairs to process\n",
      "\n",
      "Fixes for stop pair 'Hackefors':\n",
      "  Direction mapping: {'9022005001437001': np.int64(1), '9022005001437002': np.int64(0)}\n",
      "  - Fixed 555 records for stop ID 9022005001437001 -> 9022005001437002 (dir 0): 555\n",
      "\n",
      "Made a total of 555 corrections for stop pairs\n",
      "\n",
      "Verifying potentially problematic stops after corrections:\n",
      "  No remaining direction problems found in stop pairs.\n",
      "Memory optimization: 341.55 MB → 34.35 MB (89.9% reduction)\n"
     ]
    }
   ],
   "source": []
  },
  {
   "cell_type": "code",
   "execution_count": null,
   "metadata": {},
   "outputs": [],
   "source": []
  },
  {
   "cell_type": "code",
   "execution_count": null,
   "metadata": {},
   "outputs": [],
   "source": []
  },
  {
   "cell_type": "code",
   "execution_count": null,
   "metadata": {},
   "outputs": [],
   "source": []
  },
  {
   "cell_type": "code",
   "execution_count": null,
   "metadata": {},
   "outputs": [],
   "source": [
    "training_form_data = former.final_form_data[former.final_form_data['start_date'] < '2024-01-01'].copy()\n",
    "evaluation_form_data = former.final_form_data[former.final_form_data['start_date'] >= '2024-01-01'].copy()"
   ]
  },
  {
   "cell_type": "code",
   "execution_count": null,
   "metadata": {},
   "outputs": [],
   "source": [
    "print(former.clust_res_dep)\n",
    "print(former.clust_res_inc)"
   ]
  },
  {
   "cell_type": "code",
   "execution_count": null,
   "metadata": {},
   "outputs": [],
   "source": [
    "print(former.final_form_data.iloc[50])"
   ]
  },
  {
   "cell_type": "code",
   "execution_count": null,
   "metadata": {},
   "outputs": [],
   "source": [
    "group_cols_ord=['stop_id', 'stop_name','direction_id', 'month_type_ord', 'day_type', 'time_type']\n",
    "group_cols_dep=['stop_id', 'stop_name','direction_id', 'month_type_dep', 'day_type', 'time_type']\n",
    "group_cols_inc=['stop_id', 'stop_name','direction_id', 'month_type_inc', 'day_type', 'time_type']"
   ]
  },
  {
   "cell_type": "code",
   "execution_count": null,
   "metadata": {},
   "outputs": [],
   "source": [
    "\n"
   ]
  },
  {
   "cell_type": "code",
   "execution_count": null,
   "metadata": {},
   "outputs": [],
   "source": []
  },
  {
   "cell_type": "code",
   "execution_count": null,
   "metadata": {},
   "outputs": [],
   "source": [
    "import numpy as np\n",
    "ana_ord = DataAnalyzer(form_data=training_form_data, group_cols=group_cols_ord)\n",
    "ana_dep = DataAnalyzer(form_data=training_form_data, group_cols=group_cols_dep)\n",
    "ana_inc = DataAnalyzer(form_data=training_form_data, group_cols=group_cols_inc)\n",
    "\n",
    "percentiles = np.arange(10, 100, 5)\n",
    "\n",
    "ana_ord.do_route_analysis(percentiles=percentiles)\n",
    "ana_ord.save_analysis_and_form_data_to_csv(filename_ana= 'ana_ord.csv')\n",
    "\n",
    "ana_dep.do_route_analysis(percentiles=percentiles)\n",
    "ana_dep.save_analysis_and_form_data_to_csv(filename_ana= 'ana_dep.csv')\n",
    "\n",
    "ana_inc.do_route_analysis(percentiles=percentiles)\n",
    "ana_inc.save_analysis_and_form_data_to_csv(filename_ana= 'ana_inc.csv')"
   ]
  },
  {
   "cell_type": "code",
   "execution_count": null,
   "metadata": {},
   "outputs": [],
   "source": []
  },
  {
   "cell_type": "code",
   "execution_count": null,
   "metadata": {},
   "outputs": [],
   "source": [
    "analyzer_for_training_ord = DataAnalyzer()\n",
    "analyzer_for_training_dep = DataAnalyzer()\n",
    "analyzer_for_training_inc = DataAnalyzer()\n",
    "analyzer_for_training_ord.load_analysis_and_form_data_from_csv(filename_ana='ana_ord.csv')\n",
    "analyzer_for_training_dep.load_analysis_and_form_data_from_csv(filename_ana='ana_dep.csv')\n",
    "analyzer_for_training_inc.load_analysis_and_form_data_from_csv(filename_ana='ana_inc.csv')"
   ]
  },
  {
   "cell_type": "code",
   "execution_count": null,
   "metadata": {},
   "outputs": [],
   "source": [
    "for col in analyzer_for_training_inc._route_analysis.columns:\n",
    "    print(col, analyzer_for_training_inc._route_analysis[col].dtype)"
   ]
  },
  {
   "cell_type": "code",
   "execution_count": null,
   "metadata": {},
   "outputs": [],
   "source": [
    "'''The following cells should be ran with the ScheduleOptimizer set with the too early too late setting that se are interested in'''"
   ]
  },
  {
   "cell_type": "code",
   "execution_count": null,
   "metadata": {},
   "outputs": [],
   "source": [
    "\n",
    "# Create and run the optimizer\n",
    "optimizer_for_evaluation_ord = ScheduleOptimizer(evaluation_form_data.copy(), analyzer_for_training_ord)\n",
    "optimizer_for_evaluation_dep = ScheduleOptimizer(evaluation_form_data.copy(), analyzer_for_training_dep)\n",
    "optimizer_for_evaluation_inc = ScheduleOptimizer(evaluation_form_data.copy(), analyzer_for_training_inc)\n",
    "\n",
    "# Define parameter combinations to test\n",
    "clust_types = [optimizer_for_evaluation_ord, optimizer_for_evaluation_dep, optimizer_for_evaluation_inc]\n",
    "delay_types = ['departure_delay', 'incremental_delay']\n",
    "percentiles = percentiles  # Using your previously defined percenti_les\n",
    "scaling_factors = np.arange(0.1, 1.0, 0.1)\n",
    "stat_methods = ['mean', 'median']  # Add mean and median as optimization methods"
   ]
  },
  {
   "cell_type": "code",
   "execution_count": null,
   "metadata": {},
   "outputs": [],
   "source": [
    "for elem in clust_types:\n",
    "    for col in elem.enriched_data.columns:\n",
    "        print(col, elem.enriched_data[col].dtype)"
   ]
  },
  {
   "cell_type": "code",
   "execution_count": null,
   "metadata": {},
   "outputs": [],
   "source": []
  },
  {
   "cell_type": "code",
   "execution_count": null,
   "metadata": {},
   "outputs": [],
   "source": [
    "# Store results with clear identifiers\n",
    "all_summaries = {}\n",
    "\n",
    "# Process percentile-based methods\n",
    "for clust in clust_types:\n",
    "    for delay_type in delay_types:\n",
    "        for percentile in percentiles:\n",
    "            for scaling_factor in scaling_factors:\n",
    "                # Create identifier for this combination\n",
    "                key = f\"{clust}_{delay_type}_percentile_{percentile}_sf{scaling_factor}\"\n",
    "                \n",
    "                # Run optimization\n",
    "                clust.find_new_departure_times(\n",
    "                    delay_type=delay_type,\n",
    "                    opt_method=f'percentile_{percentile}',\n",
    "                    scaling_factor=scaling_factor\n",
    "                )\n",
    "                \n",
    "                # Get and store summary\n",
    "                summary = clust.get_optimization_summary(\n",
    "                    delay_type=delay_type,\n",
    "                    opt_method=f'percentile_{percentile}',\n",
    "                    scaling_factor=scaling_factor\n",
    "                )\n",
    "                \n",
    "                all_summaries[key] = summary\n",
    "            \n"
   ]
  },
  {
   "cell_type": "code",
   "execution_count": null,
   "metadata": {},
   "outputs": [],
   "source": [
    "# Process mean and median methods\n",
    "for clust in clust_types:\n",
    "    for delay_type in delay_types:\n",
    "        for stat_method in stat_methods:\n",
    "            for scaling_factor in scaling_factors:\n",
    "                # Create identifier for this combination\n",
    "                key = f\"{clust}_{delay_type}_{stat_method}_sf{scaling_factor}\"\n",
    "                \n",
    "                # Run optimization\n",
    "                clust.find_new_departure_times(\n",
    "                    delay_type=delay_type,\n",
    "                    opt_method=stat_method,\n",
    "                    scaling_factor=scaling_factor\n",
    "                )\n",
    "                \n",
    "                # Get and store summary\n",
    "                summary = clust.get_optimization_summary(\n",
    "                    delay_type=delay_type,\n",
    "                    opt_method=stat_method,\n",
    "                    scaling_factor=scaling_factor\n",
    "                )\n",
    "                \n",
    "                all_summaries[key] = summary\n",
    "\n",
    "# Count total optimizations performed\n",
    "total_optimizations = len(all_summaries)\n",
    "print(f\"Completed {total_optimizations} different optimization strategies\")\n"
   ]
  },
  {
   "cell_type": "code",
   "execution_count": null,
   "metadata": {},
   "outputs": [],
   "source": [
    "# A more useful way to examine results\n",
    "best_improvement = None\n",
    "best_config = None\n",
    "best_value = float('-inf')\n",
    "\n",
    "for key, summary in all_summaries.items():\n",
    "    # Get on-time percentage improvement\n",
    "    on_time_row = summary[summary['metric'] == 'On-Time %']\n",
    "    if not on_time_row.empty:\n",
    "        improvement = on_time_row['percent_improvement'].values[0]\n",
    "        if pd.notnull(improvement) and improvement > best_value:\n",
    "            best_value = improvement\n",
    "            best_config = key\n",
    "            best_improvement = on_time_row\n",
    "\n",
    "print(f\"Best configuration: {best_config}\")\n",
    "print(f\"On-time percentage improvement: {best_value:.2f}%\")\n",
    "print(\"Best summary:\")\n",
    "print(all_summaries[best_config])"
   ]
  },
  {
   "cell_type": "code",
   "execution_count": null,
   "metadata": {},
   "outputs": [],
   "source": []
  },
  {
   "cell_type": "code",
   "execution_count": null,
   "metadata": {},
   "outputs": [],
   "source": [
    "import pandas as pd\n",
    "\n",
    "# Create a list to hold all summary DataFrames with strategy info added\n",
    "all_dfs = []\n",
    "\n",
    "for strategy_key, summary_df in all_summaries.items():\n",
    "    # Add strategy information as columns\n",
    "    summary_df = summary_df.copy()\n",
    "    summary_df['strategy'] = strategy_key\n",
    "    \n",
    "    # Extract strategy components more safely\n",
    "    if 'incremental_delay' in strategy_key:\n",
    "        summary_df['delay_type'] = 'incremental_delay'\n",
    "    elif 'departure_delay' in strategy_key:\n",
    "        summary_df['delay_type'] = 'departure_delay'\n",
    "    else:\n",
    "        summary_df['delay_type'] = 'unknown'\n",
    "        \n",
    "    # Extract method (mean, median, percentile)\n",
    "    if 'mean' in strategy_key:\n",
    "        summary_df['method'] = 'mean'\n",
    "    elif 'median' in strategy_key:\n",
    "        summary_df['method'] = 'median'\n",
    "    elif 'percentile' in strategy_key:\n",
    "        # Extract percentile value if possible\n",
    "        import re\n",
    "        percentile_match = re.search(r'percentile_(\\d+)', strategy_key)\n",
    "        if percentile_match:\n",
    "            summary_df['method'] = f\"percentile_{percentile_match.group(1)}\"\n",
    "        else:\n",
    "            summary_df['method'] = 'percentile'\n",
    "    else:\n",
    "        summary_df['method'] = 'unknown'\n",
    "        \n",
    "    # Extract scaling factor\n",
    "    import re\n",
    "    sf_match = re.search(r'sf([\\d\\.]+)', strategy_key)\n",
    "    if sf_match:\n",
    "        summary_df['scaling_factor'] = float(sf_match.group(1))\n",
    "    else:\n",
    "        summary_df['scaling_factor'] = None\n",
    "    \n",
    "    all_dfs.append(summary_df)\n",
    "\n",
    "# Combine all DataFrames\n",
    "combined_df = pd.concat(all_dfs, ignore_index=True)\n",
    "\n",
    "# Save to CSV\n",
    "combined_df.to_csv('summaries_30to90.csv', index=False)\n",
    "\n",
    "print(f\"Saved combined summary with {len(combined_df)} rows\")"
   ]
  },
  {
   "cell_type": "code",
   "execution_count": null,
   "metadata": {},
   "outputs": [],
   "source": [
    "\n",
    "combined_summaries = pd.read_csv('summaries_30to200.csv')\n",
    "print(combined_summaries)"
   ]
  }
 ],
 "metadata": {
  "kernelspec": {
   "display_name": "Python 3",
   "language": "python",
   "name": "python3"
  },
  "language_info": {
   "codemirror_mode": {
    "name": "ipython",
    "version": 3
   },
   "file_extension": ".py",
   "mimetype": "text/x-python",
   "name": "python",
   "nbconvert_exporter": "python",
   "pygments_lexer": "ipython3",
   "version": "3.9.13"
  }
 },
 "nbformat": 4,
 "nbformat_minor": 2
}
